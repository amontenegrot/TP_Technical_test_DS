{
 "cells": [
  {
   "cell_type": "code",
   "execution_count": 1,
   "metadata": {},
   "outputs": [],
   "source": [
    "import pandas as pd\n",
    "# import numpy as np\n",
    "# import datetime\n",
    "import plotly.express as px\n",
    "import plotly.graph_objects as go\n",
    "from plotly.subplots import make_subplots\n",
    "from utils import helper_funtions\n"
   ]
  },
  {
   "cell_type": "code",
   "execution_count": 2,
   "metadata": {},
   "outputs": [],
   "source": [
    "pd.options.display.max_columns = None  # Remove \"dots\" from display when printing dataframes"
   ]
  },
  {
   "cell_type": "code",
   "execution_count": 3,
   "metadata": {},
   "outputs": [],
   "source": [
    "PATH = helper_funtions.get_path()"
   ]
  },
  {
   "cell_type": "markdown",
   "metadata": {},
   "source": [
    "# Read data"
   ]
  },
  {
   "cell_type": "code",
   "execution_count": 4,
   "metadata": {},
   "outputs": [
    {
     "data": {
      "text/html": [
       "<div>\n",
       "<style scoped>\n",
       "    .dataframe tbody tr th:only-of-type {\n",
       "        vertical-align: middle;\n",
       "    }\n",
       "\n",
       "    .dataframe tbody tr th {\n",
       "        vertical-align: top;\n",
       "    }\n",
       "\n",
       "    .dataframe thead th {\n",
       "        text-align: right;\n",
       "    }\n",
       "</style>\n",
       "<table border=\"1\" class=\"dataframe\">\n",
       "  <thead>\n",
       "    <tr style=\"text-align: right;\">\n",
       "      <th></th>\n",
       "      <th>UUID_client</th>\n",
       "      <th>Age</th>\n",
       "      <th>Location</th>\n",
       "      <th>Income</th>\n",
       "      <th>TAX</th>\n",
       "      <th>Previous_sales</th>\n",
       "      <th>Type_products</th>\n",
       "      <th>Contact_channel</th>\n",
       "      <th>Contact_hour</th>\n",
       "      <th>Num_contacts</th>\n",
       "      <th>Satisfaction_score</th>\n",
       "      <th>Sales</th>\n",
       "    </tr>\n",
       "  </thead>\n",
       "  <tbody>\n",
       "    <tr>\n",
       "      <th>33</th>\n",
       "      <td>c64e6ce6-4549-5b73-ab53-6746ec8714af</td>\n",
       "      <td>48</td>\n",
       "      <td>FL</td>\n",
       "      <td>47778.0</td>\n",
       "      <td>7166.70</td>\n",
       "      <td>1</td>\n",
       "      <td>B</td>\n",
       "      <td>Email</td>\n",
       "      <td>07:30:00</td>\n",
       "      <td>7</td>\n",
       "      <td>2</td>\n",
       "      <td>0</td>\n",
       "    </tr>\n",
       "    <tr>\n",
       "      <th>321</th>\n",
       "      <td>8e142862-7fa5-53f8-b0b2-8a8faef53ee7</td>\n",
       "      <td>49</td>\n",
       "      <td>FL</td>\n",
       "      <td>49169.0</td>\n",
       "      <td>7375.35</td>\n",
       "      <td>6</td>\n",
       "      <td>C</td>\n",
       "      <td>Online Chat</td>\n",
       "      <td>09:30:00</td>\n",
       "      <td>4</td>\n",
       "      <td>5</td>\n",
       "      <td>1</td>\n",
       "    </tr>\n",
       "    <tr>\n",
       "      <th>739</th>\n",
       "      <td>a1298a19-0249-5d08-a7d5-b55e35beb62e</td>\n",
       "      <td>53</td>\n",
       "      <td>NY</td>\n",
       "      <td>52669.0</td>\n",
       "      <td>7900.35</td>\n",
       "      <td>0</td>\n",
       "      <td>C</td>\n",
       "      <td>Email</td>\n",
       "      <td>15:00:00</td>\n",
       "      <td>9</td>\n",
       "      <td>2</td>\n",
       "      <td>0</td>\n",
       "    </tr>\n",
       "    <tr>\n",
       "      <th>97</th>\n",
       "      <td>07598200-e09a-5685-972e-a8a44cafdb43</td>\n",
       "      <td>31</td>\n",
       "      <td>NY</td>\n",
       "      <td>95661.0</td>\n",
       "      <td>14349.15</td>\n",
       "      <td>1</td>\n",
       "      <td>B</td>\n",
       "      <td>Email</td>\n",
       "      <td>05:30:00</td>\n",
       "      <td>2</td>\n",
       "      <td>5</td>\n",
       "      <td>0</td>\n",
       "    </tr>\n",
       "    <tr>\n",
       "      <th>965</th>\n",
       "      <td>352f9ada-cddf-5589-a184-c1448192d88f</td>\n",
       "      <td>23</td>\n",
       "      <td>NY</td>\n",
       "      <td>34493.0</td>\n",
       "      <td>5173.95</td>\n",
       "      <td>4</td>\n",
       "      <td>C</td>\n",
       "      <td>Phone</td>\n",
       "      <td>12:30:00</td>\n",
       "      <td>1</td>\n",
       "      <td>1</td>\n",
       "      <td>1</td>\n",
       "    </tr>\n",
       "  </tbody>\n",
       "</table>\n",
       "</div>"
      ],
      "text/plain": [
       "                              UUID_client  Age Location   Income       TAX  \\\n",
       "33   c64e6ce6-4549-5b73-ab53-6746ec8714af   48       FL  47778.0   7166.70   \n",
       "321  8e142862-7fa5-53f8-b0b2-8a8faef53ee7   49       FL  49169.0   7375.35   \n",
       "739  a1298a19-0249-5d08-a7d5-b55e35beb62e   53       NY  52669.0   7900.35   \n",
       "97   07598200-e09a-5685-972e-a8a44cafdb43   31       NY  95661.0  14349.15   \n",
       "965  352f9ada-cddf-5589-a184-c1448192d88f   23       NY  34493.0   5173.95   \n",
       "\n",
       "     Previous_sales Type_products Contact_channel Contact_hour  Num_contacts  \\\n",
       "33                1             B           Email     07:30:00             7   \n",
       "321               6             C     Online Chat     09:30:00             4   \n",
       "739               0             C           Email     15:00:00             9   \n",
       "97                1             B           Email     05:30:00             2   \n",
       "965               4             C           Phone     12:30:00             1   \n",
       "\n",
       "     Satisfaction_score  Sales  \n",
       "33                    2      0  \n",
       "321                   5      1  \n",
       "739                   2      0  \n",
       "97                    5      0  \n",
       "965                   1      1  "
      ]
     },
     "execution_count": 4,
     "metadata": {},
     "output_type": "execute_result"
    }
   ],
   "source": [
    "df = pd.read_csv(PATH + 'data/data_cleaning.csv')\n",
    "df.sample(n=5).head()"
   ]
  },
  {
   "cell_type": "markdown",
   "metadata": {},
   "source": [
    "# EDA"
   ]
  },
  {
   "cell_type": "markdown",
   "metadata": {},
   "source": [
    "## Describe data"
   ]
  },
  {
   "cell_type": "code",
   "execution_count": 5,
   "metadata": {},
   "outputs": [
    {
     "name": "stdout",
     "output_type": "stream",
     "text": [
      "<class 'pandas.core.frame.DataFrame'>\n",
      "RangeIndex: 1000 entries, 0 to 999\n",
      "Data columns (total 12 columns):\n",
      " #   Column              Non-Null Count  Dtype  \n",
      "---  ------              --------------  -----  \n",
      " 0   UUID_client         1000 non-null   object \n",
      " 1   Age                 1000 non-null   int64  \n",
      " 2   Location            1000 non-null   object \n",
      " 3   Income              996 non-null    float64\n",
      " 4   TAX                 996 non-null    float64\n",
      " 5   Previous_sales      1000 non-null   int64  \n",
      " 6   Type_products       1000 non-null   object \n",
      " 7   Contact_channel     1000 non-null   object \n",
      " 8   Contact_hour        1000 non-null   object \n",
      " 9   Num_contacts        1000 non-null   int64  \n",
      " 10  Satisfaction_score  1000 non-null   int64  \n",
      " 11  Sales               1000 non-null   int64  \n",
      "dtypes: float64(2), int64(5), object(5)\n",
      "memory usage: 93.9+ KB\n"
     ]
    }
   ],
   "source": [
    "df.info()"
   ]
  },
  {
   "cell_type": "code",
   "execution_count": 6,
   "metadata": {},
   "outputs": [
    {
     "data": {
      "text/html": [
       "<div>\n",
       "<style scoped>\n",
       "    .dataframe tbody tr th:only-of-type {\n",
       "        vertical-align: middle;\n",
       "    }\n",
       "\n",
       "    .dataframe tbody tr th {\n",
       "        vertical-align: top;\n",
       "    }\n",
       "\n",
       "    .dataframe thead th {\n",
       "        text-align: right;\n",
       "    }\n",
       "</style>\n",
       "<table border=\"1\" class=\"dataframe\">\n",
       "  <thead>\n",
       "    <tr style=\"text-align: right;\">\n",
       "      <th></th>\n",
       "      <th>Age</th>\n",
       "      <th>Income</th>\n",
       "      <th>TAX</th>\n",
       "      <th>Previous_sales</th>\n",
       "      <th>Num_contacts</th>\n",
       "      <th>Satisfaction_score</th>\n",
       "      <th>Sales</th>\n",
       "    </tr>\n",
       "  </thead>\n",
       "  <tbody>\n",
       "    <tr>\n",
       "      <th>count</th>\n",
       "      <td>1000.000000</td>\n",
       "      <td>996.000000</td>\n",
       "      <td>996.000000</td>\n",
       "      <td>1000.000000</td>\n",
       "      <td>1000.000000</td>\n",
       "      <td>1000.000000</td>\n",
       "      <td>1000.000000</td>\n",
       "    </tr>\n",
       "    <tr>\n",
       "      <th>mean</th>\n",
       "      <td>41.191000</td>\n",
       "      <td>63100.329317</td>\n",
       "      <td>9465.049398</td>\n",
       "      <td>2.052000</td>\n",
       "      <td>3.492000</td>\n",
       "      <td>2.558000</td>\n",
       "      <td>0.269000</td>\n",
       "    </tr>\n",
       "    <tr>\n",
       "      <th>std</th>\n",
       "      <td>12.259234</td>\n",
       "      <td>21638.692537</td>\n",
       "      <td>3245.803881</td>\n",
       "      <td>2.635952</td>\n",
       "      <td>2.399102</td>\n",
       "      <td>1.331318</td>\n",
       "      <td>0.443662</td>\n",
       "    </tr>\n",
       "    <tr>\n",
       "      <th>min</th>\n",
       "      <td>18.000000</td>\n",
       "      <td>5000.000000</td>\n",
       "      <td>750.000000</td>\n",
       "      <td>-7.000000</td>\n",
       "      <td>1.000000</td>\n",
       "      <td>1.000000</td>\n",
       "      <td>0.000000</td>\n",
       "    </tr>\n",
       "    <tr>\n",
       "      <th>25%</th>\n",
       "      <td>31.000000</td>\n",
       "      <td>46277.750000</td>\n",
       "      <td>6941.662500</td>\n",
       "      <td>0.000000</td>\n",
       "      <td>2.000000</td>\n",
       "      <td>1.000000</td>\n",
       "      <td>0.000000</td>\n",
       "    </tr>\n",
       "    <tr>\n",
       "      <th>50%</th>\n",
       "      <td>40.500000</td>\n",
       "      <td>62770.500000</td>\n",
       "      <td>9415.575000</td>\n",
       "      <td>1.000000</td>\n",
       "      <td>3.000000</td>\n",
       "      <td>2.000000</td>\n",
       "      <td>0.000000</td>\n",
       "    </tr>\n",
       "    <tr>\n",
       "      <th>75%</th>\n",
       "      <td>51.000000</td>\n",
       "      <td>80618.000000</td>\n",
       "      <td>12092.700000</td>\n",
       "      <td>4.000000</td>\n",
       "      <td>5.000000</td>\n",
       "      <td>3.000000</td>\n",
       "      <td>1.000000</td>\n",
       "    </tr>\n",
       "    <tr>\n",
       "      <th>max</th>\n",
       "      <td>125.000000</td>\n",
       "      <td>165355.000000</td>\n",
       "      <td>24803.250000</td>\n",
       "      <td>25.000000</td>\n",
       "      <td>33.000000</td>\n",
       "      <td>5.000000</td>\n",
       "      <td>1.000000</td>\n",
       "    </tr>\n",
       "  </tbody>\n",
       "</table>\n",
       "</div>"
      ],
      "text/plain": [
       "               Age         Income           TAX  Previous_sales  Num_contacts  \\\n",
       "count  1000.000000     996.000000    996.000000     1000.000000   1000.000000   \n",
       "mean     41.191000   63100.329317   9465.049398        2.052000      3.492000   \n",
       "std      12.259234   21638.692537   3245.803881        2.635952      2.399102   \n",
       "min      18.000000    5000.000000    750.000000       -7.000000      1.000000   \n",
       "25%      31.000000   46277.750000   6941.662500        0.000000      2.000000   \n",
       "50%      40.500000   62770.500000   9415.575000        1.000000      3.000000   \n",
       "75%      51.000000   80618.000000  12092.700000        4.000000      5.000000   \n",
       "max     125.000000  165355.000000  24803.250000       25.000000     33.000000   \n",
       "\n",
       "       Satisfaction_score        Sales  \n",
       "count         1000.000000  1000.000000  \n",
       "mean             2.558000     0.269000  \n",
       "std              1.331318     0.443662  \n",
       "min              1.000000     0.000000  \n",
       "25%              1.000000     0.000000  \n",
       "50%              2.000000     0.000000  \n",
       "75%              3.000000     1.000000  \n",
       "max              5.000000     1.000000  "
      ]
     },
     "execution_count": 6,
     "metadata": {},
     "output_type": "execute_result"
    }
   ],
   "source": [
    "df.describe()"
   ]
  },
  {
   "cell_type": "code",
   "execution_count": 7,
   "metadata": {},
   "outputs": [
    {
     "name": "stdout",
     "output_type": "stream",
     "text": [
      "Suma de valores faltantes en el conjunto de datos:\n"
     ]
    },
    {
     "data": {
      "text/plain": [
       "UUID_client           0\n",
       "Age                   0\n",
       "Location              0\n",
       "Income                4\n",
       "TAX                   4\n",
       "Previous_sales        0\n",
       "Type_products         0\n",
       "Contact_channel       0\n",
       "Contact_hour          0\n",
       "Num_contacts          0\n",
       "Satisfaction_score    0\n",
       "Sales                 0\n",
       "dtype: int64"
      ]
     },
     "execution_count": 7,
     "metadata": {},
     "output_type": "execute_result"
    }
   ],
   "source": [
    "print('Suma de valores faltantes en el conjunto de datos:')\n",
    "df.isnull().sum()"
   ]
  },
  {
   "cell_type": "markdown",
   "metadata": {},
   "source": [
    "Observaciones:\n",
    "1. La cantidad de compras que el cliente ha realizado en el pasado cuenta con valores negativos lo que no corresponde con un registro lógico.\n",
    "2. Existen usuarios con edades mayores a 70 años que parecen ser datos incorrectos\n",
    "3. Existen 181 usuarios con interacciones superiores a cinco, de las cuales, una alcanza las 33 interacciones.\n",
    "4. La mitad de la muestra califica la satisfacción entre un nivel uno y dos (muy bajo).\n",
    "5. Al menos la mitad de los clientes no tuvieron una venta efectiva."
   ]
  },
  {
   "cell_type": "markdown",
   "metadata": {},
   "source": [
    "## Preprocesing for dataviz"
   ]
  },
  {
   "cell_type": "code",
   "execution_count": 8,
   "metadata": {},
   "outputs": [],
   "source": [
    "# Delete missing data\n",
    "df.dropna(inplace=True)\n",
    "\n",
    "# Delete outliers\n",
    "df = df.query(\"Age <= 70\")\n",
    "df = df.query(\"Previous_sales >= 0\")\n",
    "df = df.query(\"Num_contacts <= 5\")"
   ]
  },
  {
   "cell_type": "markdown",
   "metadata": {},
   "source": [
    "## Visualization"
   ]
  },
  {
   "cell_type": "markdown",
   "metadata": {},
   "source": [
    "### Categorical data"
   ]
  },
  {
   "cell_type": "code",
   "execution_count": 9,
   "metadata": {},
   "outputs": [
    {
     "data": {
      "application/vnd.plotly.v1+json": {
       "config": {
        "plotlyServerURL": "https://plot.ly"
       },
       "data": [
        {
         "type": "bar",
         "x": [
          "FL",
          "CA",
          "NY",
          "TX",
          "IL"
         ],
         "xaxis": "x",
         "y": [
          216,
          183,
          152,
          145,
          117
         ],
         "yaxis": "y"
        },
        {
         "type": "bar",
         "x": [
          "C",
          "A",
          "B"
         ],
         "xaxis": "x2",
         "y": [
          305,
          271,
          237
         ],
         "yaxis": "y2"
        },
        {
         "type": "bar",
         "x": [
          "Phone",
          "Email",
          "Online Chat"
         ],
         "xaxis": "x3",
         "y": [
          305,
          263,
          245
         ],
         "yaxis": "y3"
        },
        {
         "type": "bar",
         "x": [
          2,
          1,
          3,
          5,
          4
         ],
         "xaxis": "x4",
         "y": [
          222,
          203,
          148,
          124,
          116
         ],
         "yaxis": "y4"
        },
        {
         "type": "bar",
         "x": [
          0,
          1
         ],
         "xaxis": "x5",
         "y": [
          551,
          262
         ],
         "yaxis": "y5"
        }
       ],
       "layout": {
        "annotations": [
         {
          "font": {
           "size": 16
          },
          "showarrow": false,
          "text": "Location",
          "x": 0.5,
          "xanchor": "center",
          "xref": "paper",
          "y": 1,
          "yanchor": "bottom",
          "yref": "paper"
         },
         {
          "font": {
           "size": 16
          },
          "showarrow": false,
          "text": "Type_products",
          "x": 0.5,
          "xanchor": "center",
          "xref": "paper",
          "y": 0.78,
          "yanchor": "bottom",
          "yref": "paper"
         },
         {
          "font": {
           "size": 16
          },
          "showarrow": false,
          "text": "Contact_channel",
          "x": 0.5,
          "xanchor": "center",
          "xref": "paper",
          "y": 0.56,
          "yanchor": "bottom",
          "yref": "paper"
         },
         {
          "font": {
           "size": 16
          },
          "showarrow": false,
          "text": "Satisfaction_score",
          "x": 0.5,
          "xanchor": "center",
          "xref": "paper",
          "y": 0.33999999999999997,
          "yanchor": "bottom",
          "yref": "paper"
         },
         {
          "font": {
           "size": 16
          },
          "showarrow": false,
          "text": "Sales",
          "x": 0.5,
          "xanchor": "center",
          "xref": "paper",
          "y": 0.12,
          "yanchor": "bottom",
          "yref": "paper"
         }
        ],
        "height": 800,
        "template": {
         "data": {
          "bar": [
           {
            "error_x": {
             "color": "#2a3f5f"
            },
            "error_y": {
             "color": "#2a3f5f"
            },
            "marker": {
             "line": {
              "color": "#E5ECF6",
              "width": 0.5
             },
             "pattern": {
              "fillmode": "overlay",
              "size": 10,
              "solidity": 0.2
             }
            },
            "type": "bar"
           }
          ],
          "barpolar": [
           {
            "marker": {
             "line": {
              "color": "#E5ECF6",
              "width": 0.5
             },
             "pattern": {
              "fillmode": "overlay",
              "size": 10,
              "solidity": 0.2
             }
            },
            "type": "barpolar"
           }
          ],
          "carpet": [
           {
            "aaxis": {
             "endlinecolor": "#2a3f5f",
             "gridcolor": "white",
             "linecolor": "white",
             "minorgridcolor": "white",
             "startlinecolor": "#2a3f5f"
            },
            "baxis": {
             "endlinecolor": "#2a3f5f",
             "gridcolor": "white",
             "linecolor": "white",
             "minorgridcolor": "white",
             "startlinecolor": "#2a3f5f"
            },
            "type": "carpet"
           }
          ],
          "choropleth": [
           {
            "colorbar": {
             "outlinewidth": 0,
             "ticks": ""
            },
            "type": "choropleth"
           }
          ],
          "contour": [
           {
            "colorbar": {
             "outlinewidth": 0,
             "ticks": ""
            },
            "colorscale": [
             [
              0,
              "#0d0887"
             ],
             [
              0.1111111111111111,
              "#46039f"
             ],
             [
              0.2222222222222222,
              "#7201a8"
             ],
             [
              0.3333333333333333,
              "#9c179e"
             ],
             [
              0.4444444444444444,
              "#bd3786"
             ],
             [
              0.5555555555555556,
              "#d8576b"
             ],
             [
              0.6666666666666666,
              "#ed7953"
             ],
             [
              0.7777777777777778,
              "#fb9f3a"
             ],
             [
              0.8888888888888888,
              "#fdca26"
             ],
             [
              1,
              "#f0f921"
             ]
            ],
            "type": "contour"
           }
          ],
          "contourcarpet": [
           {
            "colorbar": {
             "outlinewidth": 0,
             "ticks": ""
            },
            "type": "contourcarpet"
           }
          ],
          "heatmap": [
           {
            "colorbar": {
             "outlinewidth": 0,
             "ticks": ""
            },
            "colorscale": [
             [
              0,
              "#0d0887"
             ],
             [
              0.1111111111111111,
              "#46039f"
             ],
             [
              0.2222222222222222,
              "#7201a8"
             ],
             [
              0.3333333333333333,
              "#9c179e"
             ],
             [
              0.4444444444444444,
              "#bd3786"
             ],
             [
              0.5555555555555556,
              "#d8576b"
             ],
             [
              0.6666666666666666,
              "#ed7953"
             ],
             [
              0.7777777777777778,
              "#fb9f3a"
             ],
             [
              0.8888888888888888,
              "#fdca26"
             ],
             [
              1,
              "#f0f921"
             ]
            ],
            "type": "heatmap"
           }
          ],
          "heatmapgl": [
           {
            "colorbar": {
             "outlinewidth": 0,
             "ticks": ""
            },
            "colorscale": [
             [
              0,
              "#0d0887"
             ],
             [
              0.1111111111111111,
              "#46039f"
             ],
             [
              0.2222222222222222,
              "#7201a8"
             ],
             [
              0.3333333333333333,
              "#9c179e"
             ],
             [
              0.4444444444444444,
              "#bd3786"
             ],
             [
              0.5555555555555556,
              "#d8576b"
             ],
             [
              0.6666666666666666,
              "#ed7953"
             ],
             [
              0.7777777777777778,
              "#fb9f3a"
             ],
             [
              0.8888888888888888,
              "#fdca26"
             ],
             [
              1,
              "#f0f921"
             ]
            ],
            "type": "heatmapgl"
           }
          ],
          "histogram": [
           {
            "marker": {
             "pattern": {
              "fillmode": "overlay",
              "size": 10,
              "solidity": 0.2
             }
            },
            "type": "histogram"
           }
          ],
          "histogram2d": [
           {
            "colorbar": {
             "outlinewidth": 0,
             "ticks": ""
            },
            "colorscale": [
             [
              0,
              "#0d0887"
             ],
             [
              0.1111111111111111,
              "#46039f"
             ],
             [
              0.2222222222222222,
              "#7201a8"
             ],
             [
              0.3333333333333333,
              "#9c179e"
             ],
             [
              0.4444444444444444,
              "#bd3786"
             ],
             [
              0.5555555555555556,
              "#d8576b"
             ],
             [
              0.6666666666666666,
              "#ed7953"
             ],
             [
              0.7777777777777778,
              "#fb9f3a"
             ],
             [
              0.8888888888888888,
              "#fdca26"
             ],
             [
              1,
              "#f0f921"
             ]
            ],
            "type": "histogram2d"
           }
          ],
          "histogram2dcontour": [
           {
            "colorbar": {
             "outlinewidth": 0,
             "ticks": ""
            },
            "colorscale": [
             [
              0,
              "#0d0887"
             ],
             [
              0.1111111111111111,
              "#46039f"
             ],
             [
              0.2222222222222222,
              "#7201a8"
             ],
             [
              0.3333333333333333,
              "#9c179e"
             ],
             [
              0.4444444444444444,
              "#bd3786"
             ],
             [
              0.5555555555555556,
              "#d8576b"
             ],
             [
              0.6666666666666666,
              "#ed7953"
             ],
             [
              0.7777777777777778,
              "#fb9f3a"
             ],
             [
              0.8888888888888888,
              "#fdca26"
             ],
             [
              1,
              "#f0f921"
             ]
            ],
            "type": "histogram2dcontour"
           }
          ],
          "mesh3d": [
           {
            "colorbar": {
             "outlinewidth": 0,
             "ticks": ""
            },
            "type": "mesh3d"
           }
          ],
          "parcoords": [
           {
            "line": {
             "colorbar": {
              "outlinewidth": 0,
              "ticks": ""
             }
            },
            "type": "parcoords"
           }
          ],
          "pie": [
           {
            "automargin": true,
            "type": "pie"
           }
          ],
          "scatter": [
           {
            "fillpattern": {
             "fillmode": "overlay",
             "size": 10,
             "solidity": 0.2
            },
            "type": "scatter"
           }
          ],
          "scatter3d": [
           {
            "line": {
             "colorbar": {
              "outlinewidth": 0,
              "ticks": ""
             }
            },
            "marker": {
             "colorbar": {
              "outlinewidth": 0,
              "ticks": ""
             }
            },
            "type": "scatter3d"
           }
          ],
          "scattercarpet": [
           {
            "marker": {
             "colorbar": {
              "outlinewidth": 0,
              "ticks": ""
             }
            },
            "type": "scattercarpet"
           }
          ],
          "scattergeo": [
           {
            "marker": {
             "colorbar": {
              "outlinewidth": 0,
              "ticks": ""
             }
            },
            "type": "scattergeo"
           }
          ],
          "scattergl": [
           {
            "marker": {
             "colorbar": {
              "outlinewidth": 0,
              "ticks": ""
             }
            },
            "type": "scattergl"
           }
          ],
          "scattermapbox": [
           {
            "marker": {
             "colorbar": {
              "outlinewidth": 0,
              "ticks": ""
             }
            },
            "type": "scattermapbox"
           }
          ],
          "scatterpolar": [
           {
            "marker": {
             "colorbar": {
              "outlinewidth": 0,
              "ticks": ""
             }
            },
            "type": "scatterpolar"
           }
          ],
          "scatterpolargl": [
           {
            "marker": {
             "colorbar": {
              "outlinewidth": 0,
              "ticks": ""
             }
            },
            "type": "scatterpolargl"
           }
          ],
          "scatterternary": [
           {
            "marker": {
             "colorbar": {
              "outlinewidth": 0,
              "ticks": ""
             }
            },
            "type": "scatterternary"
           }
          ],
          "surface": [
           {
            "colorbar": {
             "outlinewidth": 0,
             "ticks": ""
            },
            "colorscale": [
             [
              0,
              "#0d0887"
             ],
             [
              0.1111111111111111,
              "#46039f"
             ],
             [
              0.2222222222222222,
              "#7201a8"
             ],
             [
              0.3333333333333333,
              "#9c179e"
             ],
             [
              0.4444444444444444,
              "#bd3786"
             ],
             [
              0.5555555555555556,
              "#d8576b"
             ],
             [
              0.6666666666666666,
              "#ed7953"
             ],
             [
              0.7777777777777778,
              "#fb9f3a"
             ],
             [
              0.8888888888888888,
              "#fdca26"
             ],
             [
              1,
              "#f0f921"
             ]
            ],
            "type": "surface"
           }
          ],
          "table": [
           {
            "cells": {
             "fill": {
              "color": "#EBF0F8"
             },
             "line": {
              "color": "white"
             }
            },
            "header": {
             "fill": {
              "color": "#C8D4E3"
             },
             "line": {
              "color": "white"
             }
            },
            "type": "table"
           }
          ]
         },
         "layout": {
          "annotationdefaults": {
           "arrowcolor": "#2a3f5f",
           "arrowhead": 0,
           "arrowwidth": 1
          },
          "autotypenumbers": "strict",
          "coloraxis": {
           "colorbar": {
            "outlinewidth": 0,
            "ticks": ""
           }
          },
          "colorscale": {
           "diverging": [
            [
             0,
             "#8e0152"
            ],
            [
             0.1,
             "#c51b7d"
            ],
            [
             0.2,
             "#de77ae"
            ],
            [
             0.3,
             "#f1b6da"
            ],
            [
             0.4,
             "#fde0ef"
            ],
            [
             0.5,
             "#f7f7f7"
            ],
            [
             0.6,
             "#e6f5d0"
            ],
            [
             0.7,
             "#b8e186"
            ],
            [
             0.8,
             "#7fbc41"
            ],
            [
             0.9,
             "#4d9221"
            ],
            [
             1,
             "#276419"
            ]
           ],
           "sequential": [
            [
             0,
             "#0d0887"
            ],
            [
             0.1111111111111111,
             "#46039f"
            ],
            [
             0.2222222222222222,
             "#7201a8"
            ],
            [
             0.3333333333333333,
             "#9c179e"
            ],
            [
             0.4444444444444444,
             "#bd3786"
            ],
            [
             0.5555555555555556,
             "#d8576b"
            ],
            [
             0.6666666666666666,
             "#ed7953"
            ],
            [
             0.7777777777777778,
             "#fb9f3a"
            ],
            [
             0.8888888888888888,
             "#fdca26"
            ],
            [
             1,
             "#f0f921"
            ]
           ],
           "sequentialminus": [
            [
             0,
             "#0d0887"
            ],
            [
             0.1111111111111111,
             "#46039f"
            ],
            [
             0.2222222222222222,
             "#7201a8"
            ],
            [
             0.3333333333333333,
             "#9c179e"
            ],
            [
             0.4444444444444444,
             "#bd3786"
            ],
            [
             0.5555555555555556,
             "#d8576b"
            ],
            [
             0.6666666666666666,
             "#ed7953"
            ],
            [
             0.7777777777777778,
             "#fb9f3a"
            ],
            [
             0.8888888888888888,
             "#fdca26"
            ],
            [
             1,
             "#f0f921"
            ]
           ]
          },
          "colorway": [
           "#636efa",
           "#EF553B",
           "#00cc96",
           "#ab63fa",
           "#FFA15A",
           "#19d3f3",
           "#FF6692",
           "#B6E880",
           "#FF97FF",
           "#FECB52"
          ],
          "font": {
           "color": "#2a3f5f"
          },
          "geo": {
           "bgcolor": "white",
           "lakecolor": "white",
           "landcolor": "#E5ECF6",
           "showlakes": true,
           "showland": true,
           "subunitcolor": "white"
          },
          "hoverlabel": {
           "align": "left"
          },
          "hovermode": "closest",
          "mapbox": {
           "style": "light"
          },
          "paper_bgcolor": "white",
          "plot_bgcolor": "#E5ECF6",
          "polar": {
           "angularaxis": {
            "gridcolor": "white",
            "linecolor": "white",
            "ticks": ""
           },
           "bgcolor": "#E5ECF6",
           "radialaxis": {
            "gridcolor": "white",
            "linecolor": "white",
            "ticks": ""
           }
          },
          "scene": {
           "xaxis": {
            "backgroundcolor": "#E5ECF6",
            "gridcolor": "white",
            "gridwidth": 2,
            "linecolor": "white",
            "showbackground": true,
            "ticks": "",
            "zerolinecolor": "white"
           },
           "yaxis": {
            "backgroundcolor": "#E5ECF6",
            "gridcolor": "white",
            "gridwidth": 2,
            "linecolor": "white",
            "showbackground": true,
            "ticks": "",
            "zerolinecolor": "white"
           },
           "zaxis": {
            "backgroundcolor": "#E5ECF6",
            "gridcolor": "white",
            "gridwidth": 2,
            "linecolor": "white",
            "showbackground": true,
            "ticks": "",
            "zerolinecolor": "white"
           }
          },
          "shapedefaults": {
           "line": {
            "color": "#2a3f5f"
           }
          },
          "ternary": {
           "aaxis": {
            "gridcolor": "white",
            "linecolor": "white",
            "ticks": ""
           },
           "baxis": {
            "gridcolor": "white",
            "linecolor": "white",
            "ticks": ""
           },
           "bgcolor": "#E5ECF6",
           "caxis": {
            "gridcolor": "white",
            "linecolor": "white",
            "ticks": ""
           }
          },
          "title": {
           "x": 0.05
          },
          "xaxis": {
           "automargin": true,
           "gridcolor": "white",
           "linecolor": "white",
           "ticks": "",
           "title": {
            "standoff": 15
           },
           "zerolinecolor": "white",
           "zerolinewidth": 2
          },
          "yaxis": {
           "automargin": true,
           "gridcolor": "white",
           "linecolor": "white",
           "ticks": "",
           "title": {
            "standoff": 15
           },
           "zerolinecolor": "white",
           "zerolinewidth": 2
          }
         }
        },
        "title": {
         "text": "Variables categóricas"
        },
        "width": 750,
        "xaxis": {
         "anchor": "y",
         "domain": [
          0,
          1
         ]
        },
        "xaxis2": {
         "anchor": "y2",
         "domain": [
          0,
          1
         ]
        },
        "xaxis3": {
         "anchor": "y3",
         "domain": [
          0,
          1
         ]
        },
        "xaxis4": {
         "anchor": "y4",
         "domain": [
          0,
          1
         ]
        },
        "xaxis5": {
         "anchor": "y5",
         "domain": [
          0,
          1
         ]
        },
        "yaxis": {
         "anchor": "x",
         "domain": [
          0.88,
          1
         ]
        },
        "yaxis2": {
         "anchor": "x2",
         "domain": [
          0.66,
          0.78
         ]
        },
        "yaxis3": {
         "anchor": "x3",
         "domain": [
          0.44,
          0.56
         ]
        },
        "yaxis4": {
         "anchor": "x4",
         "domain": [
          0.22,
          0.33999999999999997
         ]
        },
        "yaxis5": {
         "anchor": "x5",
         "domain": [
          0,
          0.12
         ]
        }
       }
      }
     },
     "metadata": {},
     "output_type": "display_data"
    }
   ],
   "source": [
    "categorical_columns = [\n",
    "    'Location', 'Type_products', 'Contact_channel',\n",
    "    'Satisfaction_score', 'Sales'\n",
    "]\n",
    "fig = make_subplots(rows=5, cols=1, subplot_titles=categorical_columns)\n",
    "row, col = 1, 1\n",
    "for column in categorical_columns:\n",
    "    helper_funtions.dataviz_structure_categorical(column, fig, df, row, col)\n",
    "    row += 1\n",
    "fig.update_layout(height=800, width=750, title_text='Variables categóricas')\n",
    "fig.show()"
   ]
  },
  {
   "cell_type": "markdown",
   "metadata": {},
   "source": [
    "Observaciones:\n",
    "1. La distribución de ubicaciones es homogenea.\n",
    "2. No parece existir un tipo de producto preferido por los clientes.\n",
    "3. El canal de preferencia de contacto del cliente es el teléfono.\n",
    "4. Los niveles de satisfacción son bajos a nivel de muestra.\n",
    "5. la efectividad de ventas es baja (variable desvalanceada)."
   ]
  },
  {
   "cell_type": "markdown",
   "metadata": {},
   "source": [
    "### Numerical data"
   ]
  },
  {
   "cell_type": "code",
   "execution_count": 10,
   "metadata": {},
   "outputs": [
    {
     "data": {
      "application/vnd.plotly.v1+json": {
       "config": {
        "plotlyServerURL": "https://plot.ly"
       },
       "data": [
        {
         "name": "Previous_sales",
         "type": "histogram",
         "x": [
          1,
          5,
          3,
          0,
          0,
          0,
          9,
          4,
          4,
          6,
          1,
          4,
          0,
          2,
          1,
          2,
          4,
          0,
          0,
          9,
          0,
          2,
          4,
          3,
          3,
          1,
          7,
          4,
          1,
          1,
          0,
          0,
          0,
          5,
          0,
          4,
          4,
          4,
          9,
          0,
          1,
          6,
          0,
          1,
          0,
          0,
          1,
          0,
          8,
          0,
          1,
          1,
          0,
          0,
          2,
          1,
          5,
          0,
          1,
          5,
          2,
          0,
          3,
          2,
          0,
          0,
          1,
          3,
          0,
          7,
          0,
          0,
          5,
          8,
          10,
          0,
          4,
          1,
          0,
          0,
          2,
          0,
          1,
          1,
          0,
          1,
          0,
          0,
          4,
          1,
          0,
          3,
          0,
          2,
          6,
          6,
          0,
          8,
          1,
          4,
          0,
          0,
          5,
          4,
          3,
          3,
          0,
          6,
          0,
          0,
          6,
          9,
          1,
          0,
          0,
          2,
          0,
          1,
          6,
          0,
          1,
          10,
          0,
          0,
          1,
          0,
          2,
          3,
          3,
          0,
          1,
          4,
          1,
          1,
          2,
          0,
          2,
          2,
          5,
          4,
          2,
          0,
          2,
          0,
          2,
          6,
          2,
          0,
          0,
          7,
          0,
          0,
          0,
          2,
          1,
          0,
          0,
          2,
          0,
          0,
          3,
          4,
          3,
          0,
          2,
          5,
          10,
          0,
          0,
          0,
          2,
          6,
          8,
          7,
          0,
          5,
          3,
          0,
          1,
          1,
          5,
          20,
          6,
          0,
          2,
          6,
          6,
          5,
          1,
          0,
          6,
          2,
          2,
          0,
          0,
          0,
          4,
          0,
          4,
          9,
          0,
          2,
          8,
          1,
          1,
          1,
          0,
          0,
          0,
          4,
          2,
          6,
          1,
          5,
          0,
          2,
          5,
          0,
          0,
          0,
          6,
          3,
          3,
          0,
          4,
          0,
          0,
          4,
          2,
          1,
          0,
          0,
          9,
          5,
          1,
          4,
          1,
          9,
          8,
          4,
          0,
          2,
          1,
          1,
          1,
          4,
          5,
          2,
          4,
          4,
          0,
          0,
          0,
          0,
          0,
          0,
          0,
          4,
          0,
          4,
          6,
          4,
          9,
          1,
          0,
          3,
          0,
          4,
          0,
          6,
          0,
          0,
          1,
          0,
          4,
          3,
          0,
          0,
          0,
          2,
          4,
          0,
          4,
          3,
          0,
          3,
          1,
          0,
          2,
          1,
          0,
          3,
          6,
          0,
          0,
          8,
          6,
          0,
          2,
          0,
          4,
          6,
          4,
          4,
          0,
          0,
          3,
          1,
          4,
          0,
          6,
          0,
          0,
          3,
          0,
          0,
          4,
          6,
          2,
          0,
          0,
          0,
          1,
          0,
          0,
          4,
          2,
          3,
          0,
          4,
          0,
          8,
          0,
          1,
          5,
          0,
          3,
          0,
          0,
          0,
          2,
          5,
          0,
          0,
          3,
          4,
          0,
          0,
          6,
          4,
          4,
          6,
          0,
          0,
          2,
          1,
          1,
          6,
          2,
          0,
          2,
          2,
          3,
          0,
          4,
          0,
          1,
          0,
          6,
          1,
          8,
          25,
          4,
          4,
          0,
          4,
          2,
          1,
          4,
          0,
          0,
          5,
          0,
          1,
          1,
          6,
          4,
          3,
          3,
          0,
          0,
          0,
          5,
          4,
          4,
          0,
          6,
          3,
          1,
          6,
          0,
          0,
          3,
          3,
          0,
          0,
          7,
          6,
          5,
          1,
          1,
          0,
          4,
          3,
          7,
          1,
          1,
          4,
          7,
          4,
          0,
          5,
          0,
          0,
          0,
          3,
          0,
          4,
          0,
          3,
          1,
          0,
          0,
          0,
          0,
          5,
          5,
          0,
          0,
          1,
          9,
          3,
          4,
          0,
          0,
          6,
          5,
          3,
          0,
          2,
          0,
          6,
          2,
          1,
          8,
          0,
          2,
          4,
          0,
          0,
          0,
          4,
          1,
          5,
          0,
          0,
          0,
          1,
          0,
          1,
          6,
          8,
          1,
          0,
          5,
          1,
          6,
          6,
          2,
          0,
          2,
          2,
          3,
          0,
          1,
          7,
          3,
          0,
          3,
          4,
          0,
          0,
          3,
          2,
          8,
          0,
          4,
          0,
          0,
          3,
          5,
          0,
          1,
          0,
          2,
          0,
          1,
          1,
          0,
          0,
          4,
          5,
          0,
          6,
          0,
          2,
          5,
          0,
          0,
          1,
          5,
          0,
          1,
          0,
          0,
          0,
          0,
          3,
          0,
          5,
          1,
          2,
          0,
          0,
          0,
          4,
          0,
          2,
          2,
          2,
          0,
          1,
          0,
          8,
          2,
          0,
          2,
          8,
          0,
          2,
          0,
          2,
          0,
          6,
          2,
          2,
          6,
          2,
          0,
          0,
          0,
          0,
          0,
          5,
          2,
          4,
          0,
          2,
          0,
          3,
          0,
          0,
          0,
          5,
          0,
          10,
          3,
          0,
          7,
          2,
          1,
          7,
          3,
          0,
          1,
          0,
          6,
          0,
          0,
          2,
          4,
          0,
          2,
          6,
          10,
          0,
          3,
          0,
          0,
          1,
          3,
          3,
          1,
          0,
          0,
          0,
          0,
          1,
          1,
          7,
          0,
          0,
          1,
          0,
          0,
          2,
          2,
          0,
          0,
          4,
          2,
          4,
          4,
          2,
          1,
          0,
          0,
          3,
          6,
          0,
          0,
          0,
          0,
          0,
          2,
          5,
          6,
          3,
          0,
          1,
          2,
          5,
          5,
          0,
          0,
          2,
          6,
          1,
          0,
          0,
          7,
          1,
          0,
          4,
          4,
          5,
          1,
          3,
          0,
          0,
          1,
          4,
          0,
          0,
          2,
          0,
          0,
          0,
          0,
          0,
          0,
          4,
          3,
          0,
          3,
          2,
          0,
          4,
          0,
          0,
          7,
          1,
          0,
          0,
          0,
          0,
          3,
          2,
          0,
          0,
          0,
          2,
          2,
          0,
          2,
          3,
          1,
          7,
          0,
          0,
          0,
          1,
          0,
          1,
          0,
          4,
          0,
          0,
          5,
          4,
          6,
          0,
          2,
          8,
          0,
          4,
          0,
          0,
          0,
          1,
          0,
          0,
          0,
          0,
          5,
          2,
          0,
          0,
          0,
          4,
          0,
          4,
          4,
          7,
          0,
          0,
          0,
          0,
          2,
          2,
          0,
          6,
          0,
          0,
          6,
          0,
          2,
          0,
          3,
          0,
          3,
          0,
          5,
          0,
          1,
          0,
          6,
          9,
          0,
          0,
          6,
          10,
          0,
          7,
          4,
          2,
          0,
          0,
          0,
          2,
          2,
          0,
          0,
          4,
          0,
          0,
          0,
          2,
          5,
          1,
          0,
          4,
          3,
          4,
          0,
          3,
          0,
          3,
          0,
          0,
          0,
          0,
          8,
          7,
          3,
          0,
          5,
          4,
          8,
          0,
          0,
          0,
          3,
          3,
          0,
          2,
          0,
          0,
          0,
          3,
          0,
          1,
          1
         ]
        },
        {
         "name": "Num_contacts",
         "type": "histogram",
         "x": [
          1,
          2,
          4,
          3,
          1,
          5,
          1,
          2,
          5,
          1,
          1,
          4,
          1,
          4,
          2,
          1,
          5,
          4,
          2,
          2,
          4,
          3,
          1,
          5,
          2,
          1,
          3,
          2,
          1,
          2,
          3,
          1,
          1,
          1,
          3,
          1,
          3,
          4,
          1,
          5,
          1,
          1,
          2,
          2,
          2,
          1,
          1,
          2,
          1,
          2,
          4,
          2,
          2,
          1,
          1,
          3,
          3,
          2,
          5,
          4,
          1,
          4,
          2,
          1,
          4,
          3,
          4,
          1,
          1,
          1,
          5,
          2,
          1,
          2,
          2,
          1,
          4,
          1,
          1,
          3,
          1,
          2,
          2,
          1,
          2,
          3,
          2,
          2,
          2,
          5,
          2,
          3,
          3,
          1,
          3,
          3,
          1,
          1,
          1,
          2,
          4,
          1,
          1,
          1,
          4,
          3,
          5,
          1,
          3,
          5,
          2,
          1,
          4,
          1,
          3,
          3,
          4,
          5,
          1,
          3,
          3,
          1,
          4,
          4,
          1,
          4,
          1,
          1,
          3,
          1,
          2,
          2,
          4,
          2,
          4,
          2,
          3,
          3,
          2,
          5,
          4,
          2,
          4,
          2,
          2,
          5,
          2,
          1,
          2,
          3,
          3,
          3,
          2,
          5,
          2,
          5,
          2,
          4,
          2,
          3,
          2,
          2,
          2,
          2,
          4,
          2,
          2,
          2,
          2,
          2,
          1,
          2,
          2,
          4,
          2,
          1,
          2,
          5,
          1,
          4,
          1,
          2,
          2,
          5,
          3,
          2,
          2,
          5,
          5,
          3,
          2,
          3,
          1,
          3,
          2,
          2,
          3,
          5,
          5,
          3,
          4,
          3,
          5,
          5,
          3,
          2,
          5,
          3,
          3,
          3,
          3,
          3,
          4,
          3,
          3,
          4,
          1,
          1,
          5,
          2,
          4,
          2,
          1,
          3,
          3,
          3,
          1,
          3,
          4,
          3,
          3,
          2,
          2,
          5,
          3,
          2,
          2,
          1,
          2,
          4,
          5,
          1,
          1,
          3,
          5,
          5,
          1,
          1,
          5,
          1,
          5,
          3,
          4,
          3,
          5,
          2,
          1,
          3,
          1,
          1,
          5,
          5,
          1,
          3,
          5,
          4,
          2,
          1,
          2,
          4,
          4,
          5,
          2,
          2,
          2,
          5,
          1,
          2,
          3,
          1,
          5,
          1,
          4,
          2,
          1,
          5,
          1,
          4,
          1,
          3,
          1,
          5,
          2,
          2,
          2,
          2,
          5,
          4,
          4,
          1,
          1,
          1,
          5,
          4,
          1,
          3,
          1,
          1,
          1,
          3,
          1,
          4,
          1,
          1,
          3,
          1,
          1,
          2,
          1,
          3,
          4,
          5,
          3,
          2,
          2,
          2,
          2,
          2,
          3,
          2,
          1,
          1,
          5,
          2,
          2,
          4,
          4,
          2,
          5,
          4,
          1,
          2,
          3,
          4,
          1,
          2,
          2,
          3,
          1,
          5,
          3,
          2,
          2,
          4,
          5,
          5,
          4,
          4,
          4,
          4,
          4,
          5,
          2,
          2,
          2,
          2,
          5,
          4,
          2,
          3,
          5,
          1,
          3,
          1,
          1,
          5,
          2,
          4,
          1,
          3,
          3,
          4,
          2,
          3,
          1,
          3,
          5,
          2,
          4,
          2,
          3,
          5,
          1,
          1,
          5,
          1,
          1,
          4,
          4,
          2,
          2,
          2,
          4,
          2,
          4,
          2,
          2,
          1,
          3,
          3,
          2,
          1,
          2,
          4,
          2,
          1,
          2,
          4,
          3,
          1,
          4,
          5,
          2,
          2,
          5,
          2,
          5,
          1,
          1,
          3,
          2,
          2,
          2,
          3,
          4,
          3,
          2,
          3,
          2,
          2,
          2,
          2,
          2,
          5,
          2,
          5,
          2,
          2,
          3,
          3,
          2,
          5,
          2,
          1,
          1,
          4,
          2,
          2,
          2,
          5,
          4,
          2,
          4,
          5,
          2,
          1,
          2,
          2,
          3,
          4,
          2,
          2,
          3,
          5,
          2,
          3,
          3,
          2,
          3,
          2,
          1,
          3,
          5,
          3,
          1,
          2,
          4,
          5,
          5,
          5,
          1,
          5,
          1,
          1,
          1,
          1,
          2,
          2,
          5,
          1,
          1,
          1,
          1,
          2,
          1,
          2,
          1,
          3,
          2,
          1,
          3,
          1,
          3,
          1,
          3,
          1,
          3,
          2,
          1,
          5,
          4,
          5,
          2,
          4,
          2,
          2,
          3,
          2,
          3,
          3,
          4,
          1,
          3,
          3,
          2,
          2,
          4,
          5,
          3,
          4,
          4,
          5,
          1,
          2,
          2,
          5,
          3,
          1,
          4,
          4,
          3,
          1,
          1,
          3,
          2,
          2,
          3,
          4,
          3,
          1,
          1,
          5,
          3,
          2,
          1,
          5,
          4,
          1,
          5,
          1,
          4,
          1,
          4,
          3,
          2,
          2,
          4,
          5,
          5,
          3,
          1,
          2,
          1,
          1,
          5,
          3,
          1,
          1,
          2,
          2,
          3,
          2,
          1,
          5,
          5,
          5,
          4,
          5,
          4,
          4,
          2,
          2,
          3,
          1,
          2,
          3,
          1,
          1,
          3,
          5,
          3,
          1,
          3,
          3,
          5,
          2,
          4,
          3,
          5,
          4,
          5,
          1,
          5,
          1,
          1,
          2,
          4,
          2,
          4,
          1,
          2,
          1,
          2,
          1,
          2,
          2,
          4,
          1,
          5,
          1,
          2,
          1,
          2,
          4,
          5,
          3,
          2,
          5,
          1,
          1,
          1,
          5,
          1,
          1,
          1,
          4,
          3,
          5,
          1,
          2,
          1,
          1,
          2,
          2,
          1,
          1,
          3,
          1,
          3,
          5,
          2,
          4,
          2,
          4,
          5,
          1,
          1,
          3,
          3,
          1,
          5,
          2,
          4,
          1,
          2,
          1,
          4,
          4,
          2,
          2,
          5,
          1,
          3,
          4,
          1,
          1,
          1,
          1,
          5,
          2,
          2,
          1,
          1,
          1,
          2,
          4,
          1,
          2,
          4,
          2,
          2,
          5,
          3,
          2,
          4,
          3,
          5,
          3,
          1,
          4,
          3,
          5,
          5,
          2,
          2,
          4,
          4,
          4,
          2,
          1,
          3,
          2,
          2,
          4,
          5,
          2,
          2,
          3,
          3,
          3,
          5,
          2,
          5,
          2,
          5,
          3,
          5,
          4,
          2,
          2,
          5,
          4,
          2,
          2,
          3,
          3,
          5,
          5,
          2,
          1,
          1,
          3,
          1,
          1,
          2,
          1,
          3,
          4,
          2,
          2,
          1,
          1,
          1,
          3,
          1,
          2,
          1,
          5,
          1,
          1,
          2,
          1,
          4,
          1,
          2,
          1,
          1,
          1,
          2,
          5,
          2,
          1,
          3,
          4,
          2,
          2,
          2,
          2,
          5,
          4,
          4,
          4,
          5,
          1,
          1,
          2,
          4,
          4,
          4,
          5,
          2,
          5,
          5
         ]
        }
       ],
       "layout": {
        "barmode": "stack",
        "template": {
         "data": {
          "bar": [
           {
            "error_x": {
             "color": "#2a3f5f"
            },
            "error_y": {
             "color": "#2a3f5f"
            },
            "marker": {
             "line": {
              "color": "#E5ECF6",
              "width": 0.5
             },
             "pattern": {
              "fillmode": "overlay",
              "size": 10,
              "solidity": 0.2
             }
            },
            "type": "bar"
           }
          ],
          "barpolar": [
           {
            "marker": {
             "line": {
              "color": "#E5ECF6",
              "width": 0.5
             },
             "pattern": {
              "fillmode": "overlay",
              "size": 10,
              "solidity": 0.2
             }
            },
            "type": "barpolar"
           }
          ],
          "carpet": [
           {
            "aaxis": {
             "endlinecolor": "#2a3f5f",
             "gridcolor": "white",
             "linecolor": "white",
             "minorgridcolor": "white",
             "startlinecolor": "#2a3f5f"
            },
            "baxis": {
             "endlinecolor": "#2a3f5f",
             "gridcolor": "white",
             "linecolor": "white",
             "minorgridcolor": "white",
             "startlinecolor": "#2a3f5f"
            },
            "type": "carpet"
           }
          ],
          "choropleth": [
           {
            "colorbar": {
             "outlinewidth": 0,
             "ticks": ""
            },
            "type": "choropleth"
           }
          ],
          "contour": [
           {
            "colorbar": {
             "outlinewidth": 0,
             "ticks": ""
            },
            "colorscale": [
             [
              0,
              "#0d0887"
             ],
             [
              0.1111111111111111,
              "#46039f"
             ],
             [
              0.2222222222222222,
              "#7201a8"
             ],
             [
              0.3333333333333333,
              "#9c179e"
             ],
             [
              0.4444444444444444,
              "#bd3786"
             ],
             [
              0.5555555555555556,
              "#d8576b"
             ],
             [
              0.6666666666666666,
              "#ed7953"
             ],
             [
              0.7777777777777778,
              "#fb9f3a"
             ],
             [
              0.8888888888888888,
              "#fdca26"
             ],
             [
              1,
              "#f0f921"
             ]
            ],
            "type": "contour"
           }
          ],
          "contourcarpet": [
           {
            "colorbar": {
             "outlinewidth": 0,
             "ticks": ""
            },
            "type": "contourcarpet"
           }
          ],
          "heatmap": [
           {
            "colorbar": {
             "outlinewidth": 0,
             "ticks": ""
            },
            "colorscale": [
             [
              0,
              "#0d0887"
             ],
             [
              0.1111111111111111,
              "#46039f"
             ],
             [
              0.2222222222222222,
              "#7201a8"
             ],
             [
              0.3333333333333333,
              "#9c179e"
             ],
             [
              0.4444444444444444,
              "#bd3786"
             ],
             [
              0.5555555555555556,
              "#d8576b"
             ],
             [
              0.6666666666666666,
              "#ed7953"
             ],
             [
              0.7777777777777778,
              "#fb9f3a"
             ],
             [
              0.8888888888888888,
              "#fdca26"
             ],
             [
              1,
              "#f0f921"
             ]
            ],
            "type": "heatmap"
           }
          ],
          "heatmapgl": [
           {
            "colorbar": {
             "outlinewidth": 0,
             "ticks": ""
            },
            "colorscale": [
             [
              0,
              "#0d0887"
             ],
             [
              0.1111111111111111,
              "#46039f"
             ],
             [
              0.2222222222222222,
              "#7201a8"
             ],
             [
              0.3333333333333333,
              "#9c179e"
             ],
             [
              0.4444444444444444,
              "#bd3786"
             ],
             [
              0.5555555555555556,
              "#d8576b"
             ],
             [
              0.6666666666666666,
              "#ed7953"
             ],
             [
              0.7777777777777778,
              "#fb9f3a"
             ],
             [
              0.8888888888888888,
              "#fdca26"
             ],
             [
              1,
              "#f0f921"
             ]
            ],
            "type": "heatmapgl"
           }
          ],
          "histogram": [
           {
            "marker": {
             "pattern": {
              "fillmode": "overlay",
              "size": 10,
              "solidity": 0.2
             }
            },
            "type": "histogram"
           }
          ],
          "histogram2d": [
           {
            "colorbar": {
             "outlinewidth": 0,
             "ticks": ""
            },
            "colorscale": [
             [
              0,
              "#0d0887"
             ],
             [
              0.1111111111111111,
              "#46039f"
             ],
             [
              0.2222222222222222,
              "#7201a8"
             ],
             [
              0.3333333333333333,
              "#9c179e"
             ],
             [
              0.4444444444444444,
              "#bd3786"
             ],
             [
              0.5555555555555556,
              "#d8576b"
             ],
             [
              0.6666666666666666,
              "#ed7953"
             ],
             [
              0.7777777777777778,
              "#fb9f3a"
             ],
             [
              0.8888888888888888,
              "#fdca26"
             ],
             [
              1,
              "#f0f921"
             ]
            ],
            "type": "histogram2d"
           }
          ],
          "histogram2dcontour": [
           {
            "colorbar": {
             "outlinewidth": 0,
             "ticks": ""
            },
            "colorscale": [
             [
              0,
              "#0d0887"
             ],
             [
              0.1111111111111111,
              "#46039f"
             ],
             [
              0.2222222222222222,
              "#7201a8"
             ],
             [
              0.3333333333333333,
              "#9c179e"
             ],
             [
              0.4444444444444444,
              "#bd3786"
             ],
             [
              0.5555555555555556,
              "#d8576b"
             ],
             [
              0.6666666666666666,
              "#ed7953"
             ],
             [
              0.7777777777777778,
              "#fb9f3a"
             ],
             [
              0.8888888888888888,
              "#fdca26"
             ],
             [
              1,
              "#f0f921"
             ]
            ],
            "type": "histogram2dcontour"
           }
          ],
          "mesh3d": [
           {
            "colorbar": {
             "outlinewidth": 0,
             "ticks": ""
            },
            "type": "mesh3d"
           }
          ],
          "parcoords": [
           {
            "line": {
             "colorbar": {
              "outlinewidth": 0,
              "ticks": ""
             }
            },
            "type": "parcoords"
           }
          ],
          "pie": [
           {
            "automargin": true,
            "type": "pie"
           }
          ],
          "scatter": [
           {
            "fillpattern": {
             "fillmode": "overlay",
             "size": 10,
             "solidity": 0.2
            },
            "type": "scatter"
           }
          ],
          "scatter3d": [
           {
            "line": {
             "colorbar": {
              "outlinewidth": 0,
              "ticks": ""
             }
            },
            "marker": {
             "colorbar": {
              "outlinewidth": 0,
              "ticks": ""
             }
            },
            "type": "scatter3d"
           }
          ],
          "scattercarpet": [
           {
            "marker": {
             "colorbar": {
              "outlinewidth": 0,
              "ticks": ""
             }
            },
            "type": "scattercarpet"
           }
          ],
          "scattergeo": [
           {
            "marker": {
             "colorbar": {
              "outlinewidth": 0,
              "ticks": ""
             }
            },
            "type": "scattergeo"
           }
          ],
          "scattergl": [
           {
            "marker": {
             "colorbar": {
              "outlinewidth": 0,
              "ticks": ""
             }
            },
            "type": "scattergl"
           }
          ],
          "scattermapbox": [
           {
            "marker": {
             "colorbar": {
              "outlinewidth": 0,
              "ticks": ""
             }
            },
            "type": "scattermapbox"
           }
          ],
          "scatterpolar": [
           {
            "marker": {
             "colorbar": {
              "outlinewidth": 0,
              "ticks": ""
             }
            },
            "type": "scatterpolar"
           }
          ],
          "scatterpolargl": [
           {
            "marker": {
             "colorbar": {
              "outlinewidth": 0,
              "ticks": ""
             }
            },
            "type": "scatterpolargl"
           }
          ],
          "scatterternary": [
           {
            "marker": {
             "colorbar": {
              "outlinewidth": 0,
              "ticks": ""
             }
            },
            "type": "scatterternary"
           }
          ],
          "surface": [
           {
            "colorbar": {
             "outlinewidth": 0,
             "ticks": ""
            },
            "colorscale": [
             [
              0,
              "#0d0887"
             ],
             [
              0.1111111111111111,
              "#46039f"
             ],
             [
              0.2222222222222222,
              "#7201a8"
             ],
             [
              0.3333333333333333,
              "#9c179e"
             ],
             [
              0.4444444444444444,
              "#bd3786"
             ],
             [
              0.5555555555555556,
              "#d8576b"
             ],
             [
              0.6666666666666666,
              "#ed7953"
             ],
             [
              0.7777777777777778,
              "#fb9f3a"
             ],
             [
              0.8888888888888888,
              "#fdca26"
             ],
             [
              1,
              "#f0f921"
             ]
            ],
            "type": "surface"
           }
          ],
          "table": [
           {
            "cells": {
             "fill": {
              "color": "#EBF0F8"
             },
             "line": {
              "color": "white"
             }
            },
            "header": {
             "fill": {
              "color": "#C8D4E3"
             },
             "line": {
              "color": "white"
             }
            },
            "type": "table"
           }
          ]
         },
         "layout": {
          "annotationdefaults": {
           "arrowcolor": "#2a3f5f",
           "arrowhead": 0,
           "arrowwidth": 1
          },
          "autotypenumbers": "strict",
          "coloraxis": {
           "colorbar": {
            "outlinewidth": 0,
            "ticks": ""
           }
          },
          "colorscale": {
           "diverging": [
            [
             0,
             "#8e0152"
            ],
            [
             0.1,
             "#c51b7d"
            ],
            [
             0.2,
             "#de77ae"
            ],
            [
             0.3,
             "#f1b6da"
            ],
            [
             0.4,
             "#fde0ef"
            ],
            [
             0.5,
             "#f7f7f7"
            ],
            [
             0.6,
             "#e6f5d0"
            ],
            [
             0.7,
             "#b8e186"
            ],
            [
             0.8,
             "#7fbc41"
            ],
            [
             0.9,
             "#4d9221"
            ],
            [
             1,
             "#276419"
            ]
           ],
           "sequential": [
            [
             0,
             "#0d0887"
            ],
            [
             0.1111111111111111,
             "#46039f"
            ],
            [
             0.2222222222222222,
             "#7201a8"
            ],
            [
             0.3333333333333333,
             "#9c179e"
            ],
            [
             0.4444444444444444,
             "#bd3786"
            ],
            [
             0.5555555555555556,
             "#d8576b"
            ],
            [
             0.6666666666666666,
             "#ed7953"
            ],
            [
             0.7777777777777778,
             "#fb9f3a"
            ],
            [
             0.8888888888888888,
             "#fdca26"
            ],
            [
             1,
             "#f0f921"
            ]
           ],
           "sequentialminus": [
            [
             0,
             "#0d0887"
            ],
            [
             0.1111111111111111,
             "#46039f"
            ],
            [
             0.2222222222222222,
             "#7201a8"
            ],
            [
             0.3333333333333333,
             "#9c179e"
            ],
            [
             0.4444444444444444,
             "#bd3786"
            ],
            [
             0.5555555555555556,
             "#d8576b"
            ],
            [
             0.6666666666666666,
             "#ed7953"
            ],
            [
             0.7777777777777778,
             "#fb9f3a"
            ],
            [
             0.8888888888888888,
             "#fdca26"
            ],
            [
             1,
             "#f0f921"
            ]
           ]
          },
          "colorway": [
           "#636efa",
           "#EF553B",
           "#00cc96",
           "#ab63fa",
           "#FFA15A",
           "#19d3f3",
           "#FF6692",
           "#B6E880",
           "#FF97FF",
           "#FECB52"
          ],
          "font": {
           "color": "#2a3f5f"
          },
          "geo": {
           "bgcolor": "white",
           "lakecolor": "white",
           "landcolor": "#E5ECF6",
           "showlakes": true,
           "showland": true,
           "subunitcolor": "white"
          },
          "hoverlabel": {
           "align": "left"
          },
          "hovermode": "closest",
          "mapbox": {
           "style": "light"
          },
          "paper_bgcolor": "white",
          "plot_bgcolor": "#E5ECF6",
          "polar": {
           "angularaxis": {
            "gridcolor": "white",
            "linecolor": "white",
            "ticks": ""
           },
           "bgcolor": "#E5ECF6",
           "radialaxis": {
            "gridcolor": "white",
            "linecolor": "white",
            "ticks": ""
           }
          },
          "scene": {
           "xaxis": {
            "backgroundcolor": "#E5ECF6",
            "gridcolor": "white",
            "gridwidth": 2,
            "linecolor": "white",
            "showbackground": true,
            "ticks": "",
            "zerolinecolor": "white"
           },
           "yaxis": {
            "backgroundcolor": "#E5ECF6",
            "gridcolor": "white",
            "gridwidth": 2,
            "linecolor": "white",
            "showbackground": true,
            "ticks": "",
            "zerolinecolor": "white"
           },
           "zaxis": {
            "backgroundcolor": "#E5ECF6",
            "gridcolor": "white",
            "gridwidth": 2,
            "linecolor": "white",
            "showbackground": true,
            "ticks": "",
            "zerolinecolor": "white"
           }
          },
          "shapedefaults": {
           "line": {
            "color": "#2a3f5f"
           }
          },
          "ternary": {
           "aaxis": {
            "gridcolor": "white",
            "linecolor": "white",
            "ticks": ""
           },
           "baxis": {
            "gridcolor": "white",
            "linecolor": "white",
            "ticks": ""
           },
           "bgcolor": "#E5ECF6",
           "caxis": {
            "gridcolor": "white",
            "linecolor": "white",
            "ticks": ""
           }
          },
          "title": {
           "x": 0.05
          },
          "xaxis": {
           "automargin": true,
           "gridcolor": "white",
           "linecolor": "white",
           "ticks": "",
           "title": {
            "standoff": 15
           },
           "zerolinecolor": "white",
           "zerolinewidth": 2
          },
          "yaxis": {
           "automargin": true,
           "gridcolor": "white",
           "linecolor": "white",
           "ticks": "",
           "title": {
            "standoff": 15
           },
           "zerolinecolor": "white",
           "zerolinewidth": 2
          }
         }
        }
       }
      }
     },
     "metadata": {},
     "output_type": "display_data"
    }
   ],
   "source": [
    "numerical_columns_histogram = [\n",
    "    'Previous_sales', 'Num_contacts'\n",
    "]\n",
    "\n",
    "fig = go.Figure()\n",
    "for column in numerical_columns_histogram:\n",
    "    fig.add_trace(go.Histogram(x=df[column], name=column))\n",
    "fig.update_layout(barmode='stack')\n",
    "fig.show()"
   ]
  },
  {
   "cell_type": "code",
   "execution_count": 11,
   "metadata": {},
   "outputs": [
    {
     "data": {
      "application/vnd.plotly.v1+json": {
       "config": {
        "plotlyServerURL": "https://plot.ly"
       },
       "data": [
        {
         "name": "Contact_hour_round",
         "type": "histogram",
         "x": [
          "1900-01-01T06:00:00",
          "1900-01-01T17:00:00",
          "1900-01-01T06:00:00",
          "1900-01-01T06:00:00",
          "1900-01-01T09:00:00",
          "1900-01-01T08:00:00",
          "1900-01-01T10:00:00",
          "1900-01-01T08:00:00",
          "1900-01-01T10:00:00",
          "1900-01-01T10:00:00",
          "1900-01-01T12:00:00",
          "1900-01-01T06:00:00",
          "1900-01-01T16:00:00",
          "1900-01-01T12:00:00",
          "1900-01-01T11:00:00",
          "1900-01-01T15:00:00",
          "1900-01-01T11:00:00",
          "1900-01-01T09:00:00",
          "1900-01-01T16:00:00",
          "1900-01-01T06:00:00",
          "1900-01-01T06:00:00",
          "1900-01-01T13:00:00",
          "1900-01-01T12:00:00",
          "1900-01-01T07:00:00",
          "1900-01-01T13:00:00",
          "1900-01-01T06:00:00",
          "1900-01-01T12:00:00",
          "1900-01-01T08:00:00",
          "1900-01-01T16:00:00",
          "1900-01-01T12:00:00",
          "1900-01-01T14:00:00",
          "1900-01-01T13:00:00",
          "1900-01-01T14:00:00",
          "1900-01-01T09:00:00",
          "1900-01-01T12:00:00",
          "1900-01-01T17:00:00",
          "1900-01-01T10:00:00",
          "1900-01-01T18:00:00",
          "1900-01-01T06:00:00",
          "1900-01-01T06:00:00",
          "1900-01-01T17:00:00",
          "1900-01-01T06:00:00",
          "1900-01-01T06:00:00",
          "1900-01-01T12:00:00",
          "1900-01-01T07:00:00",
          "1900-01-01T14:00:00",
          "1900-01-01T12:00:00",
          "1900-01-01T08:00:00",
          "1900-01-01T12:00:00",
          "1900-01-01T11:00:00",
          "1900-01-01T13:00:00",
          "1900-01-01T13:00:00",
          "1900-01-01T06:00:00",
          "1900-01-01T13:00:00",
          "1900-01-01T06:00:00",
          "1900-01-01T11:00:00",
          "1900-01-01T08:00:00",
          "1900-01-01T12:00:00",
          "1900-01-01T08:00:00",
          "1900-01-01T08:00:00",
          "1900-01-01T16:00:00",
          "1900-01-01T11:00:00",
          "1900-01-01T07:00:00",
          "1900-01-01T07:00:00",
          "1900-01-01T14:00:00",
          "1900-01-01T07:00:00",
          "1900-01-01T08:00:00",
          "1900-01-01T08:00:00",
          "1900-01-01T07:00:00",
          "1900-01-01T06:00:00",
          "1900-01-01T06:00:00",
          "1900-01-01T06:00:00",
          "1900-01-01T11:00:00",
          "1900-01-01T06:00:00",
          "1900-01-01T06:00:00",
          "1900-01-01T15:00:00",
          "1900-01-01T09:00:00",
          "1900-01-01T08:00:00",
          "1900-01-01T16:00:00",
          "1900-01-01T06:00:00",
          "1900-01-01T06:00:00",
          "1900-01-01T06:00:00",
          "1900-01-01T06:00:00",
          "1900-01-01T05:00:00",
          "1900-01-01T06:00:00",
          "1900-01-01T11:00:00",
          "1900-01-01T18:00:00",
          "1900-01-01T17:00:00",
          "1900-01-01T08:00:00",
          "1900-01-01T13:00:00",
          "1900-01-01T17:00:00",
          "1900-01-01T11:00:00",
          "1900-01-01T09:00:00",
          "1900-01-01T08:00:00",
          "1900-01-01T08:00:00",
          "1900-01-01T09:00:00",
          "1900-01-01T06:00:00",
          "1900-01-01T08:00:00",
          "1900-01-01T11:00:00",
          "1900-01-01T14:00:00",
          "1900-01-01T18:00:00",
          "1900-01-01T06:00:00",
          "1900-01-01T08:00:00",
          "1900-01-01T11:00:00",
          "1900-01-01T05:00:00",
          "1900-01-01T07:00:00",
          "1900-01-01T06:00:00",
          "1900-01-01T16:00:00",
          "1900-01-01T07:00:00",
          "1900-01-01T17:00:00",
          "1900-01-01T06:00:00",
          "1900-01-01T06:00:00",
          "1900-01-01T08:00:00",
          "1900-01-01T06:00:00",
          "1900-01-01T14:00:00",
          "1900-01-01T08:00:00",
          "1900-01-01T09:00:00",
          "1900-01-01T08:00:00",
          "1900-01-01T11:00:00",
          "1900-01-01T18:00:00",
          "1900-01-01T15:00:00",
          "1900-01-01T08:00:00",
          "1900-01-01T17:00:00",
          "1900-01-01T06:00:00",
          "1900-01-01T14:00:00",
          "1900-01-01T08:00:00",
          "1900-01-01T09:00:00",
          "1900-01-01T10:00:00",
          "1900-01-01T10:00:00",
          "1900-01-01T09:00:00",
          "1900-01-01T06:00:00",
          "1900-01-01T16:00:00",
          "1900-01-01T08:00:00",
          "1900-01-01T14:00:00",
          "1900-01-01T08:00:00",
          "1900-01-01T16:00:00",
          "1900-01-01T17:00:00",
          "1900-01-01T11:00:00",
          "1900-01-01T06:00:00",
          "1900-01-01T16:00:00",
          "1900-01-01T06:00:00",
          "1900-01-01T06:00:00",
          "1900-01-01T14:00:00",
          "1900-01-01T10:00:00",
          "1900-01-01T10:00:00",
          "1900-01-01T08:00:00",
          "1900-01-01T16:00:00",
          "1900-01-01T18:00:00",
          "1900-01-01T11:00:00",
          "1900-01-01T08:00:00",
          "1900-01-01T13:00:00",
          "1900-01-01T17:00:00",
          "1900-01-01T14:00:00",
          "1900-01-01T11:00:00",
          "1900-01-01T14:00:00",
          "1900-01-01T17:00:00",
          "1900-01-01T12:00:00",
          "1900-01-01T16:00:00",
          "1900-01-01T15:00:00",
          "1900-01-01T16:00:00",
          "1900-01-01T08:00:00",
          "1900-01-01T14:00:00",
          "1900-01-01T06:00:00",
          "1900-01-01T06:00:00",
          "1900-01-01T08:00:00",
          "1900-01-01T06:00:00",
          "1900-01-01T08:00:00",
          "1900-01-01T14:00:00",
          "1900-01-01T10:00:00",
          "1900-01-01T10:00:00",
          "1900-01-01T14:00:00",
          "1900-01-01T11:00:00",
          "1900-01-01T06:00:00",
          "1900-01-01T09:00:00",
          "1900-01-01T06:00:00",
          "1900-01-01T07:00:00",
          "1900-01-01T06:00:00",
          "1900-01-01T06:00:00",
          "1900-01-01T07:00:00",
          "1900-01-01T08:00:00",
          "1900-01-01T13:00:00",
          "1900-01-01T13:00:00",
          "1900-01-01T08:00:00",
          "1900-01-01T11:00:00",
          "1900-01-01T11:00:00",
          "1900-01-01T12:00:00",
          "1900-01-01T10:00:00",
          "1900-01-01T10:00:00",
          "1900-01-01T11:00:00",
          "1900-01-01T09:00:00",
          "1900-01-01T08:00:00",
          "1900-01-01T06:00:00",
          "1900-01-01T10:00:00",
          "1900-01-01T15:00:00",
          "1900-01-01T09:00:00",
          "1900-01-01T06:00:00",
          "1900-01-01T13:00:00",
          "1900-01-01T08:00:00",
          "1900-01-01T08:00:00",
          "1900-01-01T17:00:00",
          "1900-01-01T06:00:00",
          "1900-01-01T17:00:00",
          "1900-01-01T08:00:00",
          "1900-01-01T10:00:00",
          "1900-01-01T15:00:00",
          "1900-01-01T10:00:00",
          "1900-01-01T06:00:00",
          "1900-01-01T08:00:00",
          "1900-01-01T17:00:00",
          "1900-01-01T10:00:00",
          "1900-01-01T14:00:00",
          "1900-01-01T16:00:00",
          "1900-01-01T10:00:00",
          "1900-01-01T06:00:00",
          "1900-01-01T09:00:00",
          "1900-01-01T10:00:00",
          "1900-01-01T11:00:00",
          "1900-01-01T06:00:00",
          "1900-01-01T06:00:00",
          "1900-01-01T06:00:00",
          "1900-01-01T17:00:00",
          "1900-01-01T06:00:00",
          "1900-01-01T13:00:00",
          "1900-01-01T06:00:00",
          "1900-01-01T09:00:00",
          "1900-01-01T14:00:00",
          "1900-01-01T06:00:00",
          "1900-01-01T14:00:00",
          "1900-01-01T14:00:00",
          "1900-01-01T12:00:00",
          "1900-01-01T06:00:00",
          "1900-01-01T07:00:00",
          "1900-01-01T10:00:00",
          "1900-01-01T12:00:00",
          "1900-01-01T15:00:00",
          "1900-01-01T06:00:00",
          "1900-01-01T12:00:00",
          "1900-01-01T07:00:00",
          "1900-01-01T12:00:00",
          "1900-01-01T10:00:00",
          "1900-01-01T10:00:00",
          "1900-01-01T07:00:00",
          "1900-01-01T14:00:00",
          "1900-01-01T10:00:00",
          "1900-01-01T06:00:00",
          "1900-01-01T13:00:00",
          "1900-01-01T10:00:00",
          "1900-01-01T10:00:00",
          "1900-01-01T05:00:00",
          "1900-01-01T16:00:00",
          "1900-01-01T13:00:00",
          "1900-01-01T06:00:00",
          "1900-01-01T12:00:00",
          "1900-01-01T18:00:00",
          "1900-01-01T08:00:00",
          "1900-01-01T15:00:00",
          "1900-01-01T06:00:00",
          "1900-01-01T06:00:00",
          "1900-01-01T06:00:00",
          "1900-01-01T14:00:00",
          "1900-01-01T10:00:00",
          "1900-01-01T08:00:00",
          "1900-01-01T06:00:00",
          "1900-01-01T15:00:00",
          "1900-01-01T15:00:00",
          "1900-01-01T10:00:00",
          "1900-01-01T15:00:00",
          "1900-01-01T15:00:00",
          "1900-01-01T06:00:00",
          "1900-01-01T10:00:00",
          "1900-01-01T09:00:00",
          "1900-01-01T12:00:00",
          "1900-01-01T08:00:00",
          "1900-01-01T11:00:00",
          "1900-01-01T05:00:00",
          "1900-01-01T10:00:00",
          "1900-01-01T14:00:00",
          "1900-01-01T06:00:00",
          "1900-01-01T06:00:00",
          "1900-01-01T18:00:00",
          "1900-01-01T14:00:00",
          "1900-01-01T06:00:00",
          "1900-01-01T06:00:00",
          "1900-01-01T14:00:00",
          "1900-01-01T06:00:00",
          "1900-01-01T14:00:00",
          "1900-01-01T10:00:00",
          "1900-01-01T16:00:00",
          "1900-01-01T09:00:00",
          "1900-01-01T16:00:00",
          "1900-01-01T14:00:00",
          "1900-01-01T16:00:00",
          "1900-01-01T15:00:00",
          "1900-01-01T15:00:00",
          "1900-01-01T15:00:00",
          "1900-01-01T10:00:00",
          "1900-01-01T05:00:00",
          "1900-01-01T06:00:00",
          "1900-01-01T06:00:00",
          "1900-01-01T10:00:00",
          "1900-01-01T12:00:00",
          "1900-01-01T12:00:00",
          "1900-01-01T10:00:00",
          "1900-01-01T06:00:00",
          "1900-01-01T13:00:00",
          "1900-01-01T10:00:00",
          "1900-01-01T06:00:00",
          "1900-01-01T17:00:00",
          "1900-01-01T06:00:00",
          "1900-01-01T16:00:00",
          "1900-01-01T14:00:00",
          "1900-01-01T06:00:00",
          "1900-01-01T10:00:00",
          "1900-01-01T17:00:00",
          "1900-01-01T16:00:00",
          "1900-01-01T16:00:00",
          "1900-01-01T10:00:00",
          "1900-01-01T10:00:00",
          "1900-01-01T13:00:00",
          "1900-01-01T06:00:00",
          "1900-01-01T06:00:00",
          "1900-01-01T12:00:00",
          "1900-01-01T06:00:00",
          "1900-01-01T10:00:00",
          "1900-01-01T14:00:00",
          "1900-01-01T07:00:00",
          "1900-01-01T15:00:00",
          "1900-01-01T16:00:00",
          "1900-01-01T05:00:00",
          "1900-01-01T10:00:00",
          "1900-01-01T16:00:00",
          "1900-01-01T14:00:00",
          "1900-01-01T06:00:00",
          "1900-01-01T16:00:00",
          "1900-01-01T06:00:00",
          "1900-01-01T06:00:00",
          "1900-01-01T12:00:00",
          "1900-01-01T10:00:00",
          "1900-01-01T08:00:00",
          "1900-01-01T08:00:00",
          "1900-01-01T12:00:00",
          "1900-01-01T10:00:00",
          "1900-01-01T06:00:00",
          "1900-01-01T06:00:00",
          "1900-01-01T11:00:00",
          "1900-01-01T14:00:00",
          "1900-01-01T16:00:00",
          "1900-01-01T16:00:00",
          "1900-01-01T10:00:00",
          "1900-01-01T12:00:00",
          "1900-01-01T13:00:00",
          "1900-01-01T10:00:00",
          "1900-01-01T10:00:00",
          "1900-01-01T06:00:00",
          "1900-01-01T06:00:00",
          "1900-01-01T12:00:00",
          "1900-01-01T10:00:00",
          "1900-01-01T15:00:00",
          "1900-01-01T15:00:00",
          "1900-01-01T12:00:00",
          "1900-01-01T08:00:00",
          "1900-01-01T09:00:00",
          "1900-01-01T12:00:00",
          "1900-01-01T06:00:00",
          "1900-01-01T08:00:00",
          "1900-01-01T06:00:00",
          "1900-01-01T17:00:00",
          "1900-01-01T07:00:00",
          "1900-01-01T17:00:00",
          "1900-01-01T12:00:00",
          "1900-01-01T06:00:00",
          "1900-01-01T08:00:00",
          "1900-01-01T12:00:00",
          "1900-01-01T12:00:00",
          "1900-01-01T13:00:00",
          "1900-01-01T15:00:00",
          "1900-01-01T06:00:00",
          "1900-01-01T15:00:00",
          "1900-01-01T06:00:00",
          "1900-01-01T12:00:00",
          "1900-01-01T06:00:00",
          "1900-01-01T16:00:00",
          "1900-01-01T13:00:00",
          "1900-01-01T06:00:00",
          "1900-01-01T05:00:00",
          "1900-01-01T14:00:00",
          "1900-01-01T06:00:00",
          "1900-01-01T15:00:00",
          "1900-01-01T12:00:00",
          "1900-01-01T04:00:00",
          "1900-01-01T09:00:00",
          "1900-01-01T06:00:00",
          "1900-01-01T16:00:00",
          "1900-01-01T16:00:00",
          "1900-01-01T10:00:00",
          "1900-01-01T05:00:00",
          "1900-01-01T15:00:00",
          "1900-01-01T16:00:00",
          "1900-01-01T07:00:00",
          "1900-01-01T16:00:00",
          "1900-01-01T16:00:00",
          "1900-01-01T06:00:00",
          "1900-01-01T07:00:00",
          "1900-01-01T06:00:00",
          "1900-01-01T06:00:00",
          "1900-01-01T10:00:00",
          "1900-01-01T13:00:00",
          "1900-01-01T06:00:00",
          "1900-01-01T14:00:00",
          "1900-01-01T11:00:00",
          "1900-01-01T13:00:00",
          "1900-01-01T15:00:00",
          "1900-01-01T16:00:00",
          "1900-01-01T16:00:00",
          "1900-01-01T04:00:00",
          "1900-01-01T06:00:00",
          "1900-01-01T06:00:00",
          "1900-01-01T14:00:00",
          "1900-01-01T06:00:00",
          "1900-01-01T12:00:00",
          "1900-01-01T05:00:00",
          "1900-01-01T14:00:00",
          "1900-01-01T10:00:00",
          "1900-01-01T14:00:00",
          "1900-01-01T06:00:00",
          "1900-01-01T16:00:00",
          "1900-01-01T15:00:00",
          "1900-01-01T16:00:00",
          "1900-01-01T06:00:00",
          "1900-01-01T16:00:00",
          "1900-01-01T05:00:00",
          "1900-01-01T18:00:00",
          "1900-01-01T12:00:00",
          "1900-01-01T06:00:00",
          "1900-01-01T05:00:00",
          "1900-01-01T10:00:00",
          "1900-01-01T08:00:00",
          "1900-01-01T13:00:00",
          "1900-01-01T16:00:00",
          "1900-01-01T14:00:00",
          "1900-01-01T11:00:00",
          "1900-01-01T11:00:00",
          "1900-01-01T16:00:00",
          "1900-01-01T16:00:00",
          "1900-01-01T12:00:00",
          "1900-01-01T09:00:00",
          "1900-01-01T15:00:00",
          "1900-01-01T08:00:00",
          "1900-01-01T10:00:00",
          "1900-01-01T08:00:00",
          "1900-01-01T13:00:00",
          "1900-01-01T14:00:00",
          "1900-01-01T06:00:00",
          "1900-01-01T10:00:00",
          "1900-01-01T16:00:00",
          "1900-01-01T07:00:00",
          "1900-01-01T06:00:00",
          "1900-01-01T15:00:00",
          "1900-01-01T06:00:00",
          "1900-01-01T12:00:00",
          "1900-01-01T06:00:00",
          "1900-01-01T06:00:00",
          "1900-01-01T06:00:00",
          "1900-01-01T10:00:00",
          "1900-01-01T13:00:00",
          "1900-01-01T17:00:00",
          "1900-01-01T12:00:00",
          "1900-01-01T18:00:00",
          "1900-01-01T09:00:00",
          "1900-01-01T14:00:00",
          "1900-01-01T16:00:00",
          "1900-01-01T18:00:00",
          "1900-01-01T14:00:00",
          "1900-01-01T12:00:00",
          "1900-01-01T08:00:00",
          "1900-01-01T12:00:00",
          "1900-01-01T09:00:00",
          "1900-01-01T06:00:00",
          "1900-01-01T16:00:00",
          "1900-01-01T09:00:00",
          "1900-01-01T10:00:00",
          "1900-01-01T11:00:00",
          "1900-01-01T13:00:00",
          "1900-01-01T18:00:00",
          "1900-01-01T16:00:00",
          "1900-01-01T17:00:00",
          "1900-01-01T11:00:00",
          "1900-01-01T15:00:00",
          "1900-01-01T13:00:00",
          "1900-01-01T16:00:00",
          "1900-01-01T10:00:00",
          "1900-01-01T06:00:00",
          "1900-01-01T18:00:00",
          "1900-01-01T11:00:00",
          "1900-01-01T05:00:00",
          "1900-01-01T17:00:00",
          "1900-01-01T12:00:00",
          "1900-01-01T07:00:00",
          "1900-01-01T16:00:00",
          "1900-01-01T18:00:00",
          "1900-01-01T07:00:00",
          "1900-01-01T16:00:00",
          "1900-01-01T11:00:00",
          "1900-01-01T06:00:00",
          "1900-01-01T16:00:00",
          "1900-01-01T18:00:00",
          "1900-01-01T12:00:00",
          "1900-01-01T06:00:00",
          "1900-01-01T18:00:00",
          "1900-01-01T18:00:00",
          "1900-01-01T08:00:00",
          "1900-01-01T18:00:00",
          "1900-01-01T18:00:00",
          "1900-01-01T06:00:00",
          "1900-01-01T18:00:00",
          "1900-01-01T17:00:00",
          "1900-01-01T14:00:00",
          "1900-01-01T12:00:00",
          "1900-01-01T15:00:00",
          "1900-01-01T16:00:00",
          "1900-01-01T06:00:00",
          "1900-01-01T16:00:00",
          "1900-01-01T06:00:00",
          "1900-01-01T04:00:00",
          "1900-01-01T12:00:00",
          "1900-01-01T16:00:00",
          "1900-01-01T08:00:00",
          "1900-01-01T09:00:00",
          "1900-01-01T09:00:00",
          "1900-01-01T13:00:00",
          "1900-01-01T18:00:00",
          "1900-01-01T16:00:00",
          "1900-01-01T11:00:00",
          "1900-01-01T16:00:00",
          "1900-01-01T18:00:00",
          "1900-01-01T16:00:00",
          "1900-01-01T18:00:00",
          "1900-01-01T12:00:00",
          "1900-01-01T16:00:00",
          "1900-01-01T17:00:00",
          "1900-01-01T12:00:00",
          "1900-01-01T16:00:00",
          "1900-01-01T12:00:00",
          "1900-01-01T09:00:00",
          "1900-01-01T14:00:00",
          "1900-01-01T06:00:00",
          "1900-01-01T10:00:00",
          "1900-01-01T14:00:00",
          "1900-01-01T08:00:00",
          "1900-01-01T18:00:00",
          "1900-01-01T15:00:00",
          "1900-01-01T17:00:00",
          "1900-01-01T16:00:00",
          "1900-01-01T16:00:00",
          "1900-01-01T18:00:00",
          "1900-01-01T15:00:00",
          "1900-01-01T08:00:00",
          "1900-01-01T16:00:00",
          "1900-01-01T13:00:00",
          "1900-01-01T12:00:00",
          "1900-01-01T06:00:00",
          "1900-01-01T13:00:00",
          "1900-01-01T18:00:00",
          "1900-01-01T17:00:00",
          "1900-01-01T10:00:00",
          "1900-01-01T11:00:00",
          "1900-01-01T10:00:00",
          "1900-01-01T12:00:00",
          "1900-01-01T18:00:00",
          "1900-01-01T10:00:00",
          "1900-01-01T09:00:00",
          "1900-01-01T12:00:00",
          "1900-01-01T08:00:00",
          "1900-01-01T06:00:00",
          "1900-01-01T07:00:00",
          "1900-01-01T14:00:00",
          "1900-01-01T14:00:00",
          "1900-01-01T06:00:00",
          "1900-01-01T06:00:00",
          "1900-01-01T15:00:00",
          "1900-01-01T14:00:00",
          "1900-01-01T16:00:00",
          "1900-01-01T15:00:00",
          "1900-01-01T11:00:00",
          "1900-01-01T10:00:00",
          "1900-01-01T16:00:00",
          "1900-01-01T17:00:00",
          "1900-01-01T18:00:00",
          "1900-01-01T12:00:00",
          "1900-01-01T10:00:00",
          "1900-01-01T05:00:00",
          "1900-01-01T06:00:00",
          "1900-01-01T12:00:00",
          "1900-01-01T14:00:00",
          "1900-01-01T13:00:00",
          "1900-01-01T10:00:00",
          "1900-01-01T07:00:00",
          "1900-01-01T07:00:00",
          "1900-01-01T08:00:00",
          "1900-01-01T15:00:00",
          "1900-01-01T05:00:00",
          "1900-01-01T10:00:00",
          "1900-01-01T05:00:00",
          "1900-01-01T18:00:00",
          "1900-01-01T06:00:00",
          "1900-01-01T18:00:00",
          "1900-01-01T10:00:00",
          "1900-01-01T16:00:00",
          "1900-01-01T15:00:00",
          "1900-01-01T08:00:00",
          "1900-01-01T18:00:00",
          "1900-01-01T13:00:00",
          "1900-01-01T06:00:00",
          "1900-01-01T06:00:00",
          "1900-01-01T11:00:00",
          "1900-01-01T10:00:00",
          "1900-01-01T18:00:00",
          "1900-01-01T14:00:00",
          "1900-01-01T07:00:00",
          "1900-01-01T16:00:00",
          "1900-01-01T04:00:00",
          "1900-01-01T12:00:00",
          "1900-01-01T16:00:00",
          "1900-01-01T15:00:00",
          "1900-01-01T07:00:00",
          "1900-01-01T15:00:00",
          "1900-01-01T06:00:00",
          "1900-01-01T06:00:00",
          "1900-01-01T11:00:00",
          "1900-01-01T10:00:00",
          "1900-01-01T12:00:00",
          "1900-01-01T12:00:00",
          "1900-01-01T10:00:00",
          "1900-01-01T15:00:00",
          "1900-01-01T13:00:00",
          "1900-01-01T10:00:00",
          "1900-01-01T15:00:00",
          "1900-01-01T12:00:00",
          "1900-01-01T18:00:00",
          "1900-01-01T14:00:00",
          "1900-01-01T11:00:00",
          "1900-01-01T10:00:00",
          "1900-01-01T10:00:00",
          "1900-01-01T15:00:00",
          "1900-01-01T14:00:00",
          "1900-01-01T08:00:00",
          "1900-01-01T12:00:00",
          "1900-01-01T18:00:00",
          "1900-01-01T17:00:00",
          "1900-01-01T07:00:00",
          "1900-01-01T08:00:00",
          "1900-01-01T06:00:00",
          "1900-01-01T12:00:00",
          "1900-01-01T14:00:00",
          "1900-01-01T14:00:00",
          "1900-01-01T14:00:00",
          "1900-01-01T14:00:00",
          "1900-01-01T14:00:00",
          "1900-01-01T07:00:00",
          "1900-01-01T12:00:00",
          "1900-01-01T14:00:00",
          "1900-01-01T18:00:00",
          "1900-01-01T12:00:00",
          "1900-01-01T10:00:00",
          "1900-01-01T05:00:00",
          "1900-01-01T12:00:00",
          "1900-01-01T08:00:00",
          "1900-01-01T07:00:00",
          "1900-01-01T12:00:00",
          "1900-01-01T12:00:00",
          "1900-01-01T10:00:00",
          "1900-01-01T10:00:00",
          "1900-01-01T08:00:00",
          "1900-01-01T06:00:00",
          "1900-01-01T14:00:00",
          "1900-01-01T10:00:00",
          "1900-01-01T12:00:00",
          "1900-01-01T11:00:00",
          "1900-01-01T12:00:00",
          "1900-01-01T06:00:00",
          "1900-01-01T15:00:00",
          "1900-01-01T12:00:00",
          "1900-01-01T10:00:00",
          "1900-01-01T12:00:00",
          "1900-01-01T14:00:00",
          "1900-01-01T12:00:00",
          "1900-01-01T16:00:00",
          "1900-01-01T06:00:00",
          "1900-01-01T07:00:00",
          "1900-01-01T12:00:00",
          "1900-01-01T08:00:00",
          "1900-01-01T11:00:00",
          "1900-01-01T14:00:00",
          "1900-01-01T12:00:00",
          "1900-01-01T12:00:00",
          "1900-01-01T16:00:00",
          "1900-01-01T14:00:00",
          "1900-01-01T15:00:00",
          "1900-01-01T05:00:00",
          "1900-01-01T12:00:00",
          "1900-01-01T08:00:00",
          "1900-01-01T07:00:00",
          "1900-01-01T08:00:00",
          "1900-01-01T15:00:00",
          "1900-01-01T13:00:00",
          "1900-01-01T08:00:00",
          "1900-01-01T12:00:00",
          "1900-01-01T08:00:00",
          "1900-01-01T10:00:00",
          "1900-01-01T07:00:00",
          "1900-01-01T17:00:00",
          "1900-01-01T12:00:00",
          "1900-01-01T17:00:00",
          "1900-01-01T15:00:00",
          "1900-01-01T16:00:00",
          "1900-01-01T13:00:00",
          "1900-01-01T09:00:00",
          "1900-01-01T14:00:00",
          "1900-01-01T06:00:00",
          "1900-01-01T08:00:00",
          "1900-01-01T07:00:00",
          "1900-01-01T07:00:00",
          "1900-01-01T06:00:00",
          "1900-01-01T17:00:00",
          "1900-01-01T15:00:00",
          "1900-01-01T11:00:00",
          "1900-01-01T11:00:00",
          "1900-01-01T06:00:00",
          "1900-01-01T11:00:00",
          "1900-01-01T06:00:00",
          "1900-01-01T10:00:00",
          "1900-01-01T15:00:00",
          "1900-01-01T10:00:00",
          "1900-01-01T13:00:00",
          "1900-01-01T06:00:00",
          "1900-01-01T10:00:00",
          "1900-01-01T06:00:00",
          "1900-01-01T08:00:00",
          "1900-01-01T06:00:00",
          "1900-01-01T09:00:00",
          "1900-01-01T12:00:00",
          "1900-01-01T13:00:00",
          "1900-01-01T05:00:00",
          "1900-01-01T11:00:00",
          "1900-01-01T16:00:00",
          "1900-01-01T14:00:00",
          "1900-01-01T14:00:00",
          "1900-01-01T05:00:00",
          "1900-01-01T07:00:00",
          "1900-01-01T13:00:00",
          "1900-01-01T15:00:00",
          "1900-01-01T12:00:00",
          "1900-01-01T16:00:00",
          "1900-01-01T06:00:00",
          "1900-01-01T10:00:00",
          "1900-01-01T06:00:00",
          "1900-01-01T12:00:00",
          "1900-01-01T16:00:00",
          "1900-01-01T06:00:00",
          "1900-01-01T09:00:00",
          "1900-01-01T16:00:00",
          "1900-01-01T16:00:00",
          "1900-01-01T06:00:00",
          "1900-01-01T06:00:00",
          "1900-01-01T09:00:00",
          "1900-01-01T06:00:00",
          "1900-01-01T06:00:00",
          "1900-01-01T10:00:00",
          "1900-01-01T06:00:00",
          "1900-01-01T09:00:00",
          "1900-01-01T08:00:00",
          "1900-01-01T08:00:00",
          "1900-01-01T06:00:00",
          "1900-01-01T13:00:00",
          "1900-01-01T06:00:00",
          "1900-01-01T06:00:00",
          "1900-01-01T06:00:00",
          "1900-01-01T15:00:00",
          "1900-01-01T10:00:00",
          "1900-01-01T04:00:00",
          "1900-01-01T12:00:00",
          "1900-01-01T12:00:00",
          "1900-01-01T06:00:00",
          "1900-01-01T15:00:00",
          "1900-01-01T05:00:00",
          "1900-01-01T08:00:00",
          "1900-01-01T14:00:00",
          "1900-01-01T10:00:00",
          "1900-01-01T06:00:00",
          "1900-01-01T13:00:00",
          "1900-01-01T15:00:00",
          "1900-01-01T08:00:00",
          "1900-01-01T10:00:00",
          "1900-01-01T06:00:00",
          "1900-01-01T15:00:00",
          "1900-01-01T12:00:00",
          "1900-01-01T12:00:00",
          "1900-01-01T12:00:00",
          "1900-01-01T12:00:00",
          "1900-01-01T15:00:00",
          "1900-01-01T10:00:00",
          "1900-01-01T14:00:00",
          "1900-01-01T12:00:00",
          "1900-01-01T15:00:00",
          "1900-01-01T12:00:00",
          "1900-01-01T06:00:00",
          "1900-01-01T05:00:00",
          "1900-01-01T18:00:00",
          "1900-01-01T11:00:00",
          "1900-01-01T15:00:00",
          "1900-01-01T12:00:00",
          "1900-01-01T12:00:00",
          "1900-01-01T07:00:00"
         ]
        },
        {
         "name": "Contact_hour",
         "type": "histogram",
         "x": [
          "1900-01-01T05:30:00",
          "1900-01-01T16:45:00",
          "1900-01-01T06:30:00",
          "1900-01-01T05:30:00",
          "1900-01-01T09:00:00",
          "1900-01-01T07:45:00",
          "1900-01-01T10:00:00",
          "1900-01-01T08:30:00",
          "1900-01-01T10:00:00",
          "1900-01-01T10:30:00",
          "1900-01-01T12:15:00",
          "1900-01-01T05:30:00",
          "1900-01-01T16:30:00",
          "1900-01-01T12:15:00",
          "1900-01-01T11:00:00",
          "1900-01-01T15:00:00",
          "1900-01-01T10:45:00",
          "1900-01-01T09:00:00",
          "1900-01-01T15:45:00",
          "1900-01-01T06:00:00",
          "1900-01-01T05:30:00",
          "1900-01-01T13:00:00",
          "1900-01-01T12:15:00",
          "1900-01-01T07:00:00",
          "1900-01-01T12:45:00",
          "1900-01-01T05:30:00",
          "1900-01-01T12:30:00",
          "1900-01-01T08:30:00",
          "1900-01-01T16:15:00",
          "1900-01-01T11:45:00",
          "1900-01-01T14:00:00",
          "1900-01-01T12:45:00",
          "1900-01-01T14:00:00",
          "1900-01-01T09:15:00",
          "1900-01-01T11:30:00",
          "1900-01-01T17:00:00",
          "1900-01-01T10:00:00",
          "1900-01-01T17:45:00",
          "1900-01-01T06:00:00",
          "1900-01-01T05:30:00",
          "1900-01-01T17:00:00",
          "1900-01-01T06:30:00",
          "1900-01-01T05:30:00",
          "1900-01-01T12:15:00",
          "1900-01-01T07:00:00",
          "1900-01-01T13:45:00",
          "1900-01-01T11:30:00",
          "1900-01-01T07:30:00",
          "1900-01-01T12:15:00",
          "1900-01-01T10:45:00",
          "1900-01-01T13:00:00",
          "1900-01-01T13:15:00",
          "1900-01-01T05:30:00",
          "1900-01-01T12:45:00",
          "1900-01-01T05:30:00",
          "1900-01-01T10:45:00",
          "1900-01-01T08:30:00",
          "1900-01-01T11:30:00",
          "1900-01-01T08:30:00",
          "1900-01-01T08:30:00",
          "1900-01-01T16:15:00",
          "1900-01-01T10:45:00",
          "1900-01-01T07:15:00",
          "1900-01-01T06:45:00",
          "1900-01-01T14:30:00",
          "1900-01-01T06:45:00",
          "1900-01-01T08:30:00",
          "1900-01-01T08:30:00",
          "1900-01-01T06:45:00",
          "1900-01-01T05:30:00",
          "1900-01-01T05:30:00",
          "1900-01-01T05:30:00",
          "1900-01-01T11:15:00",
          "1900-01-01T05:30:00",
          "1900-01-01T05:30:00",
          "1900-01-01T14:45:00",
          "1900-01-01T09:15:00",
          "1900-01-01T08:30:00",
          "1900-01-01T16:00:00",
          "1900-01-01T05:30:00",
          "1900-01-01T05:30:00",
          "1900-01-01T05:30:00",
          "1900-01-01T05:30:00",
          "1900-01-01T05:15:00",
          "1900-01-01T05:30:00",
          "1900-01-01T11:00:00",
          "1900-01-01T17:45:00",
          "1900-01-01T17:00:00",
          "1900-01-01T08:30:00",
          "1900-01-01T13:00:00",
          "1900-01-01T17:00:00",
          "1900-01-01T10:45:00",
          "1900-01-01T09:00:00",
          "1900-01-01T08:30:00",
          "1900-01-01T07:45:00",
          "1900-01-01T09:15:00",
          "1900-01-01T05:30:00",
          "1900-01-01T08:30:00",
          "1900-01-01T11:00:00",
          "1900-01-01T14:00:00",
          "1900-01-01T17:30:00",
          "1900-01-01T05:30:00",
          "1900-01-01T07:30:00",
          "1900-01-01T11:00:00",
          "1900-01-01T05:00:00",
          "1900-01-01T07:15:00",
          "1900-01-01T05:30:00",
          "1900-01-01T16:15:00",
          "1900-01-01T06:45:00",
          "1900-01-01T16:45:00",
          "1900-01-01T06:00:00",
          "1900-01-01T06:30:00",
          "1900-01-01T07:45:00",
          "1900-01-01T06:00:00",
          "1900-01-01T13:30:00",
          "1900-01-01T08:30:00",
          "1900-01-01T08:45:00",
          "1900-01-01T08:30:00",
          "1900-01-01T11:15:00",
          "1900-01-01T17:30:00",
          "1900-01-01T15:00:00",
          "1900-01-01T08:30:00",
          "1900-01-01T16:45:00",
          "1900-01-01T06:00:00",
          "1900-01-01T14:00:00",
          "1900-01-01T08:00:00",
          "1900-01-01T09:00:00",
          "1900-01-01T09:30:00",
          "1900-01-01T10:00:00",
          "1900-01-01T09:15:00",
          "1900-01-01T06:00:00",
          "1900-01-01T16:15:00",
          "1900-01-01T08:30:00",
          "1900-01-01T14:15:00",
          "1900-01-01T08:30:00",
          "1900-01-01T16:00:00",
          "1900-01-01T17:00:00",
          "1900-01-01T10:45:00",
          "1900-01-01T06:00:00",
          "1900-01-01T16:15:00",
          "1900-01-01T06:15:00",
          "1900-01-01T06:00:00",
          "1900-01-01T14:00:00",
          "1900-01-01T10:15:00",
          "1900-01-01T10:30:00",
          "1900-01-01T08:30:00",
          "1900-01-01T16:30:00",
          "1900-01-01T17:45:00",
          "1900-01-01T11:15:00",
          "1900-01-01T07:45:00",
          "1900-01-01T13:00:00",
          "1900-01-01T17:00:00",
          "1900-01-01T14:30:00",
          "1900-01-01T10:45:00",
          "1900-01-01T14:00:00",
          "1900-01-01T17:15:00",
          "1900-01-01T11:30:00",
          "1900-01-01T16:00:00",
          "1900-01-01T15:00:00",
          "1900-01-01T15:30:00",
          "1900-01-01T08:30:00",
          "1900-01-01T14:00:00",
          "1900-01-01T06:15:00",
          "1900-01-01T06:00:00",
          "1900-01-01T08:30:00",
          "1900-01-01T06:00:00",
          "1900-01-01T08:30:00",
          "1900-01-01T14:00:00",
          "1900-01-01T10:15:00",
          "1900-01-01T09:45:00",
          "1900-01-01T13:45:00",
          "1900-01-01T11:00:00",
          "1900-01-01T06:00:00",
          "1900-01-01T09:15:00",
          "1900-01-01T06:00:00",
          "1900-01-01T07:15:00",
          "1900-01-01T06:15:00",
          "1900-01-01T06:00:00",
          "1900-01-01T06:45:00",
          "1900-01-01T08:30:00",
          "1900-01-01T13:15:00",
          "1900-01-01T13:00:00",
          "1900-01-01T08:30:00",
          "1900-01-01T10:45:00",
          "1900-01-01T10:45:00",
          "1900-01-01T11:45:00",
          "1900-01-01T09:30:00",
          "1900-01-01T09:45:00",
          "1900-01-01T11:00:00",
          "1900-01-01T08:45:00",
          "1900-01-01T08:30:00",
          "1900-01-01T06:00:00",
          "1900-01-01T10:30:00",
          "1900-01-01T15:15:00",
          "1900-01-01T09:15:00",
          "1900-01-01T06:00:00",
          "1900-01-01T13:15:00",
          "1900-01-01T08:00:00",
          "1900-01-01T07:45:00",
          "1900-01-01T16:45:00",
          "1900-01-01T06:00:00",
          "1900-01-01T17:15:00",
          "1900-01-01T08:30:00",
          "1900-01-01T09:30:00",
          "1900-01-01T15:00:00",
          "1900-01-01T09:30:00",
          "1900-01-01T06:00:00",
          "1900-01-01T08:15:00",
          "1900-01-01T17:00:00",
          "1900-01-01T09:30:00",
          "1900-01-01T14:00:00",
          "1900-01-01T16:15:00",
          "1900-01-01T09:30:00",
          "1900-01-01T06:00:00",
          "1900-01-01T09:15:00",
          "1900-01-01T09:30:00",
          "1900-01-01T10:45:00",
          "1900-01-01T06:00:00",
          "1900-01-01T06:00:00",
          "1900-01-01T06:00:00",
          "1900-01-01T17:00:00",
          "1900-01-01T06:30:00",
          "1900-01-01T13:00:00",
          "1900-01-01T06:00:00",
          "1900-01-01T08:45:00",
          "1900-01-01T14:00:00",
          "1900-01-01T06:00:00",
          "1900-01-01T14:00:00",
          "1900-01-01T14:00:00",
          "1900-01-01T11:45:00",
          "1900-01-01T06:00:00",
          "1900-01-01T07:15:00",
          "1900-01-01T09:30:00",
          "1900-01-01T11:30:00",
          "1900-01-01T15:00:00",
          "1900-01-01T06:00:00",
          "1900-01-01T12:00:00",
          "1900-01-01T07:15:00",
          "1900-01-01T12:15:00",
          "1900-01-01T09:30:00",
          "1900-01-01T09:30:00",
          "1900-01-01T06:45:00",
          "1900-01-01T14:30:00",
          "1900-01-01T10:30:00",
          "1900-01-01T06:00:00",
          "1900-01-01T12:45:00",
          "1900-01-01T10:00:00",
          "1900-01-01T10:00:00",
          "1900-01-01T05:15:00",
          "1900-01-01T16:15:00",
          "1900-01-01T13:15:00",
          "1900-01-01T06:00:00",
          "1900-01-01T12:00:00",
          "1900-01-01T17:30:00",
          "1900-01-01T07:45:00",
          "1900-01-01T14:45:00",
          "1900-01-01T06:00:00",
          "1900-01-01T06:00:00",
          "1900-01-01T06:00:00",
          "1900-01-01T13:30:00",
          "1900-01-01T10:30:00",
          "1900-01-01T07:30:00",
          "1900-01-01T06:00:00",
          "1900-01-01T15:15:00",
          "1900-01-01T15:00:00",
          "1900-01-01T09:30:00",
          "1900-01-01T15:00:00",
          "1900-01-01T14:45:00",
          "1900-01-01T05:30:00",
          "1900-01-01T09:30:00",
          "1900-01-01T09:00:00",
          "1900-01-01T12:00:00",
          "1900-01-01T08:30:00",
          "1900-01-01T10:45:00",
          "1900-01-01T05:15:00",
          "1900-01-01T09:30:00",
          "1900-01-01T14:00:00",
          "1900-01-01T05:30:00",
          "1900-01-01T05:30:00",
          "1900-01-01T17:45:00",
          "1900-01-01T13:30:00",
          "1900-01-01T05:30:00",
          "1900-01-01T05:30:00",
          "1900-01-01T14:30:00",
          "1900-01-01T05:30:00",
          "1900-01-01T14:00:00",
          "1900-01-01T09:30:00",
          "1900-01-01T16:30:00",
          "1900-01-01T09:15:00",
          "1900-01-01T16:15:00",
          "1900-01-01T13:45:00",
          "1900-01-01T16:30:00",
          "1900-01-01T14:45:00",
          "1900-01-01T15:15:00",
          "1900-01-01T15:00:00",
          "1900-01-01T09:30:00",
          "1900-01-01T05:00:00",
          "1900-01-01T05:30:00",
          "1900-01-01T05:45:00",
          "1900-01-01T10:15:00",
          "1900-01-01T12:00:00",
          "1900-01-01T11:45:00",
          "1900-01-01T09:30:00",
          "1900-01-01T05:30:00",
          "1900-01-01T13:15:00",
          "1900-01-01T10:15:00",
          "1900-01-01T06:15:00",
          "1900-01-01T16:45:00",
          "1900-01-01T06:15:00",
          "1900-01-01T16:30:00",
          "1900-01-01T14:00:00",
          "1900-01-01T05:30:00",
          "1900-01-01T10:00:00",
          "1900-01-01T17:00:00",
          "1900-01-01T16:15:00",
          "1900-01-01T16:00:00",
          "1900-01-01T09:30:00",
          "1900-01-01T10:15:00",
          "1900-01-01T13:00:00",
          "1900-01-01T05:45:00",
          "1900-01-01T05:30:00",
          "1900-01-01T12:15:00",
          "1900-01-01T05:30:00",
          "1900-01-01T10:00:00",
          "1900-01-01T13:30:00",
          "1900-01-01T07:00:00",
          "1900-01-01T14:45:00",
          "1900-01-01T16:30:00",
          "1900-01-01T05:00:00",
          "1900-01-01T09:30:00",
          "1900-01-01T15:30:00",
          "1900-01-01T14:00:00",
          "1900-01-01T05:30:00",
          "1900-01-01T15:45:00",
          "1900-01-01T05:30:00",
          "1900-01-01T05:30:00",
          "1900-01-01T12:30:00",
          "1900-01-01T10:30:00",
          "1900-01-01T08:15:00",
          "1900-01-01T08:15:00",
          "1900-01-01T12:15:00",
          "1900-01-01T09:30:00",
          "1900-01-01T05:30:00",
          "1900-01-01T05:30:00",
          "1900-01-01T11:15:00",
          "1900-01-01T14:00:00",
          "1900-01-01T16:00:00",
          "1900-01-01T16:15:00",
          "1900-01-01T09:45:00",
          "1900-01-01T11:30:00",
          "1900-01-01T13:00:00",
          "1900-01-01T09:45:00",
          "1900-01-01T09:30:00",
          "1900-01-01T05:30:00",
          "1900-01-01T05:30:00",
          "1900-01-01T12:15:00",
          "1900-01-01T09:45:00",
          "1900-01-01T15:00:00",
          "1900-01-01T15:00:00",
          "1900-01-01T12:30:00",
          "1900-01-01T08:00:00",
          "1900-01-01T08:45:00",
          "1900-01-01T12:30:00",
          "1900-01-01T05:30:00",
          "1900-01-01T08:15:00",
          "1900-01-01T05:30:00",
          "1900-01-01T17:15:00",
          "1900-01-01T07:15:00",
          "1900-01-01T16:45:00",
          "1900-01-01T11:30:00",
          "1900-01-01T05:30:00",
          "1900-01-01T07:30:00",
          "1900-01-01T12:00:00",
          "1900-01-01T11:45:00",
          "1900-01-01T13:15:00",
          "1900-01-01T15:00:00",
          "1900-01-01T05:30:00",
          "1900-01-01T15:00:00",
          "1900-01-01T05:30:00",
          "1900-01-01T12:30:00",
          "1900-01-01T06:15:00",
          "1900-01-01T16:00:00",
          "1900-01-01T13:15:00",
          "1900-01-01T06:30:00",
          "1900-01-01T05:15:00",
          "1900-01-01T14:30:00",
          "1900-01-01T06:00:00",
          "1900-01-01T15:00:00",
          "1900-01-01T12:00:00",
          "1900-01-01T04:30:00",
          "1900-01-01T09:15:00",
          "1900-01-01T05:30:00",
          "1900-01-01T15:30:00",
          "1900-01-01T16:30:00",
          "1900-01-01T10:15:00",
          "1900-01-01T05:00:00",
          "1900-01-01T15:00:00",
          "1900-01-01T16:30:00",
          "1900-01-01T07:15:00",
          "1900-01-01T15:30:00",
          "1900-01-01T16:15:00",
          "1900-01-01T05:30:00",
          "1900-01-01T07:00:00",
          "1900-01-01T05:30:00",
          "1900-01-01T05:30:00",
          "1900-01-01T09:30:00",
          "1900-01-01T13:00:00",
          "1900-01-01T05:30:00",
          "1900-01-01T13:45:00",
          "1900-01-01T10:45:00",
          "1900-01-01T13:00:00",
          "1900-01-01T14:45:00",
          "1900-01-01T15:30:00",
          "1900-01-01T15:30:00",
          "1900-01-01T04:30:00",
          "1900-01-01T06:00:00",
          "1900-01-01T05:30:00",
          "1900-01-01T14:00:00",
          "1900-01-01T05:30:00",
          "1900-01-01T11:30:00",
          "1900-01-01T04:45:00",
          "1900-01-01T14:00:00",
          "1900-01-01T10:00:00",
          "1900-01-01T14:30:00",
          "1900-01-01T06:15:00",
          "1900-01-01T15:30:00",
          "1900-01-01T15:15:00",
          "1900-01-01T15:30:00",
          "1900-01-01T06:30:00",
          "1900-01-01T15:30:00",
          "1900-01-01T05:00:00",
          "1900-01-01T18:00:00",
          "1900-01-01T11:45:00",
          "1900-01-01T05:30:00",
          "1900-01-01T05:00:00",
          "1900-01-01T10:30:00",
          "1900-01-01T07:30:00",
          "1900-01-01T12:45:00",
          "1900-01-01T16:30:00",
          "1900-01-01T14:00:00",
          "1900-01-01T11:00:00",
          "1900-01-01T10:45:00",
          "1900-01-01T15:30:00",
          "1900-01-01T16:30:00",
          "1900-01-01T11:30:00",
          "1900-01-01T09:15:00",
          "1900-01-01T14:45:00",
          "1900-01-01T08:15:00",
          "1900-01-01T10:30:00",
          "1900-01-01T08:30:00",
          "1900-01-01T13:00:00",
          "1900-01-01T14:00:00",
          "1900-01-01T06:00:00",
          "1900-01-01T09:45:00",
          "1900-01-01T15:30:00",
          "1900-01-01T07:15:00",
          "1900-01-01T05:30:00",
          "1900-01-01T15:00:00",
          "1900-01-01T05:30:00",
          "1900-01-01T12:30:00",
          "1900-01-01T05:30:00",
          "1900-01-01T05:30:00",
          "1900-01-01T05:45:00",
          "1900-01-01T09:45:00",
          "1900-01-01T12:45:00",
          "1900-01-01T17:00:00",
          "1900-01-01T11:45:00",
          "1900-01-01T18:00:00",
          "1900-01-01T09:00:00",
          "1900-01-01T14:00:00",
          "1900-01-01T15:30:00",
          "1900-01-01T18:00:00",
          "1900-01-01T13:30:00",
          "1900-01-01T11:45:00",
          "1900-01-01T08:15:00",
          "1900-01-01T12:00:00",
          "1900-01-01T08:45:00",
          "1900-01-01T06:15:00",
          "1900-01-01T15:30:00",
          "1900-01-01T09:00:00",
          "1900-01-01T10:30:00",
          "1900-01-01T11:00:00",
          "1900-01-01T13:15:00",
          "1900-01-01T17:45:00",
          "1900-01-01T15:30:00",
          "1900-01-01T16:45:00",
          "1900-01-01T10:45:00",
          "1900-01-01T14:45:00",
          "1900-01-01T13:00:00",
          "1900-01-01T15:30:00",
          "1900-01-01T10:00:00",
          "1900-01-01T05:45:00",
          "1900-01-01T18:00:00",
          "1900-01-01T10:45:00",
          "1900-01-01T05:15:00",
          "1900-01-01T17:15:00",
          "1900-01-01T12:15:00",
          "1900-01-01T07:15:00",
          "1900-01-01T16:00:00",
          "1900-01-01T18:00:00",
          "1900-01-01T07:00:00",
          "1900-01-01T16:15:00",
          "1900-01-01T10:45:00",
          "1900-01-01T06:00:00",
          "1900-01-01T16:30:00",
          "1900-01-01T18:00:00",
          "1900-01-01T11:45:00",
          "1900-01-01T05:30:00",
          "1900-01-01T18:00:00",
          "1900-01-01T17:45:00",
          "1900-01-01T08:30:00",
          "1900-01-01T18:00:00",
          "1900-01-01T18:00:00",
          "1900-01-01T06:15:00",
          "1900-01-01T18:00:00",
          "1900-01-01T17:15:00",
          "1900-01-01T14:15:00",
          "1900-01-01T12:30:00",
          "1900-01-01T15:15:00",
          "1900-01-01T15:30:00",
          "1900-01-01T05:45:00",
          "1900-01-01T16:15:00",
          "1900-01-01T06:15:00",
          "1900-01-01T04:15:00",
          "1900-01-01T12:00:00",
          "1900-01-01T15:30:00",
          "1900-01-01T08:00:00",
          "1900-01-01T08:45:00",
          "1900-01-01T09:15:00",
          "1900-01-01T13:15:00",
          "1900-01-01T18:00:00",
          "1900-01-01T15:30:00",
          "1900-01-01T11:00:00",
          "1900-01-01T16:15:00",
          "1900-01-01T18:00:00",
          "1900-01-01T15:30:00",
          "1900-01-01T18:00:00",
          "1900-01-01T12:00:00",
          "1900-01-01T15:30:00",
          "1900-01-01T17:00:00",
          "1900-01-01T12:00:00",
          "1900-01-01T15:30:00",
          "1900-01-01T12:00:00",
          "1900-01-01T09:15:00",
          "1900-01-01T14:00:00",
          "1900-01-01T05:30:00",
          "1900-01-01T10:00:00",
          "1900-01-01T14:00:00",
          "1900-01-01T08:15:00",
          "1900-01-01T18:00:00",
          "1900-01-01T15:00:00",
          "1900-01-01T16:45:00",
          "1900-01-01T15:45:00",
          "1900-01-01T15:30:00",
          "1900-01-01T17:30:00",
          "1900-01-01T15:00:00",
          "1900-01-01T08:00:00",
          "1900-01-01T15:45:00",
          "1900-01-01T12:45:00",
          "1900-01-01T12:00:00",
          "1900-01-01T06:30:00",
          "1900-01-01T12:45:00",
          "1900-01-01T18:00:00",
          "1900-01-01T17:15:00",
          "1900-01-01T10:15:00",
          "1900-01-01T11:15:00",
          "1900-01-01T10:30:00",
          "1900-01-01T11:30:00",
          "1900-01-01T18:00:00",
          "1900-01-01T09:45:00",
          "1900-01-01T08:45:00",
          "1900-01-01T12:00:00",
          "1900-01-01T07:45:00",
          "1900-01-01T06:15:00",
          "1900-01-01T07:15:00",
          "1900-01-01T14:15:00",
          "1900-01-01T13:30:00",
          "1900-01-01T06:00:00",
          "1900-01-01T06:15:00",
          "1900-01-01T15:00:00",
          "1900-01-01T13:30:00",
          "1900-01-01T15:30:00",
          "1900-01-01T14:45:00",
          "1900-01-01T10:45:00",
          "1900-01-01T09:30:00",
          "1900-01-01T15:30:00",
          "1900-01-01T17:00:00",
          "1900-01-01T18:00:00",
          "1900-01-01T12:00:00",
          "1900-01-01T10:30:00",
          "1900-01-01T04:45:00",
          "1900-01-01T06:00:00",
          "1900-01-01T12:15:00",
          "1900-01-01T14:15:00",
          "1900-01-01T13:15:00",
          "1900-01-01T09:30:00",
          "1900-01-01T07:15:00",
          "1900-01-01T06:45:00",
          "1900-01-01T08:15:00",
          "1900-01-01T14:45:00",
          "1900-01-01T04:45:00",
          "1900-01-01T09:30:00",
          "1900-01-01T05:00:00",
          "1900-01-01T18:00:00",
          "1900-01-01T05:45:00",
          "1900-01-01T17:45:00",
          "1900-01-01T10:30:00",
          "1900-01-01T15:30:00",
          "1900-01-01T15:00:00",
          "1900-01-01T08:30:00",
          "1900-01-01T18:00:00",
          "1900-01-01T13:00:00",
          "1900-01-01T06:30:00",
          "1900-01-01T05:30:00",
          "1900-01-01T11:00:00",
          "1900-01-01T10:15:00",
          "1900-01-01T18:00:00",
          "1900-01-01T14:30:00",
          "1900-01-01T06:45:00",
          "1900-01-01T15:30:00",
          "1900-01-01T04:15:00",
          "1900-01-01T12:00:00",
          "1900-01-01T15:30:00",
          "1900-01-01T14:45:00",
          "1900-01-01T07:00:00",
          "1900-01-01T15:00:00",
          "1900-01-01T06:30:00",
          "1900-01-01T06:00:00",
          "1900-01-01T10:45:00",
          "1900-01-01T10:15:00",
          "1900-01-01T12:00:00",
          "1900-01-01T12:00:00",
          "1900-01-01T09:30:00",
          "1900-01-01T14:45:00",
          "1900-01-01T12:45:00",
          "1900-01-01T10:30:00",
          "1900-01-01T15:15:00",
          "1900-01-01T12:00:00",
          "1900-01-01T18:00:00",
          "1900-01-01T13:30:00",
          "1900-01-01T11:00:00",
          "1900-01-01T09:30:00",
          "1900-01-01T10:00:00",
          "1900-01-01T15:15:00",
          "1900-01-01T14:00:00",
          "1900-01-01T08:15:00",
          "1900-01-01T12:00:00",
          "1900-01-01T18:00:00",
          "1900-01-01T17:00:00",
          "1900-01-01T06:45:00",
          "1900-01-01T08:00:00",
          "1900-01-01T05:45:00",
          "1900-01-01T12:00:00",
          "1900-01-01T14:00:00",
          "1900-01-01T14:00:00",
          "1900-01-01T14:00:00",
          "1900-01-01T14:00:00",
          "1900-01-01T14:00:00",
          "1900-01-01T06:45:00",
          "1900-01-01T12:00:00",
          "1900-01-01T14:00:00",
          "1900-01-01T18:00:00",
          "1900-01-01T12:30:00",
          "1900-01-01T09:30:00",
          "1900-01-01T05:15:00",
          "1900-01-01T12:30:00",
          "1900-01-01T08:30:00",
          "1900-01-01T07:00:00",
          "1900-01-01T12:30:00",
          "1900-01-01T12:30:00",
          "1900-01-01T10:15:00",
          "1900-01-01T10:15:00",
          "1900-01-01T07:45:00",
          "1900-01-01T05:45:00",
          "1900-01-01T14:00:00",
          "1900-01-01T10:30:00",
          "1900-01-01T12:30:00",
          "1900-01-01T11:00:00",
          "1900-01-01T12:30:00",
          "1900-01-01T06:30:00",
          "1900-01-01T14:45:00",
          "1900-01-01T12:00:00",
          "1900-01-01T09:45:00",
          "1900-01-01T12:30:00",
          "1900-01-01T13:30:00",
          "1900-01-01T12:30:00",
          "1900-01-01T16:30:00",
          "1900-01-01T06:30:00",
          "1900-01-01T07:15:00",
          "1900-01-01T12:30:00",
          "1900-01-01T08:00:00",
          "1900-01-01T11:15:00",
          "1900-01-01T14:00:00",
          "1900-01-01T12:30:00",
          "1900-01-01T12:00:00",
          "1900-01-01T16:30:00",
          "1900-01-01T14:00:00",
          "1900-01-01T15:00:00",
          "1900-01-01T05:15:00",
          "1900-01-01T12:30:00",
          "1900-01-01T08:30:00",
          "1900-01-01T07:00:00",
          "1900-01-01T07:30:00",
          "1900-01-01T15:00:00",
          "1900-01-01T12:45:00",
          "1900-01-01T08:00:00",
          "1900-01-01T11:45:00",
          "1900-01-01T08:15:00",
          "1900-01-01T10:30:00",
          "1900-01-01T06:45:00",
          "1900-01-01T17:00:00",
          "1900-01-01T12:30:00",
          "1900-01-01T17:00:00",
          "1900-01-01T15:00:00",
          "1900-01-01T16:00:00",
          "1900-01-01T12:45:00",
          "1900-01-01T09:00:00",
          "1900-01-01T13:30:00",
          "1900-01-01T06:00:00",
          "1900-01-01T07:45:00",
          "1900-01-01T07:15:00",
          "1900-01-01T07:15:00",
          "1900-01-01T06:00:00",
          "1900-01-01T16:45:00",
          "1900-01-01T15:00:00",
          "1900-01-01T10:45:00",
          "1900-01-01T11:15:00",
          "1900-01-01T06:00:00",
          "1900-01-01T10:45:00",
          "1900-01-01T06:00:00",
          "1900-01-01T09:45:00",
          "1900-01-01T15:00:00",
          "1900-01-01T10:30:00",
          "1900-01-01T13:15:00",
          "1900-01-01T06:00:00",
          "1900-01-01T09:45:00",
          "1900-01-01T06:00:00",
          "1900-01-01T08:30:00",
          "1900-01-01T06:00:00",
          "1900-01-01T09:00:00",
          "1900-01-01T12:00:00",
          "1900-01-01T13:00:00",
          "1900-01-01T05:15:00",
          "1900-01-01T11:00:00",
          "1900-01-01T15:45:00",
          "1900-01-01T14:15:00",
          "1900-01-01T14:00:00",
          "1900-01-01T05:15:00",
          "1900-01-01T06:45:00",
          "1900-01-01T12:45:00",
          "1900-01-01T15:00:00",
          "1900-01-01T11:30:00",
          "1900-01-01T15:30:00",
          "1900-01-01T06:15:00",
          "1900-01-01T09:45:00",
          "1900-01-01T06:00:00",
          "1900-01-01T12:30:00",
          "1900-01-01T16:00:00",
          "1900-01-01T06:00:00",
          "1900-01-01T09:00:00",
          "1900-01-01T16:30:00",
          "1900-01-01T16:15:00",
          "1900-01-01T06:00:00",
          "1900-01-01T06:00:00",
          "1900-01-01T08:45:00",
          "1900-01-01T06:00:00",
          "1900-01-01T06:00:00",
          "1900-01-01T10:30:00",
          "1900-01-01T06:00:00",
          "1900-01-01T09:00:00",
          "1900-01-01T07:45:00",
          "1900-01-01T07:45:00",
          "1900-01-01T06:00:00",
          "1900-01-01T13:15:00",
          "1900-01-01T06:00:00",
          "1900-01-01T06:00:00",
          "1900-01-01T06:00:00",
          "1900-01-01T15:00:00",
          "1900-01-01T09:45:00",
          "1900-01-01T04:15:00",
          "1900-01-01T12:30:00",
          "1900-01-01T12:30:00",
          "1900-01-01T06:00:00",
          "1900-01-01T15:00:00",
          "1900-01-01T05:00:00",
          "1900-01-01T08:00:00",
          "1900-01-01T14:30:00",
          "1900-01-01T10:15:00",
          "1900-01-01T06:15:00",
          "1900-01-01T13:15:00",
          "1900-01-01T15:00:00",
          "1900-01-01T07:45:00",
          "1900-01-01T09:30:00",
          "1900-01-01T06:30:00",
          "1900-01-01T15:00:00",
          "1900-01-01T12:30:00",
          "1900-01-01T12:15:00",
          "1900-01-01T12:30:00",
          "1900-01-01T12:30:00",
          "1900-01-01T14:45:00",
          "1900-01-01T10:15:00",
          "1900-01-01T14:00:00",
          "1900-01-01T12:30:00",
          "1900-01-01T15:00:00",
          "1900-01-01T12:00:00",
          "1900-01-01T05:30:00",
          "1900-01-01T05:00:00",
          "1900-01-01T17:30:00",
          "1900-01-01T11:00:00",
          "1900-01-01T15:00:00",
          "1900-01-01T12:30:00",
          "1900-01-01T12:30:00",
          "1900-01-01T06:45:00"
         ]
        }
       ],
       "layout": {
        "barmode": "stack",
        "template": {
         "data": {
          "bar": [
           {
            "error_x": {
             "color": "#2a3f5f"
            },
            "error_y": {
             "color": "#2a3f5f"
            },
            "marker": {
             "line": {
              "color": "#E5ECF6",
              "width": 0.5
             },
             "pattern": {
              "fillmode": "overlay",
              "size": 10,
              "solidity": 0.2
             }
            },
            "type": "bar"
           }
          ],
          "barpolar": [
           {
            "marker": {
             "line": {
              "color": "#E5ECF6",
              "width": 0.5
             },
             "pattern": {
              "fillmode": "overlay",
              "size": 10,
              "solidity": 0.2
             }
            },
            "type": "barpolar"
           }
          ],
          "carpet": [
           {
            "aaxis": {
             "endlinecolor": "#2a3f5f",
             "gridcolor": "white",
             "linecolor": "white",
             "minorgridcolor": "white",
             "startlinecolor": "#2a3f5f"
            },
            "baxis": {
             "endlinecolor": "#2a3f5f",
             "gridcolor": "white",
             "linecolor": "white",
             "minorgridcolor": "white",
             "startlinecolor": "#2a3f5f"
            },
            "type": "carpet"
           }
          ],
          "choropleth": [
           {
            "colorbar": {
             "outlinewidth": 0,
             "ticks": ""
            },
            "type": "choropleth"
           }
          ],
          "contour": [
           {
            "colorbar": {
             "outlinewidth": 0,
             "ticks": ""
            },
            "colorscale": [
             [
              0,
              "#0d0887"
             ],
             [
              0.1111111111111111,
              "#46039f"
             ],
             [
              0.2222222222222222,
              "#7201a8"
             ],
             [
              0.3333333333333333,
              "#9c179e"
             ],
             [
              0.4444444444444444,
              "#bd3786"
             ],
             [
              0.5555555555555556,
              "#d8576b"
             ],
             [
              0.6666666666666666,
              "#ed7953"
             ],
             [
              0.7777777777777778,
              "#fb9f3a"
             ],
             [
              0.8888888888888888,
              "#fdca26"
             ],
             [
              1,
              "#f0f921"
             ]
            ],
            "type": "contour"
           }
          ],
          "contourcarpet": [
           {
            "colorbar": {
             "outlinewidth": 0,
             "ticks": ""
            },
            "type": "contourcarpet"
           }
          ],
          "heatmap": [
           {
            "colorbar": {
             "outlinewidth": 0,
             "ticks": ""
            },
            "colorscale": [
             [
              0,
              "#0d0887"
             ],
             [
              0.1111111111111111,
              "#46039f"
             ],
             [
              0.2222222222222222,
              "#7201a8"
             ],
             [
              0.3333333333333333,
              "#9c179e"
             ],
             [
              0.4444444444444444,
              "#bd3786"
             ],
             [
              0.5555555555555556,
              "#d8576b"
             ],
             [
              0.6666666666666666,
              "#ed7953"
             ],
             [
              0.7777777777777778,
              "#fb9f3a"
             ],
             [
              0.8888888888888888,
              "#fdca26"
             ],
             [
              1,
              "#f0f921"
             ]
            ],
            "type": "heatmap"
           }
          ],
          "heatmapgl": [
           {
            "colorbar": {
             "outlinewidth": 0,
             "ticks": ""
            },
            "colorscale": [
             [
              0,
              "#0d0887"
             ],
             [
              0.1111111111111111,
              "#46039f"
             ],
             [
              0.2222222222222222,
              "#7201a8"
             ],
             [
              0.3333333333333333,
              "#9c179e"
             ],
             [
              0.4444444444444444,
              "#bd3786"
             ],
             [
              0.5555555555555556,
              "#d8576b"
             ],
             [
              0.6666666666666666,
              "#ed7953"
             ],
             [
              0.7777777777777778,
              "#fb9f3a"
             ],
             [
              0.8888888888888888,
              "#fdca26"
             ],
             [
              1,
              "#f0f921"
             ]
            ],
            "type": "heatmapgl"
           }
          ],
          "histogram": [
           {
            "marker": {
             "pattern": {
              "fillmode": "overlay",
              "size": 10,
              "solidity": 0.2
             }
            },
            "type": "histogram"
           }
          ],
          "histogram2d": [
           {
            "colorbar": {
             "outlinewidth": 0,
             "ticks": ""
            },
            "colorscale": [
             [
              0,
              "#0d0887"
             ],
             [
              0.1111111111111111,
              "#46039f"
             ],
             [
              0.2222222222222222,
              "#7201a8"
             ],
             [
              0.3333333333333333,
              "#9c179e"
             ],
             [
              0.4444444444444444,
              "#bd3786"
             ],
             [
              0.5555555555555556,
              "#d8576b"
             ],
             [
              0.6666666666666666,
              "#ed7953"
             ],
             [
              0.7777777777777778,
              "#fb9f3a"
             ],
             [
              0.8888888888888888,
              "#fdca26"
             ],
             [
              1,
              "#f0f921"
             ]
            ],
            "type": "histogram2d"
           }
          ],
          "histogram2dcontour": [
           {
            "colorbar": {
             "outlinewidth": 0,
             "ticks": ""
            },
            "colorscale": [
             [
              0,
              "#0d0887"
             ],
             [
              0.1111111111111111,
              "#46039f"
             ],
             [
              0.2222222222222222,
              "#7201a8"
             ],
             [
              0.3333333333333333,
              "#9c179e"
             ],
             [
              0.4444444444444444,
              "#bd3786"
             ],
             [
              0.5555555555555556,
              "#d8576b"
             ],
             [
              0.6666666666666666,
              "#ed7953"
             ],
             [
              0.7777777777777778,
              "#fb9f3a"
             ],
             [
              0.8888888888888888,
              "#fdca26"
             ],
             [
              1,
              "#f0f921"
             ]
            ],
            "type": "histogram2dcontour"
           }
          ],
          "mesh3d": [
           {
            "colorbar": {
             "outlinewidth": 0,
             "ticks": ""
            },
            "type": "mesh3d"
           }
          ],
          "parcoords": [
           {
            "line": {
             "colorbar": {
              "outlinewidth": 0,
              "ticks": ""
             }
            },
            "type": "parcoords"
           }
          ],
          "pie": [
           {
            "automargin": true,
            "type": "pie"
           }
          ],
          "scatter": [
           {
            "fillpattern": {
             "fillmode": "overlay",
             "size": 10,
             "solidity": 0.2
            },
            "type": "scatter"
           }
          ],
          "scatter3d": [
           {
            "line": {
             "colorbar": {
              "outlinewidth": 0,
              "ticks": ""
             }
            },
            "marker": {
             "colorbar": {
              "outlinewidth": 0,
              "ticks": ""
             }
            },
            "type": "scatter3d"
           }
          ],
          "scattercarpet": [
           {
            "marker": {
             "colorbar": {
              "outlinewidth": 0,
              "ticks": ""
             }
            },
            "type": "scattercarpet"
           }
          ],
          "scattergeo": [
           {
            "marker": {
             "colorbar": {
              "outlinewidth": 0,
              "ticks": ""
             }
            },
            "type": "scattergeo"
           }
          ],
          "scattergl": [
           {
            "marker": {
             "colorbar": {
              "outlinewidth": 0,
              "ticks": ""
             }
            },
            "type": "scattergl"
           }
          ],
          "scattermapbox": [
           {
            "marker": {
             "colorbar": {
              "outlinewidth": 0,
              "ticks": ""
             }
            },
            "type": "scattermapbox"
           }
          ],
          "scatterpolar": [
           {
            "marker": {
             "colorbar": {
              "outlinewidth": 0,
              "ticks": ""
             }
            },
            "type": "scatterpolar"
           }
          ],
          "scatterpolargl": [
           {
            "marker": {
             "colorbar": {
              "outlinewidth": 0,
              "ticks": ""
             }
            },
            "type": "scatterpolargl"
           }
          ],
          "scatterternary": [
           {
            "marker": {
             "colorbar": {
              "outlinewidth": 0,
              "ticks": ""
             }
            },
            "type": "scatterternary"
           }
          ],
          "surface": [
           {
            "colorbar": {
             "outlinewidth": 0,
             "ticks": ""
            },
            "colorscale": [
             [
              0,
              "#0d0887"
             ],
             [
              0.1111111111111111,
              "#46039f"
             ],
             [
              0.2222222222222222,
              "#7201a8"
             ],
             [
              0.3333333333333333,
              "#9c179e"
             ],
             [
              0.4444444444444444,
              "#bd3786"
             ],
             [
              0.5555555555555556,
              "#d8576b"
             ],
             [
              0.6666666666666666,
              "#ed7953"
             ],
             [
              0.7777777777777778,
              "#fb9f3a"
             ],
             [
              0.8888888888888888,
              "#fdca26"
             ],
             [
              1,
              "#f0f921"
             ]
            ],
            "type": "surface"
           }
          ],
          "table": [
           {
            "cells": {
             "fill": {
              "color": "#EBF0F8"
             },
             "line": {
              "color": "white"
             }
            },
            "header": {
             "fill": {
              "color": "#C8D4E3"
             },
             "line": {
              "color": "white"
             }
            },
            "type": "table"
           }
          ]
         },
         "layout": {
          "annotationdefaults": {
           "arrowcolor": "#2a3f5f",
           "arrowhead": 0,
           "arrowwidth": 1
          },
          "autotypenumbers": "strict",
          "coloraxis": {
           "colorbar": {
            "outlinewidth": 0,
            "ticks": ""
           }
          },
          "colorscale": {
           "diverging": [
            [
             0,
             "#8e0152"
            ],
            [
             0.1,
             "#c51b7d"
            ],
            [
             0.2,
             "#de77ae"
            ],
            [
             0.3,
             "#f1b6da"
            ],
            [
             0.4,
             "#fde0ef"
            ],
            [
             0.5,
             "#f7f7f7"
            ],
            [
             0.6,
             "#e6f5d0"
            ],
            [
             0.7,
             "#b8e186"
            ],
            [
             0.8,
             "#7fbc41"
            ],
            [
             0.9,
             "#4d9221"
            ],
            [
             1,
             "#276419"
            ]
           ],
           "sequential": [
            [
             0,
             "#0d0887"
            ],
            [
             0.1111111111111111,
             "#46039f"
            ],
            [
             0.2222222222222222,
             "#7201a8"
            ],
            [
             0.3333333333333333,
             "#9c179e"
            ],
            [
             0.4444444444444444,
             "#bd3786"
            ],
            [
             0.5555555555555556,
             "#d8576b"
            ],
            [
             0.6666666666666666,
             "#ed7953"
            ],
            [
             0.7777777777777778,
             "#fb9f3a"
            ],
            [
             0.8888888888888888,
             "#fdca26"
            ],
            [
             1,
             "#f0f921"
            ]
           ],
           "sequentialminus": [
            [
             0,
             "#0d0887"
            ],
            [
             0.1111111111111111,
             "#46039f"
            ],
            [
             0.2222222222222222,
             "#7201a8"
            ],
            [
             0.3333333333333333,
             "#9c179e"
            ],
            [
             0.4444444444444444,
             "#bd3786"
            ],
            [
             0.5555555555555556,
             "#d8576b"
            ],
            [
             0.6666666666666666,
             "#ed7953"
            ],
            [
             0.7777777777777778,
             "#fb9f3a"
            ],
            [
             0.8888888888888888,
             "#fdca26"
            ],
            [
             1,
             "#f0f921"
            ]
           ]
          },
          "colorway": [
           "#636efa",
           "#EF553B",
           "#00cc96",
           "#ab63fa",
           "#FFA15A",
           "#19d3f3",
           "#FF6692",
           "#B6E880",
           "#FF97FF",
           "#FECB52"
          ],
          "font": {
           "color": "#2a3f5f"
          },
          "geo": {
           "bgcolor": "white",
           "lakecolor": "white",
           "landcolor": "#E5ECF6",
           "showlakes": true,
           "showland": true,
           "subunitcolor": "white"
          },
          "hoverlabel": {
           "align": "left"
          },
          "hovermode": "closest",
          "mapbox": {
           "style": "light"
          },
          "paper_bgcolor": "white",
          "plot_bgcolor": "#E5ECF6",
          "polar": {
           "angularaxis": {
            "gridcolor": "white",
            "linecolor": "white",
            "ticks": ""
           },
           "bgcolor": "#E5ECF6",
           "radialaxis": {
            "gridcolor": "white",
            "linecolor": "white",
            "ticks": ""
           }
          },
          "scene": {
           "xaxis": {
            "backgroundcolor": "#E5ECF6",
            "gridcolor": "white",
            "gridwidth": 2,
            "linecolor": "white",
            "showbackground": true,
            "ticks": "",
            "zerolinecolor": "white"
           },
           "yaxis": {
            "backgroundcolor": "#E5ECF6",
            "gridcolor": "white",
            "gridwidth": 2,
            "linecolor": "white",
            "showbackground": true,
            "ticks": "",
            "zerolinecolor": "white"
           },
           "zaxis": {
            "backgroundcolor": "#E5ECF6",
            "gridcolor": "white",
            "gridwidth": 2,
            "linecolor": "white",
            "showbackground": true,
            "ticks": "",
            "zerolinecolor": "white"
           }
          },
          "shapedefaults": {
           "line": {
            "color": "#2a3f5f"
           }
          },
          "ternary": {
           "aaxis": {
            "gridcolor": "white",
            "linecolor": "white",
            "ticks": ""
           },
           "baxis": {
            "gridcolor": "white",
            "linecolor": "white",
            "ticks": ""
           },
           "bgcolor": "#E5ECF6",
           "caxis": {
            "gridcolor": "white",
            "linecolor": "white",
            "ticks": ""
           }
          },
          "title": {
           "x": 0.05
          },
          "xaxis": {
           "automargin": true,
           "gridcolor": "white",
           "linecolor": "white",
           "ticks": "",
           "title": {
            "standoff": 15
           },
           "zerolinecolor": "white",
           "zerolinewidth": 2
          },
          "yaxis": {
           "automargin": true,
           "gridcolor": "white",
           "linecolor": "white",
           "ticks": "",
           "title": {
            "standoff": 15
           },
           "zerolinecolor": "white",
           "zerolinewidth": 2
          }
         }
        }
       }
      }
     },
     "metadata": {},
     "output_type": "display_data"
    }
   ],
   "source": [
    "# Determine peak times by rounding the time in groups of one hour \n",
    "df['Contact_hour'] = pd.to_datetime(df['Contact_hour'], format='%H:%M:%S')\n",
    "df['Contact_hour_round'] = df['Contact_hour'].apply(lambda x: x.round('60 min'))\n",
    "\n",
    "numerical_columns_histogram_hour = [\n",
    "    'Contact_hour_round', 'Contact_hour'\n",
    "]\n",
    "\n",
    "fig = go.Figure()\n",
    "for column in numerical_columns_histogram_hour:\n",
    "    fig.add_trace(go.Histogram(x=df[column], name=column))\n",
    "fig.update_layout(barmode='stack')\n",
    "fig.show()"
   ]
  },
  {
   "cell_type": "code",
   "execution_count": 12,
   "metadata": {},
   "outputs": [
    {
     "data": {
      "application/vnd.plotly.v1+json": {
       "config": {
        "plotlyServerURL": "https://plot.ly"
       },
       "data": [
        {
         "name": "Age",
         "type": "box",
         "xaxis": "x",
         "y": [
          51,
          40,
          25,
          57,
          61,
          36,
          59,
          58,
          54,
          43,
          51,
          23,
          54,
          50,
          39,
          38,
          23,
          23,
          40,
          47,
          28,
          47,
          48,
          41,
          26,
          40,
          48,
          57,
          54,
          53,
          41,
          23,
          40,
          45,
          28,
          21,
          32,
          23,
          47,
          55,
          40,
          32,
          25,
          43,
          40,
          61,
          22,
          23,
          43,
          36,
          50,
          37,
          29,
          64,
          43,
          31,
          55,
          54,
          28,
          53,
          30,
          60,
          50,
          27,
          22,
          27,
          40,
          19,
          57,
          40,
          40,
          54,
          34,
          26,
          28,
          32,
          41,
          55,
          52,
          47,
          22,
          40,
          31,
          28,
          26,
          29,
          52,
          52,
          40,
          57,
          39,
          46,
          25,
          58,
          54,
          31,
          47,
          52,
          38,
          54,
          22,
          36,
          31,
          43,
          40,
          40,
          59,
          42,
          35,
          57,
          25,
          56,
          57,
          31,
          49,
          55,
          50,
          32,
          50,
          34,
          50,
          40,
          31,
          57,
          57,
          56,
          23,
          23,
          49,
          24,
          25,
          59,
          49,
          46,
          50,
          56,
          44,
          53,
          46,
          55,
          50,
          54,
          44,
          50,
          49,
          39,
          49,
          27,
          22,
          50,
          55,
          30,
          48,
          49,
          53,
          49,
          41,
          32,
          46,
          25,
          22,
          46,
          49,
          29,
          49,
          49,
          44,
          48,
          53,
          43,
          60,
          37,
          27,
          55,
          23,
          25,
          40,
          49,
          43,
          49,
          60,
          29,
          43,
          30,
          57,
          35,
          42,
          49,
          57,
          60,
          29,
          49,
          53,
          54,
          25,
          59,
          45,
          48,
          46,
          31,
          57,
          58,
          28,
          40,
          40,
          54,
          38,
          43,
          40,
          53,
          40,
          40,
          57,
          32,
          38,
          64,
          26,
          27,
          43,
          42,
          43,
          28,
          55,
          40,
          24,
          35,
          44,
          51,
          34,
          60,
          40,
          41,
          42,
          24,
          23,
          41,
          50,
          46,
          60,
          39,
          45,
          38,
          34,
          37,
          58,
          37,
          39,
          45,
          57,
          24,
          40,
          49,
          30,
          40,
          36,
          49,
          62,
          46,
          33,
          57,
          36,
          31,
          64,
          19,
          47,
          21,
          25,
          56,
          20,
          49,
          27,
          36,
          51,
          50,
          49,
          46,
          25,
          20,
          25,
          64,
          50,
          45,
          40,
          51,
          52,
          41,
          31,
          63,
          60,
          21,
          54,
          31,
          48,
          35,
          27,
          24,
          50,
          40,
          36,
          53,
          46,
          35,
          18,
          64,
          22,
          37,
          28,
          20,
          40,
          29,
          37,
          22,
          54,
          55,
          47,
          26,
          51,
          61,
          52,
          39,
          61,
          41,
          34,
          27,
          47,
          40,
          49,
          34,
          26,
          57,
          19,
          62,
          42,
          56,
          26,
          60,
          40,
          21,
          43,
          46,
          62,
          51,
          40,
          28,
          23,
          35,
          38,
          59,
          53,
          58,
          55,
          51,
          34,
          54,
          42,
          55,
          29,
          40,
          59,
          39,
          38,
          44,
          48,
          23,
          57,
          29,
          45,
          24,
          62,
          34,
          43,
          38,
          45,
          40,
          19,
          60,
          18,
          53,
          43,
          46,
          28,
          57,
          28,
          53,
          56,
          57,
          52,
          51,
          40,
          41,
          22,
          50,
          53,
          64,
          37,
          52,
          60,
          34,
          62,
          60,
          51,
          43,
          26,
          26,
          57,
          34,
          40,
          60,
          59,
          42,
          56,
          52,
          20,
          54,
          61,
          40,
          47,
          55,
          51,
          29,
          36,
          54,
          61,
          34,
          27,
          64,
          29,
          33,
          41,
          36,
          25,
          34,
          40,
          54,
          33,
          25,
          42,
          35,
          42,
          43,
          40,
          43,
          64,
          49,
          24,
          34,
          40,
          39,
          24,
          31,
          24,
          26,
          25,
          40,
          46,
          35,
          48,
          56,
          52,
          35,
          59,
          56,
          34,
          48,
          41,
          52,
          61,
          40,
          20,
          54,
          60,
          57,
          43,
          40,
          61,
          56,
          46,
          39,
          42,
          30,
          35,
          50,
          33,
          62,
          59,
          40,
          52,
          59,
          51,
          47,
          30,
          30,
          35,
          49,
          49,
          52,
          56,
          63,
          46,
          46,
          40,
          33,
          61,
          27,
          47,
          56,
          37,
          22,
          40,
          47,
          31,
          35,
          40,
          63,
          32,
          26,
          32,
          40,
          29,
          54,
          54,
          60,
          56,
          63,
          41,
          30,
          51,
          42,
          24,
          25,
          37,
          40,
          27,
          60,
          51,
          43,
          20,
          23,
          22,
          22,
          40,
          40,
          26,
          52,
          59,
          52,
          34,
          41,
          20,
          49,
          52,
          55,
          40,
          42,
          26,
          54,
          28,
          58,
          40,
          45,
          46,
          26,
          20,
          51,
          29,
          32,
          57,
          42,
          22,
          51,
          41,
          32,
          25,
          22,
          43,
          35,
          23,
          30,
          34,
          57,
          40,
          49,
          46,
          20,
          51,
          57,
          44,
          30,
          40,
          23,
          41,
          36,
          33,
          57,
          45,
          50,
          58,
          30,
          60,
          42,
          59,
          44,
          24,
          22,
          60,
          40,
          48,
          40,
          59,
          27,
          49,
          47,
          56,
          48,
          35,
          53,
          31,
          29,
          56,
          40,
          49,
          30,
          44,
          58,
          57,
          48,
          51,
          41,
          62,
          52,
          23,
          47,
          27,
          58,
          49,
          51,
          45,
          32,
          47,
          39,
          35,
          37,
          49,
          35,
          44,
          29,
          39,
          27,
          18,
          39,
          43,
          35,
          31,
          35,
          29,
          53,
          52,
          29,
          24,
          28,
          23,
          32,
          49,
          28,
          40,
          51,
          35,
          51,
          46,
          34,
          52,
          30,
          58,
          56,
          46,
          46,
          28,
          49,
          64,
          31,
          37,
          39,
          28,
          44,
          35,
          34,
          45,
          46,
          38,
          30,
          33,
          54,
          37,
          23,
          36,
          30,
          30,
          55,
          32,
          52,
          42,
          41,
          35,
          32,
          61,
          33,
          25,
          63,
          42,
          34,
          46,
          25,
          44,
          30,
          24,
          30,
          41,
          30,
          37,
          32,
          47,
          31,
          24,
          34,
          30,
          37,
          53,
          26,
          39,
          30,
          25,
          28,
          30,
          34,
          25,
          38,
          47,
          30,
          48,
          55,
          49,
          28,
          42,
          50,
          55,
          58,
          28,
          39,
          41,
          58,
          34,
          29,
          49,
          32,
          33,
          39,
          45,
          37,
          50,
          27,
          57,
          49,
          50,
          19,
          50,
          50,
          30,
          47,
          50,
          30,
          39,
          56,
          19,
          56,
          43,
          32,
          51,
          59,
          45,
          57,
          34,
          23,
          23,
          56,
          48,
          49,
          58,
          29,
          25,
          25,
          45,
          37,
          64,
          24,
          28,
          37,
          33,
          34,
          39,
          43,
          20,
          58,
          59,
          31,
          28,
          35,
          29,
          40,
          29,
          30,
          42,
          34,
          36
         ],
         "yaxis": "y"
        },
        {
         "name": "Income",
         "type": "box",
         "xaxis": "x2",
         "y": [
          80000,
          82579,
          58380,
          75000,
          50049,
          46082,
          90000,
          67412,
          83000,
          90000,
          75500,
          15000,
          60027,
          89321,
          30956,
          77908,
          55963,
          69443,
          69063,
          86000,
          25550,
          55849,
          61860,
          61585,
          52015,
          73585,
          56958,
          56017,
          75350,
          76520,
          59426,
          25550,
          72229,
          87056,
          57490,
          49975,
          56723,
          53279,
          95411,
          96061,
          25550,
          63142,
          25550,
          74965,
          34648,
          65133,
          80677,
          65046,
          77064,
          75893,
          97649,
          94674,
          43760,
          51927,
          42588,
          82233,
          74738,
          63397,
          49816,
          72240,
          36276,
          53499,
          85204,
          45563,
          39847,
          25550,
          48309,
          30619,
          64707,
          50337,
          15000,
          30281,
          69030,
          31058,
          58404,
          59856,
          75000,
          94178,
          63997,
          55611,
          65057,
          31239,
          95661,
          75272,
          40000,
          25550,
          36638,
          83000,
          15000,
          39110,
          42115,
          69062,
          52911,
          31969,
          73753,
          34470,
          40225,
          53196,
          43669,
          67380,
          25550,
          77414,
          45577,
          85409,
          58625,
          66487,
          95838,
          80138,
          72823,
          67208,
          84061,
          60659,
          61890,
          77055,
          49508,
          72287,
          56984,
          66059,
          99569,
          35704,
          90576,
          57208,
          69882,
          55923,
          59165,
          97203,
          34114,
          25550,
          66321,
          55426,
          47772,
          33712,
          81924,
          83000,
          57723,
          65643,
          61324,
          75000,
          52443,
          93449,
          90233,
          55537,
          52612,
          36471,
          65631,
          61348,
          25550,
          31177,
          34760,
          51636,
          83551,
          41556,
          57598,
          41563,
          76819,
          56966,
          89889,
          56987,
          88348,
          54596,
          63174,
          94106,
          99967,
          69310,
          86088,
          38906,
          66914,
          75379,
          67650,
          76413,
          36012,
          87716,
          5000,
          61010,
          84691,
          94157,
          42289,
          74976,
          73596,
          53171,
          74139,
          78713,
          59734,
          93646,
          33654,
          48743,
          78368,
          54611,
          42149,
          89189,
          51675,
          72668,
          43673,
          64068,
          39435,
          82249,
          67384,
          61401,
          85826,
          66451,
          83000,
          61910,
          95681,
          98576,
          94174,
          56160,
          47633,
          147014,
          79104,
          71621,
          98388,
          46014,
          63755,
          70390,
          53711,
          87993,
          57213,
          37421,
          47727,
          62117,
          61910,
          25550,
          92438,
          59371,
          81501,
          90946,
          68467,
          47625,
          61007,
          69532,
          84253,
          42323,
          44210,
          46456,
          61367,
          84624,
          40106,
          98008,
          94315,
          99249,
          98011,
          66378,
          44484,
          86549,
          64503,
          75113,
          35249,
          49201,
          88576,
          39686,
          83363,
          30661,
          74843,
          72828,
          78604,
          40526,
          58982,
          75000,
          59328,
          76479,
          50103,
          85922,
          78231,
          59301,
          71323,
          43395,
          34895,
          95061,
          39715,
          49169,
          46163,
          65585,
          77864,
          85114,
          48073,
          94977,
          95450,
          34437,
          42329,
          55169,
          75033,
          93133,
          82290,
          70461,
          54226,
          86154,
          50609,
          85249,
          78895,
          93740,
          94309,
          35901,
          61552,
          61055,
          44716,
          41138,
          65298,
          81112,
          78244,
          47347,
          46920,
          61822,
          70108,
          37967,
          41871,
          63613,
          58179,
          65262,
          48268,
          90545,
          69922,
          72913,
          85677,
          79841,
          76332,
          55032,
          67846,
          89474,
          74936,
          59794,
          91588,
          80331,
          58141,
          39074,
          36406,
          71568,
          76851,
          84823,
          15000,
          64171,
          71779,
          98828,
          42411,
          87009,
          45422,
          62371,
          87022,
          81196,
          56715,
          57605,
          61174,
          83000,
          99252,
          15000,
          93037,
          36548,
          53177,
          54022,
          75000,
          90428,
          52740,
          89353,
          86532,
          46052,
          77076,
          83420,
          165355,
          30163,
          71424,
          83744,
          40634,
          34798,
          52420,
          59300,
          55121,
          63361,
          51223,
          44056,
          56035,
          60620,
          49877,
          85316,
          94041,
          83352,
          60911,
          62784,
          33191,
          63160,
          94641,
          79723,
          36172,
          72080,
          50281,
          58671,
          81431,
          58602,
          81399,
          53472,
          79230,
          37099,
          86492,
          77684,
          60111,
          93936,
          52614,
          90920,
          93530,
          66224,
          37788,
          58082,
          46531,
          40142,
          39866,
          94027,
          87906,
          58138,
          59956,
          77241,
          58270,
          69279,
          53888,
          47630,
          15000,
          65144,
          82161,
          80979,
          36979,
          56189,
          72600,
          89560,
          91558,
          83000,
          87713,
          76857,
          64964,
          55227,
          35978,
          47153,
          89765,
          69071,
          15000,
          94379,
          87866,
          46905,
          75838,
          56806,
          75000,
          52168,
          68714,
          79145,
          44291,
          76804,
          94946,
          91332,
          67643,
          80408,
          73950,
          45997,
          53911,
          85533,
          15000,
          88005,
          15000,
          73541,
          53387,
          78908,
          43057,
          85731,
          54858,
          78689,
          74638,
          76486,
          50567,
          87804,
          33754,
          57044,
          97260,
          96912,
          38894,
          48037,
          81612,
          59725,
          83000,
          39496,
          86447,
          59806,
          52656,
          85147,
          79666,
          68787,
          92946,
          51727,
          98056,
          33081,
          64196,
          55498,
          61656,
          97695,
          67900,
          77701,
          49033,
          40805,
          65851,
          56832,
          93437,
          43944,
          49873,
          70372,
          45379,
          66751,
          35110,
          84341,
          42087,
          39596,
          48313,
          53705,
          97364,
          32023,
          89796,
          94429,
          67804,
          57766,
          15000,
          46087,
          78868,
          53225,
          36643,
          41005,
          15000,
          46029,
          44226,
          93646,
          58731,
          98926,
          35997,
          79815,
          72092,
          92539,
          15000,
          67861,
          43428,
          87775,
          35469,
          58854,
          36256,
          63937,
          80288,
          55051,
          57386,
          46184,
          63787,
          51621,
          15000,
          75253,
          79811,
          60447,
          87418,
          44472,
          33471,
          83000,
          64865,
          76850,
          36397,
          65525,
          15000,
          55122,
          37999,
          52436,
          72963,
          32096,
          55279,
          56201,
          49715,
          45078,
          86614,
          98920,
          73619,
          72821,
          43493,
          83000,
          67051,
          37736,
          15000,
          43975,
          92424,
          75603,
          53252,
          64742,
          49675,
          47015,
          80057,
          62591,
          39833,
          37896,
          79733,
          71800,
          83000,
          89063,
          32643,
          48681,
          80026,
          45892,
          77299,
          47073,
          60682,
          44289,
          37927,
          78330,
          96707,
          80601,
          32539,
          50644,
          58228,
          64521,
          56928,
          48322,
          87714,
          92292,
          59055,
          72891,
          36588,
          37345,
          59300,
          54259,
          45352,
          63365,
          32336,
          53481,
          48474,
          76760,
          85718,
          74629,
          97169,
          80669,
          77945,
          43140,
          44357,
          98673,
          95633,
          42924,
          99286,
          60651,
          46994,
          97263,
          89634,
          40800,
          67823,
          93878,
          48708,
          39283,
          60573,
          60933,
          83000,
          48133,
          44939,
          86700,
          57624,
          48489,
          69961,
          59118,
          52263,
          43565,
          50354,
          72951,
          15000,
          71971,
          48658,
          51253,
          15000,
          56390,
          62658,
          32551,
          91001,
          79159,
          81707,
          51800,
          87828,
          37239,
          36710,
          51038,
          70846,
          97821,
          67991,
          36971,
          67711,
          36530,
          41116,
          95794,
          31898,
          34135,
          36629,
          95031,
          63380,
          47071,
          50074,
          97843,
          41205,
          85661,
          35906,
          32591,
          92987,
          93370,
          84400,
          55150,
          61852,
          82756,
          86481,
          83000,
          63691,
          97065,
          56170,
          38438,
          46154,
          38004,
          39752,
          85426,
          54217,
          62994,
          45036,
          79416,
          83000,
          30645,
          60090,
          82142,
          56475,
          76305,
          76037,
          39346,
          30587,
          89165,
          66116,
          55556,
          15000,
          48099,
          75096,
          43230,
          59009,
          63866,
          36416,
          85915,
          70718,
          62602,
          88067,
          57516,
          31089,
          67346,
          30155,
          68547,
          85296,
          51447,
          66598,
          15000,
          85077,
          39528,
          80100,
          38179,
          85267,
          53952,
          83798,
          80939,
          59516,
          86526,
          80290,
          52746,
          97990,
          88810,
          45223,
          32597,
          95677,
          32659,
          45037,
          76738,
          42109,
          52010,
          83000,
          38472,
          91709,
          99785,
          64518,
          83909,
          99624,
          83330,
          45282,
          54264,
          89675,
          78454,
          58365,
          78200,
          41002,
          43947,
          15000,
          34493,
          64228,
          61655,
          73472,
          79437,
          79416,
          89711,
          36816,
          15000,
          76733,
          41240,
          62762,
          38259,
          80139,
          44849,
          84869,
          93095,
          65292,
          81631,
          39885,
          89659,
          84306,
          96314,
          15000,
          59165,
          88929,
          97028,
          79812,
          80500,
          88643,
          74900,
          72946
         ],
         "yaxis": "y2"
        },
        {
         "name": "TAX",
         "type": "box",
         "xaxis": "x3",
         "y": [
          12000,
          12386.85,
          8757,
          11250,
          7507.349999999999,
          6912.3,
          13500,
          10111.8,
          12450,
          13500,
          11325,
          2250,
          9004.05,
          13398.15,
          4643.4,
          11686.2,
          8394.449999999999,
          10416.45,
          10359.45,
          12900,
          3832.5,
          8377.35,
          9279,
          9237.75,
          7802.25,
          11037.75,
          8543.699999999999,
          8402.55,
          11302.5,
          11478,
          8913.9,
          3832.5,
          10834.35,
          13058.4,
          8623.5,
          7496.25,
          8508.449999999999,
          7991.849999999999,
          14311.65,
          14409.15,
          3832.5,
          9471.3,
          3832.5,
          11244.75,
          5197.2,
          9769.95,
          12101.55,
          9756.9,
          11559.6,
          11383.95,
          14647.35,
          14201.1,
          6564,
          7789.049999999999,
          6388.2,
          12334.95,
          11210.7,
          9509.55,
          7472.4,
          10836,
          5441.4,
          8024.849999999999,
          12780.6,
          6834.45,
          5977.05,
          3832.5,
          7246.349999999999,
          4592.849999999999,
          9706.05,
          7550.549999999999,
          2250,
          4542.15,
          10354.5,
          4658.7,
          8760.6,
          8978.4,
          11250,
          14126.7,
          9599.55,
          8341.65,
          9758.55,
          4685.849999999999,
          14349.15,
          11290.8,
          6000,
          3832.5,
          5495.7,
          12450,
          2250,
          5866.5,
          6317.25,
          10359.3,
          7936.65,
          4795.349999999999,
          11062.95,
          5170.5,
          6033.75,
          7979.4,
          6550.349999999999,
          10107,
          3832.5,
          11612.1,
          6836.55,
          12811.35,
          8793.75,
          9973.05,
          14375.7,
          12020.7,
          10923.45,
          10081.2,
          12609.15,
          9098.85,
          9283.5,
          11558.25,
          7426.2,
          10843.05,
          8547.6,
          9908.85,
          14935.35,
          5355.599999999999,
          13586.4,
          8581.199999999999,
          10482.3,
          8388.449999999999,
          8874.75,
          14580.45,
          5117.099999999999,
          3832.5,
          9948.15,
          8313.9,
          7165.8,
          5056.8,
          12288.6,
          12450,
          8658.449999999999,
          9846.45,
          9198.6,
          11250,
          7866.45,
          14017.35,
          13534.95,
          8330.55,
          7891.799999999999,
          5470.65,
          9844.65,
          9202.2,
          3832.5,
          4676.55,
          5214,
          7745.4,
          12532.65,
          6233.4,
          8639.699999999999,
          6234.45,
          11522.85,
          8544.9,
          13483.35,
          8548.05,
          13252.2,
          8189.4,
          9476.1,
          14115.9,
          14995.05,
          10396.5,
          12913.2,
          5835.9,
          10037.1,
          11306.85,
          10147.5,
          11461.95,
          5401.8,
          13157.4,
          750,
          9151.5,
          12703.65,
          14123.55,
          6343.349999999999,
          11246.4,
          11039.4,
          7975.65,
          11120.85,
          11806.95,
          8960.1,
          14046.9,
          5048.099999999999,
          7311.45,
          11755.2,
          8191.65,
          6322.349999999999,
          13378.35,
          7751.25,
          10900.2,
          6550.95,
          9610.2,
          5915.25,
          12337.35,
          10107.6,
          9210.15,
          12873.9,
          9967.65,
          12450,
          9286.5,
          14352.15,
          14786.4,
          14126.1,
          8424,
          7144.95,
          22052.1,
          11865.6,
          10743.15,
          14758.2,
          6902.099999999999,
          9563.25,
          10558.5,
          8056.65,
          13198.95,
          8581.949999999999,
          5613.15,
          7159.05,
          9317.55,
          9286.5,
          3832.5,
          13865.7,
          8905.65,
          12225.15,
          13641.9,
          10270.05,
          7143.75,
          9151.05,
          10429.8,
          12637.95,
          6348.45,
          6631.5,
          6968.4,
          9205.05,
          12693.6,
          6015.9,
          14701.2,
          14147.25,
          14887.35,
          14701.65,
          9956.7,
          6672.599999999999,
          12982.35,
          9675.45,
          11266.95,
          5287.349999999999,
          7380.15,
          13286.4,
          5952.9,
          12504.45,
          4599.15,
          11226.45,
          10924.2,
          11790.6,
          6078.9,
          8847.3,
          11250,
          8899.199999999999,
          11471.85,
          7515.45,
          12888.3,
          11734.65,
          8895.15,
          10698.45,
          6509.25,
          5234.25,
          14259.15,
          5957.25,
          7375.349999999999,
          6924.45,
          9837.75,
          11679.6,
          12767.1,
          7210.95,
          14246.55,
          14317.5,
          5165.55,
          6349.349999999999,
          8275.35,
          11254.95,
          13969.95,
          12343.5,
          10569.15,
          8133.9,
          12923.1,
          7591.349999999999,
          12787.35,
          11834.25,
          14061,
          14146.35,
          5385.15,
          9232.8,
          9158.25,
          6707.4,
          6170.7,
          9794.7,
          12166.8,
          11736.6,
          7102.05,
          7038,
          9273.3,
          10516.2,
          5695.05,
          6280.65,
          9541.95,
          8726.85,
          9789.3,
          7240.2,
          13581.75,
          10488.3,
          10936.95,
          12851.55,
          11976.15,
          11449.8,
          8254.8,
          10176.9,
          13421.1,
          11240.4,
          8969.1,
          13738.2,
          12049.65,
          8721.15,
          5861.099999999999,
          5460.9,
          10735.2,
          11527.65,
          12723.45,
          2250,
          9625.65,
          10766.85,
          14824.2,
          6361.65,
          13051.35,
          6813.3,
          9355.65,
          13053.3,
          12179.4,
          8507.25,
          8640.75,
          9176.1,
          12450,
          14887.8,
          2250,
          13955.55,
          5482.2,
          7976.549999999999,
          8103.299999999999,
          11250,
          13564.2,
          7911,
          13402.95,
          12979.8,
          6907.8,
          11561.4,
          12513,
          24803.25,
          4524.45,
          10713.6,
          12561.6,
          6095.099999999999,
          5219.7,
          7863,
          8895,
          8268.15,
          9504.15,
          7683.45,
          6608.4,
          8405.25,
          9093,
          7481.549999999999,
          12797.4,
          14106.15,
          12502.8,
          9136.65,
          9417.6,
          4978.65,
          9474,
          14196.15,
          11958.45,
          5425.8,
          10812,
          7542.15,
          8800.65,
          12214.65,
          8790.3,
          12209.85,
          8020.799999999999,
          11884.5,
          5564.849999999999,
          12973.8,
          11652.6,
          9016.65,
          14090.4,
          7892.099999999999,
          13638,
          14029.5,
          9933.6,
          5668.2,
          8712.3,
          6979.65,
          6021.3,
          5979.9,
          14104.05,
          13185.9,
          8720.699999999999,
          8993.4,
          11586.15,
          8740.5,
          10391.85,
          8083.2,
          7144.5,
          2250,
          9771.6,
          12324.15,
          12146.85,
          5546.849999999999,
          8428.35,
          10890,
          13434,
          13733.7,
          12450,
          13156.95,
          11528.55,
          9744.6,
          8284.05,
          5396.7,
          7072.95,
          13464.75,
          10360.65,
          2250,
          14156.85,
          13179.9,
          7035.75,
          11375.7,
          8520.9,
          11250,
          7825.2,
          10307.1,
          11871.75,
          6643.65,
          11520.6,
          14241.9,
          13699.8,
          10146.45,
          12061.2,
          11092.5,
          6899.55,
          8086.65,
          12829.95,
          2250,
          13200.75,
          2250,
          11031.15,
          8008.049999999999,
          11836.2,
          6458.55,
          12859.65,
          8228.699999999999,
          11803.35,
          11195.7,
          11472.9,
          7585.049999999999,
          13170.6,
          5063.099999999999,
          8556.6,
          14589,
          14536.8,
          5834.099999999999,
          7205.55,
          12241.8,
          8958.75,
          12450,
          5924.4,
          12967.05,
          8970.9,
          7898.4,
          12772.05,
          11949.9,
          10318.05,
          13941.9,
          7759.049999999999,
          14708.4,
          4962.15,
          9629.4,
          8324.699999999999,
          9248.4,
          14654.25,
          10185,
          11655.15,
          7354.95,
          6120.75,
          9877.65,
          8524.8,
          14015.55,
          6591.599999999999,
          7480.95,
          10555.8,
          6806.849999999999,
          10012.65,
          5266.5,
          12651.15,
          6313.05,
          5939.4,
          7246.95,
          8055.75,
          14604.6,
          4803.45,
          13469.4,
          14164.35,
          10170.6,
          8664.9,
          2250,
          6913.05,
          11830.2,
          7983.75,
          5496.45,
          6150.75,
          2250,
          6904.349999999999,
          6633.9,
          14046.9,
          8809.65,
          14838.9,
          5399.55,
          11972.25,
          10813.8,
          13880.85,
          2250,
          10179.15,
          6514.2,
          13166.25,
          5320.349999999999,
          8828.1,
          5438.4,
          9590.55,
          12043.2,
          8257.65,
          8607.9,
          6927.599999999999,
          9568.05,
          7743.15,
          2250,
          11287.95,
          11971.65,
          9067.05,
          13112.7,
          6670.8,
          5020.65,
          12450,
          9729.75,
          11527.5,
          5459.55,
          9828.75,
          2250,
          8268.3,
          5699.849999999999,
          7865.4,
          10944.45,
          4814.4,
          8291.85,
          8430.15,
          7457.25,
          6761.7,
          12992.1,
          14838,
          11042.85,
          10923.15,
          6523.95,
          12450,
          10057.65,
          5660.4,
          2250,
          6596.25,
          13863.6,
          11340.45,
          7987.799999999999,
          9711.3,
          7451.25,
          7052.25,
          12008.55,
          9388.65,
          5974.95,
          5684.4,
          11959.95,
          10770,
          12450,
          13359.45,
          4896.45,
          7302.15,
          12003.9,
          6883.8,
          11594.85,
          7060.95,
          9102.3,
          6643.349999999999,
          5689.05,
          11749.5,
          14506.05,
          12090.15,
          4880.849999999999,
          7596.599999999999,
          8734.199999999999,
          9678.15,
          8539.199999999999,
          7248.3,
          13157.1,
          13843.8,
          8858.25,
          10933.65,
          5488.2,
          5601.75,
          8895,
          8138.849999999999,
          6802.8,
          9504.75,
          4850.4,
          8022.15,
          7271.099999999999,
          11514,
          12857.7,
          11194.35,
          14575.35,
          12100.35,
          11691.75,
          6471,
          6653.55,
          14800.95,
          14344.95,
          6438.599999999999,
          14892.9,
          9097.65,
          7049.099999999999,
          14589.45,
          13445.1,
          6120,
          10173.45,
          14081.7,
          7306.2,
          5892.45,
          9085.95,
          9139.95,
          12450,
          7219.95,
          6740.849999999999,
          13005,
          8643.6,
          7273.349999999999,
          10494.15,
          8867.699999999999,
          7839.45,
          6534.75,
          7553.099999999999,
          10942.65,
          2250,
          10795.65,
          7298.7,
          7687.95,
          2250,
          8458.5,
          9398.7,
          4882.65,
          13650.15,
          11873.85,
          12256.05,
          7770,
          13174.2,
          5585.849999999999,
          5506.5,
          7655.7,
          10626.9,
          14673.15,
          10198.65,
          5545.65,
          10156.65,
          5479.5,
          6167.4,
          14369.1,
          4784.7,
          5120.25,
          5494.349999999999,
          14254.65,
          9507,
          7060.65,
          7511.099999999999,
          14676.45,
          6180.75,
          12849.15,
          5385.9,
          4888.65,
          13948.05,
          14005.5,
          12660,
          8272.5,
          9277.8,
          12413.4,
          12972.15,
          12450,
          9553.65,
          14559.75,
          8425.5,
          5765.7,
          6923.099999999999,
          5700.599999999999,
          5962.8,
          12813.9,
          8132.549999999999,
          9449.1,
          6755.4,
          11912.4,
          12450,
          4596.75,
          9013.5,
          12321.3,
          8471.25,
          11445.75,
          11405.55,
          5901.9,
          4588.05,
          13374.75,
          9917.4,
          8333.4,
          2250,
          7214.849999999999,
          11264.4,
          6484.5,
          8851.35,
          9579.9,
          5462.4,
          12887.25,
          10607.7,
          9390.3,
          13210.05,
          8627.4,
          4663.349999999999,
          10101.9,
          4523.25,
          10282.05,
          12794.4,
          7717.049999999999,
          9989.7,
          2250,
          12761.55,
          5929.2,
          12015,
          5726.849999999999,
          12790.05,
          8092.799999999999,
          12569.7,
          12140.85,
          8927.4,
          12978.9,
          12043.5,
          7911.9,
          14698.5,
          13321.5,
          6783.45,
          4889.55,
          14351.55,
          4898.849999999999,
          6755.55,
          11510.7,
          6316.349999999999,
          7801.5,
          12450,
          5770.8,
          13756.35,
          14967.75,
          9677.7,
          12586.35,
          14943.6,
          12499.5,
          6792.3,
          8139.599999999999,
          13451.25,
          11768.1,
          8754.75,
          11730,
          6150.3,
          6592.05,
          2250,
          5173.95,
          9634.2,
          9248.25,
          11020.8,
          11915.55,
          11912.4,
          13456.65,
          5522.4,
          2250,
          11509.95,
          6186,
          9414.3,
          5738.849999999999,
          12020.85,
          6727.349999999999,
          12730.35,
          13964.25,
          9793.8,
          12244.65,
          5982.75,
          13448.85,
          12645.9,
          14447.1,
          2250,
          8874.75,
          13339.35,
          14554.2,
          11971.8,
          12075,
          13296.45,
          11235,
          10941.9
         ],
         "yaxis": "y3"
        },
        {
         "name": "Previous_sales",
         "type": "box",
         "xaxis": "x4",
         "y": [
          1,
          5,
          3,
          0,
          0,
          0,
          9,
          4,
          4,
          6,
          1,
          4,
          0,
          2,
          1,
          2,
          4,
          0,
          0,
          9,
          0,
          2,
          4,
          3,
          3,
          1,
          7,
          4,
          1,
          1,
          0,
          0,
          0,
          5,
          0,
          4,
          4,
          4,
          9,
          0,
          1,
          6,
          0,
          1,
          0,
          0,
          1,
          0,
          8,
          0,
          1,
          1,
          0,
          0,
          2,
          1,
          5,
          0,
          1,
          5,
          2,
          0,
          3,
          2,
          0,
          0,
          1,
          3,
          0,
          7,
          0,
          0,
          5,
          8,
          10,
          0,
          4,
          1,
          0,
          0,
          2,
          0,
          1,
          1,
          0,
          1,
          0,
          0,
          4,
          1,
          0,
          3,
          0,
          2,
          6,
          6,
          0,
          8,
          1,
          4,
          0,
          0,
          5,
          4,
          3,
          3,
          0,
          6,
          0,
          0,
          6,
          9,
          1,
          0,
          0,
          2,
          0,
          1,
          6,
          0,
          1,
          10,
          0,
          0,
          1,
          0,
          2,
          3,
          3,
          0,
          1,
          4,
          1,
          1,
          2,
          0,
          2,
          2,
          5,
          4,
          2,
          0,
          2,
          0,
          2,
          6,
          2,
          0,
          0,
          7,
          0,
          0,
          0,
          2,
          1,
          0,
          0,
          2,
          0,
          0,
          3,
          4,
          3,
          0,
          2,
          5,
          10,
          0,
          0,
          0,
          2,
          6,
          8,
          7,
          0,
          5,
          3,
          0,
          1,
          1,
          5,
          20,
          6,
          0,
          2,
          6,
          6,
          5,
          1,
          0,
          6,
          2,
          2,
          0,
          0,
          0,
          4,
          0,
          4,
          9,
          0,
          2,
          8,
          1,
          1,
          1,
          0,
          0,
          0,
          4,
          2,
          6,
          1,
          5,
          0,
          2,
          5,
          0,
          0,
          0,
          6,
          3,
          3,
          0,
          4,
          0,
          0,
          4,
          2,
          1,
          0,
          0,
          9,
          5,
          1,
          4,
          1,
          9,
          8,
          4,
          0,
          2,
          1,
          1,
          1,
          4,
          5,
          2,
          4,
          4,
          0,
          0,
          0,
          0,
          0,
          0,
          0,
          4,
          0,
          4,
          6,
          4,
          9,
          1,
          0,
          3,
          0,
          4,
          0,
          6,
          0,
          0,
          1,
          0,
          4,
          3,
          0,
          0,
          0,
          2,
          4,
          0,
          4,
          3,
          0,
          3,
          1,
          0,
          2,
          1,
          0,
          3,
          6,
          0,
          0,
          8,
          6,
          0,
          2,
          0,
          4,
          6,
          4,
          4,
          0,
          0,
          3,
          1,
          4,
          0,
          6,
          0,
          0,
          3,
          0,
          0,
          4,
          6,
          2,
          0,
          0,
          0,
          1,
          0,
          0,
          4,
          2,
          3,
          0,
          4,
          0,
          8,
          0,
          1,
          5,
          0,
          3,
          0,
          0,
          0,
          2,
          5,
          0,
          0,
          3,
          4,
          0,
          0,
          6,
          4,
          4,
          6,
          0,
          0,
          2,
          1,
          1,
          6,
          2,
          0,
          2,
          2,
          3,
          0,
          4,
          0,
          1,
          0,
          6,
          1,
          8,
          25,
          4,
          4,
          0,
          4,
          2,
          1,
          4,
          0,
          0,
          5,
          0,
          1,
          1,
          6,
          4,
          3,
          3,
          0,
          0,
          0,
          5,
          4,
          4,
          0,
          6,
          3,
          1,
          6,
          0,
          0,
          3,
          3,
          0,
          0,
          7,
          6,
          5,
          1,
          1,
          0,
          4,
          3,
          7,
          1,
          1,
          4,
          7,
          4,
          0,
          5,
          0,
          0,
          0,
          3,
          0,
          4,
          0,
          3,
          1,
          0,
          0,
          0,
          0,
          5,
          5,
          0,
          0,
          1,
          9,
          3,
          4,
          0,
          0,
          6,
          5,
          3,
          0,
          2,
          0,
          6,
          2,
          1,
          8,
          0,
          2,
          4,
          0,
          0,
          0,
          4,
          1,
          5,
          0,
          0,
          0,
          1,
          0,
          1,
          6,
          8,
          1,
          0,
          5,
          1,
          6,
          6,
          2,
          0,
          2,
          2,
          3,
          0,
          1,
          7,
          3,
          0,
          3,
          4,
          0,
          0,
          3,
          2,
          8,
          0,
          4,
          0,
          0,
          3,
          5,
          0,
          1,
          0,
          2,
          0,
          1,
          1,
          0,
          0,
          4,
          5,
          0,
          6,
          0,
          2,
          5,
          0,
          0,
          1,
          5,
          0,
          1,
          0,
          0,
          0,
          0,
          3,
          0,
          5,
          1,
          2,
          0,
          0,
          0,
          4,
          0,
          2,
          2,
          2,
          0,
          1,
          0,
          8,
          2,
          0,
          2,
          8,
          0,
          2,
          0,
          2,
          0,
          6,
          2,
          2,
          6,
          2,
          0,
          0,
          0,
          0,
          0,
          5,
          2,
          4,
          0,
          2,
          0,
          3,
          0,
          0,
          0,
          5,
          0,
          10,
          3,
          0,
          7,
          2,
          1,
          7,
          3,
          0,
          1,
          0,
          6,
          0,
          0,
          2,
          4,
          0,
          2,
          6,
          10,
          0,
          3,
          0,
          0,
          1,
          3,
          3,
          1,
          0,
          0,
          0,
          0,
          1,
          1,
          7,
          0,
          0,
          1,
          0,
          0,
          2,
          2,
          0,
          0,
          4,
          2,
          4,
          4,
          2,
          1,
          0,
          0,
          3,
          6,
          0,
          0,
          0,
          0,
          0,
          2,
          5,
          6,
          3,
          0,
          1,
          2,
          5,
          5,
          0,
          0,
          2,
          6,
          1,
          0,
          0,
          7,
          1,
          0,
          4,
          4,
          5,
          1,
          3,
          0,
          0,
          1,
          4,
          0,
          0,
          2,
          0,
          0,
          0,
          0,
          0,
          0,
          4,
          3,
          0,
          3,
          2,
          0,
          4,
          0,
          0,
          7,
          1,
          0,
          0,
          0,
          0,
          3,
          2,
          0,
          0,
          0,
          2,
          2,
          0,
          2,
          3,
          1,
          7,
          0,
          0,
          0,
          1,
          0,
          1,
          0,
          4,
          0,
          0,
          5,
          4,
          6,
          0,
          2,
          8,
          0,
          4,
          0,
          0,
          0,
          1,
          0,
          0,
          0,
          0,
          5,
          2,
          0,
          0,
          0,
          4,
          0,
          4,
          4,
          7,
          0,
          0,
          0,
          0,
          2,
          2,
          0,
          6,
          0,
          0,
          6,
          0,
          2,
          0,
          3,
          0,
          3,
          0,
          5,
          0,
          1,
          0,
          6,
          9,
          0,
          0,
          6,
          10,
          0,
          7,
          4,
          2,
          0,
          0,
          0,
          2,
          2,
          0,
          0,
          4,
          0,
          0,
          0,
          2,
          5,
          1,
          0,
          4,
          3,
          4,
          0,
          3,
          0,
          3,
          0,
          0,
          0,
          0,
          8,
          7,
          3,
          0,
          5,
          4,
          8,
          0,
          0,
          0,
          3,
          3,
          0,
          2,
          0,
          0,
          0,
          3,
          0,
          1,
          1
         ],
         "yaxis": "y4"
        }
       ],
       "layout": {
        "annotations": [
         {
          "font": {
           "size": 16
          },
          "showarrow": false,
          "text": "Age",
          "x": 0.5,
          "xanchor": "center",
          "xref": "paper",
          "y": 1,
          "yanchor": "bottom",
          "yref": "paper"
         },
         {
          "font": {
           "size": 16
          },
          "showarrow": false,
          "text": "Income",
          "x": 0.5,
          "xanchor": "center",
          "xref": "paper",
          "y": 0.71875,
          "yanchor": "bottom",
          "yref": "paper"
         },
         {
          "font": {
           "size": 16
          },
          "showarrow": false,
          "text": "TAX",
          "x": 0.5,
          "xanchor": "center",
          "xref": "paper",
          "y": 0.4375,
          "yanchor": "bottom",
          "yref": "paper"
         },
         {
          "font": {
           "size": 16
          },
          "showarrow": false,
          "text": "Previous_sales",
          "x": 0.5,
          "xanchor": "center",
          "xref": "paper",
          "y": 0.15625,
          "yanchor": "bottom",
          "yref": "paper"
         }
        ],
        "height": 2000,
        "template": {
         "data": {
          "bar": [
           {
            "error_x": {
             "color": "#2a3f5f"
            },
            "error_y": {
             "color": "#2a3f5f"
            },
            "marker": {
             "line": {
              "color": "#E5ECF6",
              "width": 0.5
             },
             "pattern": {
              "fillmode": "overlay",
              "size": 10,
              "solidity": 0.2
             }
            },
            "type": "bar"
           }
          ],
          "barpolar": [
           {
            "marker": {
             "line": {
              "color": "#E5ECF6",
              "width": 0.5
             },
             "pattern": {
              "fillmode": "overlay",
              "size": 10,
              "solidity": 0.2
             }
            },
            "type": "barpolar"
           }
          ],
          "carpet": [
           {
            "aaxis": {
             "endlinecolor": "#2a3f5f",
             "gridcolor": "white",
             "linecolor": "white",
             "minorgridcolor": "white",
             "startlinecolor": "#2a3f5f"
            },
            "baxis": {
             "endlinecolor": "#2a3f5f",
             "gridcolor": "white",
             "linecolor": "white",
             "minorgridcolor": "white",
             "startlinecolor": "#2a3f5f"
            },
            "type": "carpet"
           }
          ],
          "choropleth": [
           {
            "colorbar": {
             "outlinewidth": 0,
             "ticks": ""
            },
            "type": "choropleth"
           }
          ],
          "contour": [
           {
            "colorbar": {
             "outlinewidth": 0,
             "ticks": ""
            },
            "colorscale": [
             [
              0,
              "#0d0887"
             ],
             [
              0.1111111111111111,
              "#46039f"
             ],
             [
              0.2222222222222222,
              "#7201a8"
             ],
             [
              0.3333333333333333,
              "#9c179e"
             ],
             [
              0.4444444444444444,
              "#bd3786"
             ],
             [
              0.5555555555555556,
              "#d8576b"
             ],
             [
              0.6666666666666666,
              "#ed7953"
             ],
             [
              0.7777777777777778,
              "#fb9f3a"
             ],
             [
              0.8888888888888888,
              "#fdca26"
             ],
             [
              1,
              "#f0f921"
             ]
            ],
            "type": "contour"
           }
          ],
          "contourcarpet": [
           {
            "colorbar": {
             "outlinewidth": 0,
             "ticks": ""
            },
            "type": "contourcarpet"
           }
          ],
          "heatmap": [
           {
            "colorbar": {
             "outlinewidth": 0,
             "ticks": ""
            },
            "colorscale": [
             [
              0,
              "#0d0887"
             ],
             [
              0.1111111111111111,
              "#46039f"
             ],
             [
              0.2222222222222222,
              "#7201a8"
             ],
             [
              0.3333333333333333,
              "#9c179e"
             ],
             [
              0.4444444444444444,
              "#bd3786"
             ],
             [
              0.5555555555555556,
              "#d8576b"
             ],
             [
              0.6666666666666666,
              "#ed7953"
             ],
             [
              0.7777777777777778,
              "#fb9f3a"
             ],
             [
              0.8888888888888888,
              "#fdca26"
             ],
             [
              1,
              "#f0f921"
             ]
            ],
            "type": "heatmap"
           }
          ],
          "heatmapgl": [
           {
            "colorbar": {
             "outlinewidth": 0,
             "ticks": ""
            },
            "colorscale": [
             [
              0,
              "#0d0887"
             ],
             [
              0.1111111111111111,
              "#46039f"
             ],
             [
              0.2222222222222222,
              "#7201a8"
             ],
             [
              0.3333333333333333,
              "#9c179e"
             ],
             [
              0.4444444444444444,
              "#bd3786"
             ],
             [
              0.5555555555555556,
              "#d8576b"
             ],
             [
              0.6666666666666666,
              "#ed7953"
             ],
             [
              0.7777777777777778,
              "#fb9f3a"
             ],
             [
              0.8888888888888888,
              "#fdca26"
             ],
             [
              1,
              "#f0f921"
             ]
            ],
            "type": "heatmapgl"
           }
          ],
          "histogram": [
           {
            "marker": {
             "pattern": {
              "fillmode": "overlay",
              "size": 10,
              "solidity": 0.2
             }
            },
            "type": "histogram"
           }
          ],
          "histogram2d": [
           {
            "colorbar": {
             "outlinewidth": 0,
             "ticks": ""
            },
            "colorscale": [
             [
              0,
              "#0d0887"
             ],
             [
              0.1111111111111111,
              "#46039f"
             ],
             [
              0.2222222222222222,
              "#7201a8"
             ],
             [
              0.3333333333333333,
              "#9c179e"
             ],
             [
              0.4444444444444444,
              "#bd3786"
             ],
             [
              0.5555555555555556,
              "#d8576b"
             ],
             [
              0.6666666666666666,
              "#ed7953"
             ],
             [
              0.7777777777777778,
              "#fb9f3a"
             ],
             [
              0.8888888888888888,
              "#fdca26"
             ],
             [
              1,
              "#f0f921"
             ]
            ],
            "type": "histogram2d"
           }
          ],
          "histogram2dcontour": [
           {
            "colorbar": {
             "outlinewidth": 0,
             "ticks": ""
            },
            "colorscale": [
             [
              0,
              "#0d0887"
             ],
             [
              0.1111111111111111,
              "#46039f"
             ],
             [
              0.2222222222222222,
              "#7201a8"
             ],
             [
              0.3333333333333333,
              "#9c179e"
             ],
             [
              0.4444444444444444,
              "#bd3786"
             ],
             [
              0.5555555555555556,
              "#d8576b"
             ],
             [
              0.6666666666666666,
              "#ed7953"
             ],
             [
              0.7777777777777778,
              "#fb9f3a"
             ],
             [
              0.8888888888888888,
              "#fdca26"
             ],
             [
              1,
              "#f0f921"
             ]
            ],
            "type": "histogram2dcontour"
           }
          ],
          "mesh3d": [
           {
            "colorbar": {
             "outlinewidth": 0,
             "ticks": ""
            },
            "type": "mesh3d"
           }
          ],
          "parcoords": [
           {
            "line": {
             "colorbar": {
              "outlinewidth": 0,
              "ticks": ""
             }
            },
            "type": "parcoords"
           }
          ],
          "pie": [
           {
            "automargin": true,
            "type": "pie"
           }
          ],
          "scatter": [
           {
            "fillpattern": {
             "fillmode": "overlay",
             "size": 10,
             "solidity": 0.2
            },
            "type": "scatter"
           }
          ],
          "scatter3d": [
           {
            "line": {
             "colorbar": {
              "outlinewidth": 0,
              "ticks": ""
             }
            },
            "marker": {
             "colorbar": {
              "outlinewidth": 0,
              "ticks": ""
             }
            },
            "type": "scatter3d"
           }
          ],
          "scattercarpet": [
           {
            "marker": {
             "colorbar": {
              "outlinewidth": 0,
              "ticks": ""
             }
            },
            "type": "scattercarpet"
           }
          ],
          "scattergeo": [
           {
            "marker": {
             "colorbar": {
              "outlinewidth": 0,
              "ticks": ""
             }
            },
            "type": "scattergeo"
           }
          ],
          "scattergl": [
           {
            "marker": {
             "colorbar": {
              "outlinewidth": 0,
              "ticks": ""
             }
            },
            "type": "scattergl"
           }
          ],
          "scattermapbox": [
           {
            "marker": {
             "colorbar": {
              "outlinewidth": 0,
              "ticks": ""
             }
            },
            "type": "scattermapbox"
           }
          ],
          "scatterpolar": [
           {
            "marker": {
             "colorbar": {
              "outlinewidth": 0,
              "ticks": ""
             }
            },
            "type": "scatterpolar"
           }
          ],
          "scatterpolargl": [
           {
            "marker": {
             "colorbar": {
              "outlinewidth": 0,
              "ticks": ""
             }
            },
            "type": "scatterpolargl"
           }
          ],
          "scatterternary": [
           {
            "marker": {
             "colorbar": {
              "outlinewidth": 0,
              "ticks": ""
             }
            },
            "type": "scatterternary"
           }
          ],
          "surface": [
           {
            "colorbar": {
             "outlinewidth": 0,
             "ticks": ""
            },
            "colorscale": [
             [
              0,
              "#0d0887"
             ],
             [
              0.1111111111111111,
              "#46039f"
             ],
             [
              0.2222222222222222,
              "#7201a8"
             ],
             [
              0.3333333333333333,
              "#9c179e"
             ],
             [
              0.4444444444444444,
              "#bd3786"
             ],
             [
              0.5555555555555556,
              "#d8576b"
             ],
             [
              0.6666666666666666,
              "#ed7953"
             ],
             [
              0.7777777777777778,
              "#fb9f3a"
             ],
             [
              0.8888888888888888,
              "#fdca26"
             ],
             [
              1,
              "#f0f921"
             ]
            ],
            "type": "surface"
           }
          ],
          "table": [
           {
            "cells": {
             "fill": {
              "color": "#EBF0F8"
             },
             "line": {
              "color": "white"
             }
            },
            "header": {
             "fill": {
              "color": "#C8D4E3"
             },
             "line": {
              "color": "white"
             }
            },
            "type": "table"
           }
          ]
         },
         "layout": {
          "annotationdefaults": {
           "arrowcolor": "#2a3f5f",
           "arrowhead": 0,
           "arrowwidth": 1
          },
          "autotypenumbers": "strict",
          "coloraxis": {
           "colorbar": {
            "outlinewidth": 0,
            "ticks": ""
           }
          },
          "colorscale": {
           "diverging": [
            [
             0,
             "#8e0152"
            ],
            [
             0.1,
             "#c51b7d"
            ],
            [
             0.2,
             "#de77ae"
            ],
            [
             0.3,
             "#f1b6da"
            ],
            [
             0.4,
             "#fde0ef"
            ],
            [
             0.5,
             "#f7f7f7"
            ],
            [
             0.6,
             "#e6f5d0"
            ],
            [
             0.7,
             "#b8e186"
            ],
            [
             0.8,
             "#7fbc41"
            ],
            [
             0.9,
             "#4d9221"
            ],
            [
             1,
             "#276419"
            ]
           ],
           "sequential": [
            [
             0,
             "#0d0887"
            ],
            [
             0.1111111111111111,
             "#46039f"
            ],
            [
             0.2222222222222222,
             "#7201a8"
            ],
            [
             0.3333333333333333,
             "#9c179e"
            ],
            [
             0.4444444444444444,
             "#bd3786"
            ],
            [
             0.5555555555555556,
             "#d8576b"
            ],
            [
             0.6666666666666666,
             "#ed7953"
            ],
            [
             0.7777777777777778,
             "#fb9f3a"
            ],
            [
             0.8888888888888888,
             "#fdca26"
            ],
            [
             1,
             "#f0f921"
            ]
           ],
           "sequentialminus": [
            [
             0,
             "#0d0887"
            ],
            [
             0.1111111111111111,
             "#46039f"
            ],
            [
             0.2222222222222222,
             "#7201a8"
            ],
            [
             0.3333333333333333,
             "#9c179e"
            ],
            [
             0.4444444444444444,
             "#bd3786"
            ],
            [
             0.5555555555555556,
             "#d8576b"
            ],
            [
             0.6666666666666666,
             "#ed7953"
            ],
            [
             0.7777777777777778,
             "#fb9f3a"
            ],
            [
             0.8888888888888888,
             "#fdca26"
            ],
            [
             1,
             "#f0f921"
            ]
           ]
          },
          "colorway": [
           "#636efa",
           "#EF553B",
           "#00cc96",
           "#ab63fa",
           "#FFA15A",
           "#19d3f3",
           "#FF6692",
           "#B6E880",
           "#FF97FF",
           "#FECB52"
          ],
          "font": {
           "color": "#2a3f5f"
          },
          "geo": {
           "bgcolor": "white",
           "lakecolor": "white",
           "landcolor": "#E5ECF6",
           "showlakes": true,
           "showland": true,
           "subunitcolor": "white"
          },
          "hoverlabel": {
           "align": "left"
          },
          "hovermode": "closest",
          "mapbox": {
           "style": "light"
          },
          "paper_bgcolor": "white",
          "plot_bgcolor": "#E5ECF6",
          "polar": {
           "angularaxis": {
            "gridcolor": "white",
            "linecolor": "white",
            "ticks": ""
           },
           "bgcolor": "#E5ECF6",
           "radialaxis": {
            "gridcolor": "white",
            "linecolor": "white",
            "ticks": ""
           }
          },
          "scene": {
           "xaxis": {
            "backgroundcolor": "#E5ECF6",
            "gridcolor": "white",
            "gridwidth": 2,
            "linecolor": "white",
            "showbackground": true,
            "ticks": "",
            "zerolinecolor": "white"
           },
           "yaxis": {
            "backgroundcolor": "#E5ECF6",
            "gridcolor": "white",
            "gridwidth": 2,
            "linecolor": "white",
            "showbackground": true,
            "ticks": "",
            "zerolinecolor": "white"
           },
           "zaxis": {
            "backgroundcolor": "#E5ECF6",
            "gridcolor": "white",
            "gridwidth": 2,
            "linecolor": "white",
            "showbackground": true,
            "ticks": "",
            "zerolinecolor": "white"
           }
          },
          "shapedefaults": {
           "line": {
            "color": "#2a3f5f"
           }
          },
          "ternary": {
           "aaxis": {
            "gridcolor": "white",
            "linecolor": "white",
            "ticks": ""
           },
           "baxis": {
            "gridcolor": "white",
            "linecolor": "white",
            "ticks": ""
           },
           "bgcolor": "#E5ECF6",
           "caxis": {
            "gridcolor": "white",
            "linecolor": "white",
            "ticks": ""
           }
          },
          "title": {
           "x": 0.05
          },
          "xaxis": {
           "automargin": true,
           "gridcolor": "white",
           "linecolor": "white",
           "ticks": "",
           "title": {
            "standoff": 15
           },
           "zerolinecolor": "white",
           "zerolinewidth": 2
          },
          "yaxis": {
           "automargin": true,
           "gridcolor": "white",
           "linecolor": "white",
           "ticks": "",
           "title": {
            "standoff": 15
           },
           "zerolinecolor": "white",
           "zerolinewidth": 2
          }
         }
        },
        "title": {
         "text": "Variables Numéricas"
        },
        "width": 500,
        "xaxis": {
         "anchor": "y",
         "domain": [
          0,
          1
         ]
        },
        "xaxis2": {
         "anchor": "y2",
         "domain": [
          0,
          1
         ]
        },
        "xaxis3": {
         "anchor": "y3",
         "domain": [
          0,
          1
         ]
        },
        "xaxis4": {
         "anchor": "y4",
         "domain": [
          0,
          1
         ]
        },
        "yaxis": {
         "anchor": "x",
         "domain": [
          0.84375,
          1
         ]
        },
        "yaxis2": {
         "anchor": "x2",
         "domain": [
          0.5625,
          0.71875
         ]
        },
        "yaxis3": {
         "anchor": "x3",
         "domain": [
          0.28125,
          0.4375
         ]
        },
        "yaxis4": {
         "anchor": "x4",
         "domain": [
          0,
          0.15625
         ]
        }
       }
      }
     },
     "metadata": {},
     "output_type": "display_data"
    }
   ],
   "source": [
    "numerical_columns_boxplot = [\n",
    "    'Age', 'Income', 'TAX', 'Previous_sales'\n",
    "    ]\n",
    "\n",
    "fig = make_subplots(rows=4, cols=1, subplot_titles=numerical_columns_boxplot)\n",
    "row, col = 1, 1\n",
    "for i in range(len(numerical_columns_boxplot)):\n",
    "    column = numerical_columns_boxplot[i]\n",
    "    helper_funtions.dataviz_structure_numerical(column, fig, df, row, col)\n",
    "    row += 1\n",
    "fig.update_layout(height=2000, width=500, title_text='Variables Numéricas')\n",
    "fig.show()"
   ]
  },
  {
   "cell_type": "markdown",
   "metadata": {},
   "source": [
    "Observaciones:\n",
    "1. Pese a la existencia de compras negativas en el conjunto de datos (a ajustar en el procesamiento) se evidencia una asimetría positiva.\n",
    "2. El número de intentos de contacto realizados por el cliente cuenta con una asimetría positiva.\n",
    "3. Se evidencian puntos pico a determinadas horas del día.\n",
    "4. Existen valores atípicos que deben ser considerados durante la etapa de procesamiento de datos."
   ]
  },
  {
   "cell_type": "markdown",
   "metadata": {},
   "source": [
    "# Univariate analysis"
   ]
  },
  {
   "cell_type": "code",
   "execution_count": 13,
   "metadata": {},
   "outputs": [
    {
     "data": {
      "application/vnd.plotly.v1+json": {
       "config": {
        "plotlyServerURL": "https://plot.ly"
       },
       "data": [
        {
         "hovertemplate": "Age=%{x}<br>conversion_rate=%{y}<extra></extra>",
         "legendgroup": "",
         "line": {
          "color": "#636efa",
          "dash": "solid"
         },
         "marker": {
          "symbol": "circle"
         },
         "mode": "lines",
         "name": "",
         "orientation": "v",
         "showlegend": false,
         "type": "scatter",
         "x": [
          18,
          19,
          20,
          21,
          22,
          23,
          24,
          25,
          26,
          27,
          28,
          29,
          30,
          31,
          32,
          33,
          34,
          35,
          36,
          37,
          38,
          39,
          40,
          41,
          42,
          43,
          44,
          45,
          46,
          47,
          48,
          49,
          50,
          51,
          52,
          53,
          54,
          55,
          56,
          57,
          58,
          59,
          60,
          61,
          62,
          63,
          64
         ],
         "xaxis": "x",
         "y": [
          33.33333333333333,
          33.33333333333333,
          10,
          25,
          13.333333333333334,
          20,
          26.666666666666668,
          18.181818181818183,
          20,
          6.666666666666667,
          23.809523809523807,
          25,
          26.923076923076923,
          29.411764705882355,
          29.411764705882355,
          50,
          20,
          36.36363636363637,
          25,
          47.05882352941176,
          40,
          38.88888888888889,
          36.206896551724135,
          15.789473684210526,
          38.88888888888889,
          21.73913043478261,
          63.63636363636363,
          28.57142857142857,
          43.47826086956522,
          22.22222222222222,
          21.428571428571427,
          44.11764705882353,
          34.78260869565217,
          36.36363636363637,
          25,
          66.66666666666666,
          42.857142857142854,
          81.25,
          42.10526315789473,
          29.629629629629626,
          28.57142857142857,
          26.666666666666668,
          47.05882352941176,
          0,
          42.857142857142854,
          20,
          40
         ],
         "yaxis": "y"
        }
       ],
       "layout": {
        "legend": {
         "tracegroupgap": 0
        },
        "template": {
         "data": {
          "bar": [
           {
            "error_x": {
             "color": "#2a3f5f"
            },
            "error_y": {
             "color": "#2a3f5f"
            },
            "marker": {
             "line": {
              "color": "#E5ECF6",
              "width": 0.5
             },
             "pattern": {
              "fillmode": "overlay",
              "size": 10,
              "solidity": 0.2
             }
            },
            "type": "bar"
           }
          ],
          "barpolar": [
           {
            "marker": {
             "line": {
              "color": "#E5ECF6",
              "width": 0.5
             },
             "pattern": {
              "fillmode": "overlay",
              "size": 10,
              "solidity": 0.2
             }
            },
            "type": "barpolar"
           }
          ],
          "carpet": [
           {
            "aaxis": {
             "endlinecolor": "#2a3f5f",
             "gridcolor": "white",
             "linecolor": "white",
             "minorgridcolor": "white",
             "startlinecolor": "#2a3f5f"
            },
            "baxis": {
             "endlinecolor": "#2a3f5f",
             "gridcolor": "white",
             "linecolor": "white",
             "minorgridcolor": "white",
             "startlinecolor": "#2a3f5f"
            },
            "type": "carpet"
           }
          ],
          "choropleth": [
           {
            "colorbar": {
             "outlinewidth": 0,
             "ticks": ""
            },
            "type": "choropleth"
           }
          ],
          "contour": [
           {
            "colorbar": {
             "outlinewidth": 0,
             "ticks": ""
            },
            "colorscale": [
             [
              0,
              "#0d0887"
             ],
             [
              0.1111111111111111,
              "#46039f"
             ],
             [
              0.2222222222222222,
              "#7201a8"
             ],
             [
              0.3333333333333333,
              "#9c179e"
             ],
             [
              0.4444444444444444,
              "#bd3786"
             ],
             [
              0.5555555555555556,
              "#d8576b"
             ],
             [
              0.6666666666666666,
              "#ed7953"
             ],
             [
              0.7777777777777778,
              "#fb9f3a"
             ],
             [
              0.8888888888888888,
              "#fdca26"
             ],
             [
              1,
              "#f0f921"
             ]
            ],
            "type": "contour"
           }
          ],
          "contourcarpet": [
           {
            "colorbar": {
             "outlinewidth": 0,
             "ticks": ""
            },
            "type": "contourcarpet"
           }
          ],
          "heatmap": [
           {
            "colorbar": {
             "outlinewidth": 0,
             "ticks": ""
            },
            "colorscale": [
             [
              0,
              "#0d0887"
             ],
             [
              0.1111111111111111,
              "#46039f"
             ],
             [
              0.2222222222222222,
              "#7201a8"
             ],
             [
              0.3333333333333333,
              "#9c179e"
             ],
             [
              0.4444444444444444,
              "#bd3786"
             ],
             [
              0.5555555555555556,
              "#d8576b"
             ],
             [
              0.6666666666666666,
              "#ed7953"
             ],
             [
              0.7777777777777778,
              "#fb9f3a"
             ],
             [
              0.8888888888888888,
              "#fdca26"
             ],
             [
              1,
              "#f0f921"
             ]
            ],
            "type": "heatmap"
           }
          ],
          "heatmapgl": [
           {
            "colorbar": {
             "outlinewidth": 0,
             "ticks": ""
            },
            "colorscale": [
             [
              0,
              "#0d0887"
             ],
             [
              0.1111111111111111,
              "#46039f"
             ],
             [
              0.2222222222222222,
              "#7201a8"
             ],
             [
              0.3333333333333333,
              "#9c179e"
             ],
             [
              0.4444444444444444,
              "#bd3786"
             ],
             [
              0.5555555555555556,
              "#d8576b"
             ],
             [
              0.6666666666666666,
              "#ed7953"
             ],
             [
              0.7777777777777778,
              "#fb9f3a"
             ],
             [
              0.8888888888888888,
              "#fdca26"
             ],
             [
              1,
              "#f0f921"
             ]
            ],
            "type": "heatmapgl"
           }
          ],
          "histogram": [
           {
            "marker": {
             "pattern": {
              "fillmode": "overlay",
              "size": 10,
              "solidity": 0.2
             }
            },
            "type": "histogram"
           }
          ],
          "histogram2d": [
           {
            "colorbar": {
             "outlinewidth": 0,
             "ticks": ""
            },
            "colorscale": [
             [
              0,
              "#0d0887"
             ],
             [
              0.1111111111111111,
              "#46039f"
             ],
             [
              0.2222222222222222,
              "#7201a8"
             ],
             [
              0.3333333333333333,
              "#9c179e"
             ],
             [
              0.4444444444444444,
              "#bd3786"
             ],
             [
              0.5555555555555556,
              "#d8576b"
             ],
             [
              0.6666666666666666,
              "#ed7953"
             ],
             [
              0.7777777777777778,
              "#fb9f3a"
             ],
             [
              0.8888888888888888,
              "#fdca26"
             ],
             [
              1,
              "#f0f921"
             ]
            ],
            "type": "histogram2d"
           }
          ],
          "histogram2dcontour": [
           {
            "colorbar": {
             "outlinewidth": 0,
             "ticks": ""
            },
            "colorscale": [
             [
              0,
              "#0d0887"
             ],
             [
              0.1111111111111111,
              "#46039f"
             ],
             [
              0.2222222222222222,
              "#7201a8"
             ],
             [
              0.3333333333333333,
              "#9c179e"
             ],
             [
              0.4444444444444444,
              "#bd3786"
             ],
             [
              0.5555555555555556,
              "#d8576b"
             ],
             [
              0.6666666666666666,
              "#ed7953"
             ],
             [
              0.7777777777777778,
              "#fb9f3a"
             ],
             [
              0.8888888888888888,
              "#fdca26"
             ],
             [
              1,
              "#f0f921"
             ]
            ],
            "type": "histogram2dcontour"
           }
          ],
          "mesh3d": [
           {
            "colorbar": {
             "outlinewidth": 0,
             "ticks": ""
            },
            "type": "mesh3d"
           }
          ],
          "parcoords": [
           {
            "line": {
             "colorbar": {
              "outlinewidth": 0,
              "ticks": ""
             }
            },
            "type": "parcoords"
           }
          ],
          "pie": [
           {
            "automargin": true,
            "type": "pie"
           }
          ],
          "scatter": [
           {
            "fillpattern": {
             "fillmode": "overlay",
             "size": 10,
             "solidity": 0.2
            },
            "type": "scatter"
           }
          ],
          "scatter3d": [
           {
            "line": {
             "colorbar": {
              "outlinewidth": 0,
              "ticks": ""
             }
            },
            "marker": {
             "colorbar": {
              "outlinewidth": 0,
              "ticks": ""
             }
            },
            "type": "scatter3d"
           }
          ],
          "scattercarpet": [
           {
            "marker": {
             "colorbar": {
              "outlinewidth": 0,
              "ticks": ""
             }
            },
            "type": "scattercarpet"
           }
          ],
          "scattergeo": [
           {
            "marker": {
             "colorbar": {
              "outlinewidth": 0,
              "ticks": ""
             }
            },
            "type": "scattergeo"
           }
          ],
          "scattergl": [
           {
            "marker": {
             "colorbar": {
              "outlinewidth": 0,
              "ticks": ""
             }
            },
            "type": "scattergl"
           }
          ],
          "scattermapbox": [
           {
            "marker": {
             "colorbar": {
              "outlinewidth": 0,
              "ticks": ""
             }
            },
            "type": "scattermapbox"
           }
          ],
          "scatterpolar": [
           {
            "marker": {
             "colorbar": {
              "outlinewidth": 0,
              "ticks": ""
             }
            },
            "type": "scatterpolar"
           }
          ],
          "scatterpolargl": [
           {
            "marker": {
             "colorbar": {
              "outlinewidth": 0,
              "ticks": ""
             }
            },
            "type": "scatterpolargl"
           }
          ],
          "scatterternary": [
           {
            "marker": {
             "colorbar": {
              "outlinewidth": 0,
              "ticks": ""
             }
            },
            "type": "scatterternary"
           }
          ],
          "surface": [
           {
            "colorbar": {
             "outlinewidth": 0,
             "ticks": ""
            },
            "colorscale": [
             [
              0,
              "#0d0887"
             ],
             [
              0.1111111111111111,
              "#46039f"
             ],
             [
              0.2222222222222222,
              "#7201a8"
             ],
             [
              0.3333333333333333,
              "#9c179e"
             ],
             [
              0.4444444444444444,
              "#bd3786"
             ],
             [
              0.5555555555555556,
              "#d8576b"
             ],
             [
              0.6666666666666666,
              "#ed7953"
             ],
             [
              0.7777777777777778,
              "#fb9f3a"
             ],
             [
              0.8888888888888888,
              "#fdca26"
             ],
             [
              1,
              "#f0f921"
             ]
            ],
            "type": "surface"
           }
          ],
          "table": [
           {
            "cells": {
             "fill": {
              "color": "#EBF0F8"
             },
             "line": {
              "color": "white"
             }
            },
            "header": {
             "fill": {
              "color": "#C8D4E3"
             },
             "line": {
              "color": "white"
             }
            },
            "type": "table"
           }
          ]
         },
         "layout": {
          "annotationdefaults": {
           "arrowcolor": "#2a3f5f",
           "arrowhead": 0,
           "arrowwidth": 1
          },
          "autotypenumbers": "strict",
          "coloraxis": {
           "colorbar": {
            "outlinewidth": 0,
            "ticks": ""
           }
          },
          "colorscale": {
           "diverging": [
            [
             0,
             "#8e0152"
            ],
            [
             0.1,
             "#c51b7d"
            ],
            [
             0.2,
             "#de77ae"
            ],
            [
             0.3,
             "#f1b6da"
            ],
            [
             0.4,
             "#fde0ef"
            ],
            [
             0.5,
             "#f7f7f7"
            ],
            [
             0.6,
             "#e6f5d0"
            ],
            [
             0.7,
             "#b8e186"
            ],
            [
             0.8,
             "#7fbc41"
            ],
            [
             0.9,
             "#4d9221"
            ],
            [
             1,
             "#276419"
            ]
           ],
           "sequential": [
            [
             0,
             "#0d0887"
            ],
            [
             0.1111111111111111,
             "#46039f"
            ],
            [
             0.2222222222222222,
             "#7201a8"
            ],
            [
             0.3333333333333333,
             "#9c179e"
            ],
            [
             0.4444444444444444,
             "#bd3786"
            ],
            [
             0.5555555555555556,
             "#d8576b"
            ],
            [
             0.6666666666666666,
             "#ed7953"
            ],
            [
             0.7777777777777778,
             "#fb9f3a"
            ],
            [
             0.8888888888888888,
             "#fdca26"
            ],
            [
             1,
             "#f0f921"
            ]
           ],
           "sequentialminus": [
            [
             0,
             "#0d0887"
            ],
            [
             0.1111111111111111,
             "#46039f"
            ],
            [
             0.2222222222222222,
             "#7201a8"
            ],
            [
             0.3333333333333333,
             "#9c179e"
            ],
            [
             0.4444444444444444,
             "#bd3786"
            ],
            [
             0.5555555555555556,
             "#d8576b"
            ],
            [
             0.6666666666666666,
             "#ed7953"
            ],
            [
             0.7777777777777778,
             "#fb9f3a"
            ],
            [
             0.8888888888888888,
             "#fdca26"
            ],
            [
             1,
             "#f0f921"
            ]
           ]
          },
          "colorway": [
           "#636efa",
           "#EF553B",
           "#00cc96",
           "#ab63fa",
           "#FFA15A",
           "#19d3f3",
           "#FF6692",
           "#B6E880",
           "#FF97FF",
           "#FECB52"
          ],
          "font": {
           "color": "#2a3f5f"
          },
          "geo": {
           "bgcolor": "white",
           "lakecolor": "white",
           "landcolor": "#E5ECF6",
           "showlakes": true,
           "showland": true,
           "subunitcolor": "white"
          },
          "hoverlabel": {
           "align": "left"
          },
          "hovermode": "closest",
          "mapbox": {
           "style": "light"
          },
          "paper_bgcolor": "white",
          "plot_bgcolor": "#E5ECF6",
          "polar": {
           "angularaxis": {
            "gridcolor": "white",
            "linecolor": "white",
            "ticks": ""
           },
           "bgcolor": "#E5ECF6",
           "radialaxis": {
            "gridcolor": "white",
            "linecolor": "white",
            "ticks": ""
           }
          },
          "scene": {
           "xaxis": {
            "backgroundcolor": "#E5ECF6",
            "gridcolor": "white",
            "gridwidth": 2,
            "linecolor": "white",
            "showbackground": true,
            "ticks": "",
            "zerolinecolor": "white"
           },
           "yaxis": {
            "backgroundcolor": "#E5ECF6",
            "gridcolor": "white",
            "gridwidth": 2,
            "linecolor": "white",
            "showbackground": true,
            "ticks": "",
            "zerolinecolor": "white"
           },
           "zaxis": {
            "backgroundcolor": "#E5ECF6",
            "gridcolor": "white",
            "gridwidth": 2,
            "linecolor": "white",
            "showbackground": true,
            "ticks": "",
            "zerolinecolor": "white"
           }
          },
          "shapedefaults": {
           "line": {
            "color": "#2a3f5f"
           }
          },
          "ternary": {
           "aaxis": {
            "gridcolor": "white",
            "linecolor": "white",
            "ticks": ""
           },
           "baxis": {
            "gridcolor": "white",
            "linecolor": "white",
            "ticks": ""
           },
           "bgcolor": "#E5ECF6",
           "caxis": {
            "gridcolor": "white",
            "linecolor": "white",
            "ticks": ""
           }
          },
          "title": {
           "x": 0.05
          },
          "xaxis": {
           "automargin": true,
           "gridcolor": "white",
           "linecolor": "white",
           "ticks": "",
           "title": {
            "standoff": 15
           },
           "zerolinecolor": "white",
           "zerolinewidth": 2
          },
          "yaxis": {
           "automargin": true,
           "gridcolor": "white",
           "linecolor": "white",
           "ticks": "",
           "title": {
            "standoff": 15
           },
           "zerolinecolor": "white",
           "zerolinewidth": 2
          }
         }
        },
        "title": {
         "text": "Tasa de conversión para la variable \"Age\""
        },
        "xaxis": {
         "anchor": "y",
         "domain": [
          0,
          1
         ],
         "title": {
          "text": "Age"
         }
        },
        "yaxis": {
         "anchor": "x",
         "domain": [
          0,
          1
         ],
         "title": {
          "text": "conversion_rate"
         }
        }
       }
      }
     },
     "metadata": {},
     "output_type": "display_data"
    },
    {
     "data": {
      "application/vnd.plotly.v1+json": {
       "config": {
        "plotlyServerURL": "https://plot.ly"
       },
       "data": [
        {
         "alignmentgroup": "True",
         "hovertemplate": "groups_ages=%{x}<br>conversion_rate=%{y}<extra></extra>",
         "legendgroup": "",
         "marker": {
          "color": "#636efa",
          "pattern": {
           "shape": ""
          }
         },
         "name": "",
         "offsetgroup": "",
         "orientation": "v",
         "showlegend": false,
         "textposition": "auto",
         "type": "bar",
         "x": [
          "18-20",
          "20-30",
          "31-40",
          "41-50",
          "51-60",
          ">60"
         ],
         "xaxis": "x",
         "y": [
          21.052631578947366,
          20.809248554913296,
          34.46601941747573,
          33.50253807106599,
          41.39784946236559,
          25
         ],
         "yaxis": "y"
        }
       ],
       "layout": {
        "barmode": "relative",
        "legend": {
         "tracegroupgap": 0
        },
        "template": {
         "data": {
          "bar": [
           {
            "error_x": {
             "color": "#2a3f5f"
            },
            "error_y": {
             "color": "#2a3f5f"
            },
            "marker": {
             "line": {
              "color": "#E5ECF6",
              "width": 0.5
             },
             "pattern": {
              "fillmode": "overlay",
              "size": 10,
              "solidity": 0.2
             }
            },
            "type": "bar"
           }
          ],
          "barpolar": [
           {
            "marker": {
             "line": {
              "color": "#E5ECF6",
              "width": 0.5
             },
             "pattern": {
              "fillmode": "overlay",
              "size": 10,
              "solidity": 0.2
             }
            },
            "type": "barpolar"
           }
          ],
          "carpet": [
           {
            "aaxis": {
             "endlinecolor": "#2a3f5f",
             "gridcolor": "white",
             "linecolor": "white",
             "minorgridcolor": "white",
             "startlinecolor": "#2a3f5f"
            },
            "baxis": {
             "endlinecolor": "#2a3f5f",
             "gridcolor": "white",
             "linecolor": "white",
             "minorgridcolor": "white",
             "startlinecolor": "#2a3f5f"
            },
            "type": "carpet"
           }
          ],
          "choropleth": [
           {
            "colorbar": {
             "outlinewidth": 0,
             "ticks": ""
            },
            "type": "choropleth"
           }
          ],
          "contour": [
           {
            "colorbar": {
             "outlinewidth": 0,
             "ticks": ""
            },
            "colorscale": [
             [
              0,
              "#0d0887"
             ],
             [
              0.1111111111111111,
              "#46039f"
             ],
             [
              0.2222222222222222,
              "#7201a8"
             ],
             [
              0.3333333333333333,
              "#9c179e"
             ],
             [
              0.4444444444444444,
              "#bd3786"
             ],
             [
              0.5555555555555556,
              "#d8576b"
             ],
             [
              0.6666666666666666,
              "#ed7953"
             ],
             [
              0.7777777777777778,
              "#fb9f3a"
             ],
             [
              0.8888888888888888,
              "#fdca26"
             ],
             [
              1,
              "#f0f921"
             ]
            ],
            "type": "contour"
           }
          ],
          "contourcarpet": [
           {
            "colorbar": {
             "outlinewidth": 0,
             "ticks": ""
            },
            "type": "contourcarpet"
           }
          ],
          "heatmap": [
           {
            "colorbar": {
             "outlinewidth": 0,
             "ticks": ""
            },
            "colorscale": [
             [
              0,
              "#0d0887"
             ],
             [
              0.1111111111111111,
              "#46039f"
             ],
             [
              0.2222222222222222,
              "#7201a8"
             ],
             [
              0.3333333333333333,
              "#9c179e"
             ],
             [
              0.4444444444444444,
              "#bd3786"
             ],
             [
              0.5555555555555556,
              "#d8576b"
             ],
             [
              0.6666666666666666,
              "#ed7953"
             ],
             [
              0.7777777777777778,
              "#fb9f3a"
             ],
             [
              0.8888888888888888,
              "#fdca26"
             ],
             [
              1,
              "#f0f921"
             ]
            ],
            "type": "heatmap"
           }
          ],
          "heatmapgl": [
           {
            "colorbar": {
             "outlinewidth": 0,
             "ticks": ""
            },
            "colorscale": [
             [
              0,
              "#0d0887"
             ],
             [
              0.1111111111111111,
              "#46039f"
             ],
             [
              0.2222222222222222,
              "#7201a8"
             ],
             [
              0.3333333333333333,
              "#9c179e"
             ],
             [
              0.4444444444444444,
              "#bd3786"
             ],
             [
              0.5555555555555556,
              "#d8576b"
             ],
             [
              0.6666666666666666,
              "#ed7953"
             ],
             [
              0.7777777777777778,
              "#fb9f3a"
             ],
             [
              0.8888888888888888,
              "#fdca26"
             ],
             [
              1,
              "#f0f921"
             ]
            ],
            "type": "heatmapgl"
           }
          ],
          "histogram": [
           {
            "marker": {
             "pattern": {
              "fillmode": "overlay",
              "size": 10,
              "solidity": 0.2
             }
            },
            "type": "histogram"
           }
          ],
          "histogram2d": [
           {
            "colorbar": {
             "outlinewidth": 0,
             "ticks": ""
            },
            "colorscale": [
             [
              0,
              "#0d0887"
             ],
             [
              0.1111111111111111,
              "#46039f"
             ],
             [
              0.2222222222222222,
              "#7201a8"
             ],
             [
              0.3333333333333333,
              "#9c179e"
             ],
             [
              0.4444444444444444,
              "#bd3786"
             ],
             [
              0.5555555555555556,
              "#d8576b"
             ],
             [
              0.6666666666666666,
              "#ed7953"
             ],
             [
              0.7777777777777778,
              "#fb9f3a"
             ],
             [
              0.8888888888888888,
              "#fdca26"
             ],
             [
              1,
              "#f0f921"
             ]
            ],
            "type": "histogram2d"
           }
          ],
          "histogram2dcontour": [
           {
            "colorbar": {
             "outlinewidth": 0,
             "ticks": ""
            },
            "colorscale": [
             [
              0,
              "#0d0887"
             ],
             [
              0.1111111111111111,
              "#46039f"
             ],
             [
              0.2222222222222222,
              "#7201a8"
             ],
             [
              0.3333333333333333,
              "#9c179e"
             ],
             [
              0.4444444444444444,
              "#bd3786"
             ],
             [
              0.5555555555555556,
              "#d8576b"
             ],
             [
              0.6666666666666666,
              "#ed7953"
             ],
             [
              0.7777777777777778,
              "#fb9f3a"
             ],
             [
              0.8888888888888888,
              "#fdca26"
             ],
             [
              1,
              "#f0f921"
             ]
            ],
            "type": "histogram2dcontour"
           }
          ],
          "mesh3d": [
           {
            "colorbar": {
             "outlinewidth": 0,
             "ticks": ""
            },
            "type": "mesh3d"
           }
          ],
          "parcoords": [
           {
            "line": {
             "colorbar": {
              "outlinewidth": 0,
              "ticks": ""
             }
            },
            "type": "parcoords"
           }
          ],
          "pie": [
           {
            "automargin": true,
            "type": "pie"
           }
          ],
          "scatter": [
           {
            "fillpattern": {
             "fillmode": "overlay",
             "size": 10,
             "solidity": 0.2
            },
            "type": "scatter"
           }
          ],
          "scatter3d": [
           {
            "line": {
             "colorbar": {
              "outlinewidth": 0,
              "ticks": ""
             }
            },
            "marker": {
             "colorbar": {
              "outlinewidth": 0,
              "ticks": ""
             }
            },
            "type": "scatter3d"
           }
          ],
          "scattercarpet": [
           {
            "marker": {
             "colorbar": {
              "outlinewidth": 0,
              "ticks": ""
             }
            },
            "type": "scattercarpet"
           }
          ],
          "scattergeo": [
           {
            "marker": {
             "colorbar": {
              "outlinewidth": 0,
              "ticks": ""
             }
            },
            "type": "scattergeo"
           }
          ],
          "scattergl": [
           {
            "marker": {
             "colorbar": {
              "outlinewidth": 0,
              "ticks": ""
             }
            },
            "type": "scattergl"
           }
          ],
          "scattermapbox": [
           {
            "marker": {
             "colorbar": {
              "outlinewidth": 0,
              "ticks": ""
             }
            },
            "type": "scattermapbox"
           }
          ],
          "scatterpolar": [
           {
            "marker": {
             "colorbar": {
              "outlinewidth": 0,
              "ticks": ""
             }
            },
            "type": "scatterpolar"
           }
          ],
          "scatterpolargl": [
           {
            "marker": {
             "colorbar": {
              "outlinewidth": 0,
              "ticks": ""
             }
            },
            "type": "scatterpolargl"
           }
          ],
          "scatterternary": [
           {
            "marker": {
             "colorbar": {
              "outlinewidth": 0,
              "ticks": ""
             }
            },
            "type": "scatterternary"
           }
          ],
          "surface": [
           {
            "colorbar": {
             "outlinewidth": 0,
             "ticks": ""
            },
            "colorscale": [
             [
              0,
              "#0d0887"
             ],
             [
              0.1111111111111111,
              "#46039f"
             ],
             [
              0.2222222222222222,
              "#7201a8"
             ],
             [
              0.3333333333333333,
              "#9c179e"
             ],
             [
              0.4444444444444444,
              "#bd3786"
             ],
             [
              0.5555555555555556,
              "#d8576b"
             ],
             [
              0.6666666666666666,
              "#ed7953"
             ],
             [
              0.7777777777777778,
              "#fb9f3a"
             ],
             [
              0.8888888888888888,
              "#fdca26"
             ],
             [
              1,
              "#f0f921"
             ]
            ],
            "type": "surface"
           }
          ],
          "table": [
           {
            "cells": {
             "fill": {
              "color": "#EBF0F8"
             },
             "line": {
              "color": "white"
             }
            },
            "header": {
             "fill": {
              "color": "#C8D4E3"
             },
             "line": {
              "color": "white"
             }
            },
            "type": "table"
           }
          ]
         },
         "layout": {
          "annotationdefaults": {
           "arrowcolor": "#2a3f5f",
           "arrowhead": 0,
           "arrowwidth": 1
          },
          "autotypenumbers": "strict",
          "coloraxis": {
           "colorbar": {
            "outlinewidth": 0,
            "ticks": ""
           }
          },
          "colorscale": {
           "diverging": [
            [
             0,
             "#8e0152"
            ],
            [
             0.1,
             "#c51b7d"
            ],
            [
             0.2,
             "#de77ae"
            ],
            [
             0.3,
             "#f1b6da"
            ],
            [
             0.4,
             "#fde0ef"
            ],
            [
             0.5,
             "#f7f7f7"
            ],
            [
             0.6,
             "#e6f5d0"
            ],
            [
             0.7,
             "#b8e186"
            ],
            [
             0.8,
             "#7fbc41"
            ],
            [
             0.9,
             "#4d9221"
            ],
            [
             1,
             "#276419"
            ]
           ],
           "sequential": [
            [
             0,
             "#0d0887"
            ],
            [
             0.1111111111111111,
             "#46039f"
            ],
            [
             0.2222222222222222,
             "#7201a8"
            ],
            [
             0.3333333333333333,
             "#9c179e"
            ],
            [
             0.4444444444444444,
             "#bd3786"
            ],
            [
             0.5555555555555556,
             "#d8576b"
            ],
            [
             0.6666666666666666,
             "#ed7953"
            ],
            [
             0.7777777777777778,
             "#fb9f3a"
            ],
            [
             0.8888888888888888,
             "#fdca26"
            ],
            [
             1,
             "#f0f921"
            ]
           ],
           "sequentialminus": [
            [
             0,
             "#0d0887"
            ],
            [
             0.1111111111111111,
             "#46039f"
            ],
            [
             0.2222222222222222,
             "#7201a8"
            ],
            [
             0.3333333333333333,
             "#9c179e"
            ],
            [
             0.4444444444444444,
             "#bd3786"
            ],
            [
             0.5555555555555556,
             "#d8576b"
            ],
            [
             0.6666666666666666,
             "#ed7953"
            ],
            [
             0.7777777777777778,
             "#fb9f3a"
            ],
            [
             0.8888888888888888,
             "#fdca26"
            ],
            [
             1,
             "#f0f921"
            ]
           ]
          },
          "colorway": [
           "#636efa",
           "#EF553B",
           "#00cc96",
           "#ab63fa",
           "#FFA15A",
           "#19d3f3",
           "#FF6692",
           "#B6E880",
           "#FF97FF",
           "#FECB52"
          ],
          "font": {
           "color": "#2a3f5f"
          },
          "geo": {
           "bgcolor": "white",
           "lakecolor": "white",
           "landcolor": "#E5ECF6",
           "showlakes": true,
           "showland": true,
           "subunitcolor": "white"
          },
          "hoverlabel": {
           "align": "left"
          },
          "hovermode": "closest",
          "mapbox": {
           "style": "light"
          },
          "paper_bgcolor": "white",
          "plot_bgcolor": "#E5ECF6",
          "polar": {
           "angularaxis": {
            "gridcolor": "white",
            "linecolor": "white",
            "ticks": ""
           },
           "bgcolor": "#E5ECF6",
           "radialaxis": {
            "gridcolor": "white",
            "linecolor": "white",
            "ticks": ""
           }
          },
          "scene": {
           "xaxis": {
            "backgroundcolor": "#E5ECF6",
            "gridcolor": "white",
            "gridwidth": 2,
            "linecolor": "white",
            "showbackground": true,
            "ticks": "",
            "zerolinecolor": "white"
           },
           "yaxis": {
            "backgroundcolor": "#E5ECF6",
            "gridcolor": "white",
            "gridwidth": 2,
            "linecolor": "white",
            "showbackground": true,
            "ticks": "",
            "zerolinecolor": "white"
           },
           "zaxis": {
            "backgroundcolor": "#E5ECF6",
            "gridcolor": "white",
            "gridwidth": 2,
            "linecolor": "white",
            "showbackground": true,
            "ticks": "",
            "zerolinecolor": "white"
           }
          },
          "shapedefaults": {
           "line": {
            "color": "#2a3f5f"
           }
          },
          "ternary": {
           "aaxis": {
            "gridcolor": "white",
            "linecolor": "white",
            "ticks": ""
           },
           "baxis": {
            "gridcolor": "white",
            "linecolor": "white",
            "ticks": ""
           },
           "bgcolor": "#E5ECF6",
           "caxis": {
            "gridcolor": "white",
            "linecolor": "white",
            "ticks": ""
           }
          },
          "title": {
           "x": 0.05
          },
          "xaxis": {
           "automargin": true,
           "gridcolor": "white",
           "linecolor": "white",
           "ticks": "",
           "title": {
            "standoff": 15
           },
           "zerolinecolor": "white",
           "zerolinewidth": 2
          },
          "yaxis": {
           "automargin": true,
           "gridcolor": "white",
           "linecolor": "white",
           "ticks": "",
           "title": {
            "standoff": 15
           },
           "zerolinecolor": "white",
           "zerolinewidth": 2
          }
         }
        },
        "title": {
         "text": "Tasa de conversión para la variable \"groups_ages\""
        },
        "xaxis": {
         "anchor": "y",
         "domain": [
          0,
          1
         ],
         "title": {
          "text": "groups_ages"
         }
        },
        "yaxis": {
         "anchor": "x",
         "domain": [
          0,
          1
         ],
         "title": {
          "text": "conversion_rate"
         }
        }
       }
      }
     },
     "metadata": {},
     "output_type": "display_data"
    }
   ],
   "source": [
    "helper_funtions.conversion_rate_chart('Age', 'Sales', df)\n",
    "\n",
    "df.loc[:,'groups_ages'] = '18-20'\n",
    "df.loc[df['Age']>60,'groups_ages'] = '>60'\n",
    "df.loc[(df['Age']>50)&(df['Age']<=60), 'groups_ages'] = '51-60'\n",
    "df.loc[(df['Age']>40)&(df['Age']<=50), 'groups_ages'] = '41-50'\n",
    "df.loc[(df['Age']>30)&(df['Age']<=40), 'groups_ages'] = '31-40'\n",
    "df.loc[(df['Age']>20)&(df['Age']<=30), 'groups_ages'] = '20-30'\n",
    "\n",
    "# Y grafiquemos la tasa de conversión para esta nueva columna\n",
    "helper_funtions.conversion_rate_chart('groups_ages', 'Sales', df, type='bar')"
   ]
  },
  {
   "cell_type": "code",
   "execution_count": 14,
   "metadata": {},
   "outputs": [
    {
     "data": {
      "application/vnd.plotly.v1+json": {
       "config": {
        "plotlyServerURL": "https://plot.ly"
       },
       "data": [
        {
         "alignmentgroup": "True",
         "hovertemplate": "groups_income=%{x}<br>conversion_rate=%{y}<extra></extra>",
         "legendgroup": "",
         "marker": {
          "color": "#636efa",
          "pattern": {
           "shape": ""
          }
         },
         "name": "",
         "offsetgroup": "",
         "orientation": "v",
         "showlegend": false,
         "textposition": "auto",
         "type": "bar",
         "x": [
          "0-40K",
          "40K-80K",
          "80K-100K",
          ">100K"
         ],
         "xaxis": "x",
         "y": [
          12.4031007751938,
          34.11513859275053,
          40.375586854460096,
          0
         ],
         "yaxis": "y"
        }
       ],
       "layout": {
        "barmode": "relative",
        "legend": {
         "tracegroupgap": 0
        },
        "template": {
         "data": {
          "bar": [
           {
            "error_x": {
             "color": "#2a3f5f"
            },
            "error_y": {
             "color": "#2a3f5f"
            },
            "marker": {
             "line": {
              "color": "#E5ECF6",
              "width": 0.5
             },
             "pattern": {
              "fillmode": "overlay",
              "size": 10,
              "solidity": 0.2
             }
            },
            "type": "bar"
           }
          ],
          "barpolar": [
           {
            "marker": {
             "line": {
              "color": "#E5ECF6",
              "width": 0.5
             },
             "pattern": {
              "fillmode": "overlay",
              "size": 10,
              "solidity": 0.2
             }
            },
            "type": "barpolar"
           }
          ],
          "carpet": [
           {
            "aaxis": {
             "endlinecolor": "#2a3f5f",
             "gridcolor": "white",
             "linecolor": "white",
             "minorgridcolor": "white",
             "startlinecolor": "#2a3f5f"
            },
            "baxis": {
             "endlinecolor": "#2a3f5f",
             "gridcolor": "white",
             "linecolor": "white",
             "minorgridcolor": "white",
             "startlinecolor": "#2a3f5f"
            },
            "type": "carpet"
           }
          ],
          "choropleth": [
           {
            "colorbar": {
             "outlinewidth": 0,
             "ticks": ""
            },
            "type": "choropleth"
           }
          ],
          "contour": [
           {
            "colorbar": {
             "outlinewidth": 0,
             "ticks": ""
            },
            "colorscale": [
             [
              0,
              "#0d0887"
             ],
             [
              0.1111111111111111,
              "#46039f"
             ],
             [
              0.2222222222222222,
              "#7201a8"
             ],
             [
              0.3333333333333333,
              "#9c179e"
             ],
             [
              0.4444444444444444,
              "#bd3786"
             ],
             [
              0.5555555555555556,
              "#d8576b"
             ],
             [
              0.6666666666666666,
              "#ed7953"
             ],
             [
              0.7777777777777778,
              "#fb9f3a"
             ],
             [
              0.8888888888888888,
              "#fdca26"
             ],
             [
              1,
              "#f0f921"
             ]
            ],
            "type": "contour"
           }
          ],
          "contourcarpet": [
           {
            "colorbar": {
             "outlinewidth": 0,
             "ticks": ""
            },
            "type": "contourcarpet"
           }
          ],
          "heatmap": [
           {
            "colorbar": {
             "outlinewidth": 0,
             "ticks": ""
            },
            "colorscale": [
             [
              0,
              "#0d0887"
             ],
             [
              0.1111111111111111,
              "#46039f"
             ],
             [
              0.2222222222222222,
              "#7201a8"
             ],
             [
              0.3333333333333333,
              "#9c179e"
             ],
             [
              0.4444444444444444,
              "#bd3786"
             ],
             [
              0.5555555555555556,
              "#d8576b"
             ],
             [
              0.6666666666666666,
              "#ed7953"
             ],
             [
              0.7777777777777778,
              "#fb9f3a"
             ],
             [
              0.8888888888888888,
              "#fdca26"
             ],
             [
              1,
              "#f0f921"
             ]
            ],
            "type": "heatmap"
           }
          ],
          "heatmapgl": [
           {
            "colorbar": {
             "outlinewidth": 0,
             "ticks": ""
            },
            "colorscale": [
             [
              0,
              "#0d0887"
             ],
             [
              0.1111111111111111,
              "#46039f"
             ],
             [
              0.2222222222222222,
              "#7201a8"
             ],
             [
              0.3333333333333333,
              "#9c179e"
             ],
             [
              0.4444444444444444,
              "#bd3786"
             ],
             [
              0.5555555555555556,
              "#d8576b"
             ],
             [
              0.6666666666666666,
              "#ed7953"
             ],
             [
              0.7777777777777778,
              "#fb9f3a"
             ],
             [
              0.8888888888888888,
              "#fdca26"
             ],
             [
              1,
              "#f0f921"
             ]
            ],
            "type": "heatmapgl"
           }
          ],
          "histogram": [
           {
            "marker": {
             "pattern": {
              "fillmode": "overlay",
              "size": 10,
              "solidity": 0.2
             }
            },
            "type": "histogram"
           }
          ],
          "histogram2d": [
           {
            "colorbar": {
             "outlinewidth": 0,
             "ticks": ""
            },
            "colorscale": [
             [
              0,
              "#0d0887"
             ],
             [
              0.1111111111111111,
              "#46039f"
             ],
             [
              0.2222222222222222,
              "#7201a8"
             ],
             [
              0.3333333333333333,
              "#9c179e"
             ],
             [
              0.4444444444444444,
              "#bd3786"
             ],
             [
              0.5555555555555556,
              "#d8576b"
             ],
             [
              0.6666666666666666,
              "#ed7953"
             ],
             [
              0.7777777777777778,
              "#fb9f3a"
             ],
             [
              0.8888888888888888,
              "#fdca26"
             ],
             [
              1,
              "#f0f921"
             ]
            ],
            "type": "histogram2d"
           }
          ],
          "histogram2dcontour": [
           {
            "colorbar": {
             "outlinewidth": 0,
             "ticks": ""
            },
            "colorscale": [
             [
              0,
              "#0d0887"
             ],
             [
              0.1111111111111111,
              "#46039f"
             ],
             [
              0.2222222222222222,
              "#7201a8"
             ],
             [
              0.3333333333333333,
              "#9c179e"
             ],
             [
              0.4444444444444444,
              "#bd3786"
             ],
             [
              0.5555555555555556,
              "#d8576b"
             ],
             [
              0.6666666666666666,
              "#ed7953"
             ],
             [
              0.7777777777777778,
              "#fb9f3a"
             ],
             [
              0.8888888888888888,
              "#fdca26"
             ],
             [
              1,
              "#f0f921"
             ]
            ],
            "type": "histogram2dcontour"
           }
          ],
          "mesh3d": [
           {
            "colorbar": {
             "outlinewidth": 0,
             "ticks": ""
            },
            "type": "mesh3d"
           }
          ],
          "parcoords": [
           {
            "line": {
             "colorbar": {
              "outlinewidth": 0,
              "ticks": ""
             }
            },
            "type": "parcoords"
           }
          ],
          "pie": [
           {
            "automargin": true,
            "type": "pie"
           }
          ],
          "scatter": [
           {
            "fillpattern": {
             "fillmode": "overlay",
             "size": 10,
             "solidity": 0.2
            },
            "type": "scatter"
           }
          ],
          "scatter3d": [
           {
            "line": {
             "colorbar": {
              "outlinewidth": 0,
              "ticks": ""
             }
            },
            "marker": {
             "colorbar": {
              "outlinewidth": 0,
              "ticks": ""
             }
            },
            "type": "scatter3d"
           }
          ],
          "scattercarpet": [
           {
            "marker": {
             "colorbar": {
              "outlinewidth": 0,
              "ticks": ""
             }
            },
            "type": "scattercarpet"
           }
          ],
          "scattergeo": [
           {
            "marker": {
             "colorbar": {
              "outlinewidth": 0,
              "ticks": ""
             }
            },
            "type": "scattergeo"
           }
          ],
          "scattergl": [
           {
            "marker": {
             "colorbar": {
              "outlinewidth": 0,
              "ticks": ""
             }
            },
            "type": "scattergl"
           }
          ],
          "scattermapbox": [
           {
            "marker": {
             "colorbar": {
              "outlinewidth": 0,
              "ticks": ""
             }
            },
            "type": "scattermapbox"
           }
          ],
          "scatterpolar": [
           {
            "marker": {
             "colorbar": {
              "outlinewidth": 0,
              "ticks": ""
             }
            },
            "type": "scatterpolar"
           }
          ],
          "scatterpolargl": [
           {
            "marker": {
             "colorbar": {
              "outlinewidth": 0,
              "ticks": ""
             }
            },
            "type": "scatterpolargl"
           }
          ],
          "scatterternary": [
           {
            "marker": {
             "colorbar": {
              "outlinewidth": 0,
              "ticks": ""
             }
            },
            "type": "scatterternary"
           }
          ],
          "surface": [
           {
            "colorbar": {
             "outlinewidth": 0,
             "ticks": ""
            },
            "colorscale": [
             [
              0,
              "#0d0887"
             ],
             [
              0.1111111111111111,
              "#46039f"
             ],
             [
              0.2222222222222222,
              "#7201a8"
             ],
             [
              0.3333333333333333,
              "#9c179e"
             ],
             [
              0.4444444444444444,
              "#bd3786"
             ],
             [
              0.5555555555555556,
              "#d8576b"
             ],
             [
              0.6666666666666666,
              "#ed7953"
             ],
             [
              0.7777777777777778,
              "#fb9f3a"
             ],
             [
              0.8888888888888888,
              "#fdca26"
             ],
             [
              1,
              "#f0f921"
             ]
            ],
            "type": "surface"
           }
          ],
          "table": [
           {
            "cells": {
             "fill": {
              "color": "#EBF0F8"
             },
             "line": {
              "color": "white"
             }
            },
            "header": {
             "fill": {
              "color": "#C8D4E3"
             },
             "line": {
              "color": "white"
             }
            },
            "type": "table"
           }
          ]
         },
         "layout": {
          "annotationdefaults": {
           "arrowcolor": "#2a3f5f",
           "arrowhead": 0,
           "arrowwidth": 1
          },
          "autotypenumbers": "strict",
          "coloraxis": {
           "colorbar": {
            "outlinewidth": 0,
            "ticks": ""
           }
          },
          "colorscale": {
           "diverging": [
            [
             0,
             "#8e0152"
            ],
            [
             0.1,
             "#c51b7d"
            ],
            [
             0.2,
             "#de77ae"
            ],
            [
             0.3,
             "#f1b6da"
            ],
            [
             0.4,
             "#fde0ef"
            ],
            [
             0.5,
             "#f7f7f7"
            ],
            [
             0.6,
             "#e6f5d0"
            ],
            [
             0.7,
             "#b8e186"
            ],
            [
             0.8,
             "#7fbc41"
            ],
            [
             0.9,
             "#4d9221"
            ],
            [
             1,
             "#276419"
            ]
           ],
           "sequential": [
            [
             0,
             "#0d0887"
            ],
            [
             0.1111111111111111,
             "#46039f"
            ],
            [
             0.2222222222222222,
             "#7201a8"
            ],
            [
             0.3333333333333333,
             "#9c179e"
            ],
            [
             0.4444444444444444,
             "#bd3786"
            ],
            [
             0.5555555555555556,
             "#d8576b"
            ],
            [
             0.6666666666666666,
             "#ed7953"
            ],
            [
             0.7777777777777778,
             "#fb9f3a"
            ],
            [
             0.8888888888888888,
             "#fdca26"
            ],
            [
             1,
             "#f0f921"
            ]
           ],
           "sequentialminus": [
            [
             0,
             "#0d0887"
            ],
            [
             0.1111111111111111,
             "#46039f"
            ],
            [
             0.2222222222222222,
             "#7201a8"
            ],
            [
             0.3333333333333333,
             "#9c179e"
            ],
            [
             0.4444444444444444,
             "#bd3786"
            ],
            [
             0.5555555555555556,
             "#d8576b"
            ],
            [
             0.6666666666666666,
             "#ed7953"
            ],
            [
             0.7777777777777778,
             "#fb9f3a"
            ],
            [
             0.8888888888888888,
             "#fdca26"
            ],
            [
             1,
             "#f0f921"
            ]
           ]
          },
          "colorway": [
           "#636efa",
           "#EF553B",
           "#00cc96",
           "#ab63fa",
           "#FFA15A",
           "#19d3f3",
           "#FF6692",
           "#B6E880",
           "#FF97FF",
           "#FECB52"
          ],
          "font": {
           "color": "#2a3f5f"
          },
          "geo": {
           "bgcolor": "white",
           "lakecolor": "white",
           "landcolor": "#E5ECF6",
           "showlakes": true,
           "showland": true,
           "subunitcolor": "white"
          },
          "hoverlabel": {
           "align": "left"
          },
          "hovermode": "closest",
          "mapbox": {
           "style": "light"
          },
          "paper_bgcolor": "white",
          "plot_bgcolor": "#E5ECF6",
          "polar": {
           "angularaxis": {
            "gridcolor": "white",
            "linecolor": "white",
            "ticks": ""
           },
           "bgcolor": "#E5ECF6",
           "radialaxis": {
            "gridcolor": "white",
            "linecolor": "white",
            "ticks": ""
           }
          },
          "scene": {
           "xaxis": {
            "backgroundcolor": "#E5ECF6",
            "gridcolor": "white",
            "gridwidth": 2,
            "linecolor": "white",
            "showbackground": true,
            "ticks": "",
            "zerolinecolor": "white"
           },
           "yaxis": {
            "backgroundcolor": "#E5ECF6",
            "gridcolor": "white",
            "gridwidth": 2,
            "linecolor": "white",
            "showbackground": true,
            "ticks": "",
            "zerolinecolor": "white"
           },
           "zaxis": {
            "backgroundcolor": "#E5ECF6",
            "gridcolor": "white",
            "gridwidth": 2,
            "linecolor": "white",
            "showbackground": true,
            "ticks": "",
            "zerolinecolor": "white"
           }
          },
          "shapedefaults": {
           "line": {
            "color": "#2a3f5f"
           }
          },
          "ternary": {
           "aaxis": {
            "gridcolor": "white",
            "linecolor": "white",
            "ticks": ""
           },
           "baxis": {
            "gridcolor": "white",
            "linecolor": "white",
            "ticks": ""
           },
           "bgcolor": "#E5ECF6",
           "caxis": {
            "gridcolor": "white",
            "linecolor": "white",
            "ticks": ""
           }
          },
          "title": {
           "x": 0.05
          },
          "xaxis": {
           "automargin": true,
           "gridcolor": "white",
           "linecolor": "white",
           "ticks": "",
           "title": {
            "standoff": 15
           },
           "zerolinecolor": "white",
           "zerolinewidth": 2
          },
          "yaxis": {
           "automargin": true,
           "gridcolor": "white",
           "linecolor": "white",
           "ticks": "",
           "title": {
            "standoff": 15
           },
           "zerolinecolor": "white",
           "zerolinewidth": 2
          }
         }
        },
        "title": {
         "text": "Tasa de conversión para la variable \"groups_income\""
        },
        "xaxis": {
         "anchor": "y",
         "domain": [
          0,
          1
         ],
         "title": {
          "text": "groups_income"
         }
        },
        "yaxis": {
         "anchor": "x",
         "domain": [
          0,
          1
         ],
         "title": {
          "text": "conversion_rate"
         }
        }
       }
      }
     },
     "metadata": {},
     "output_type": "display_data"
    }
   ],
   "source": [
    "# helper_funtions.conversion_rate_chart('Income', 'Sales', df, type='scatter')\n",
    "\n",
    "df.loc[:,'groups_income'] = \"<0\"\n",
    "df.loc[(df['Income']>=0) & (df['Income']<40000),'groups_income'] = \"0-40K\"\n",
    "# df.loc[(df['Income']>=20000) & (df['Income']<40000),'groups_income'] = \"20K-40K\"\n",
    "df.loc[(df['Income']>=40000) & (df['Income']<80000),'groups_income'] = \"40K-80K\"\n",
    "# df.loc[(df['Income']>=60000) & (df['Income']<80000),'groups_income'] = \"60K-80K\"\n",
    "df.loc[(df['Income']>=80000) & (df['Income']<100000),'groups_income'] = \"80K-100K\"\n",
    "df.loc[df['Income']>=100000,'groups_income'] = \">100K\"\n",
    "\n",
    "helper_funtions.conversion_rate_chart('groups_income', 'Sales', df, type='bar')"
   ]
  },
  {
   "cell_type": "code",
   "execution_count": 15,
   "metadata": {},
   "outputs": [
    {
     "data": {
      "application/vnd.plotly.v1+json": {
       "config": {
        "plotlyServerURL": "https://plot.ly"
       },
       "data": [
        {
         "hovertemplate": "Previous_sales=%{x}<br>conversion_rate=%{y}<extra></extra>",
         "legendgroup": "",
         "line": {
          "color": "#636efa",
          "dash": "solid"
         },
         "marker": {
          "symbol": "circle"
         },
         "mode": "lines",
         "name": "",
         "orientation": "v",
         "showlegend": false,
         "type": "scatter",
         "x": [
          0,
          1,
          2,
          3,
          4,
          5,
          6,
          7,
          8,
          9,
          10,
          20,
          25
         ],
         "xaxis": "x",
         "y": [
          0.2967359050445104,
          43.87755102040816,
          62.92134831460674,
          56.25,
          66.26506024096386,
          47.61904761904761,
          62.5,
          41.17647058823529,
          35.294117647058826,
          20,
          83.33333333333334,
          0,
          100
         ],
         "yaxis": "y"
        }
       ],
       "layout": {
        "legend": {
         "tracegroupgap": 0
        },
        "template": {
         "data": {
          "bar": [
           {
            "error_x": {
             "color": "#2a3f5f"
            },
            "error_y": {
             "color": "#2a3f5f"
            },
            "marker": {
             "line": {
              "color": "#E5ECF6",
              "width": 0.5
             },
             "pattern": {
              "fillmode": "overlay",
              "size": 10,
              "solidity": 0.2
             }
            },
            "type": "bar"
           }
          ],
          "barpolar": [
           {
            "marker": {
             "line": {
              "color": "#E5ECF6",
              "width": 0.5
             },
             "pattern": {
              "fillmode": "overlay",
              "size": 10,
              "solidity": 0.2
             }
            },
            "type": "barpolar"
           }
          ],
          "carpet": [
           {
            "aaxis": {
             "endlinecolor": "#2a3f5f",
             "gridcolor": "white",
             "linecolor": "white",
             "minorgridcolor": "white",
             "startlinecolor": "#2a3f5f"
            },
            "baxis": {
             "endlinecolor": "#2a3f5f",
             "gridcolor": "white",
             "linecolor": "white",
             "minorgridcolor": "white",
             "startlinecolor": "#2a3f5f"
            },
            "type": "carpet"
           }
          ],
          "choropleth": [
           {
            "colorbar": {
             "outlinewidth": 0,
             "ticks": ""
            },
            "type": "choropleth"
           }
          ],
          "contour": [
           {
            "colorbar": {
             "outlinewidth": 0,
             "ticks": ""
            },
            "colorscale": [
             [
              0,
              "#0d0887"
             ],
             [
              0.1111111111111111,
              "#46039f"
             ],
             [
              0.2222222222222222,
              "#7201a8"
             ],
             [
              0.3333333333333333,
              "#9c179e"
             ],
             [
              0.4444444444444444,
              "#bd3786"
             ],
             [
              0.5555555555555556,
              "#d8576b"
             ],
             [
              0.6666666666666666,
              "#ed7953"
             ],
             [
              0.7777777777777778,
              "#fb9f3a"
             ],
             [
              0.8888888888888888,
              "#fdca26"
             ],
             [
              1,
              "#f0f921"
             ]
            ],
            "type": "contour"
           }
          ],
          "contourcarpet": [
           {
            "colorbar": {
             "outlinewidth": 0,
             "ticks": ""
            },
            "type": "contourcarpet"
           }
          ],
          "heatmap": [
           {
            "colorbar": {
             "outlinewidth": 0,
             "ticks": ""
            },
            "colorscale": [
             [
              0,
              "#0d0887"
             ],
             [
              0.1111111111111111,
              "#46039f"
             ],
             [
              0.2222222222222222,
              "#7201a8"
             ],
             [
              0.3333333333333333,
              "#9c179e"
             ],
             [
              0.4444444444444444,
              "#bd3786"
             ],
             [
              0.5555555555555556,
              "#d8576b"
             ],
             [
              0.6666666666666666,
              "#ed7953"
             ],
             [
              0.7777777777777778,
              "#fb9f3a"
             ],
             [
              0.8888888888888888,
              "#fdca26"
             ],
             [
              1,
              "#f0f921"
             ]
            ],
            "type": "heatmap"
           }
          ],
          "heatmapgl": [
           {
            "colorbar": {
             "outlinewidth": 0,
             "ticks": ""
            },
            "colorscale": [
             [
              0,
              "#0d0887"
             ],
             [
              0.1111111111111111,
              "#46039f"
             ],
             [
              0.2222222222222222,
              "#7201a8"
             ],
             [
              0.3333333333333333,
              "#9c179e"
             ],
             [
              0.4444444444444444,
              "#bd3786"
             ],
             [
              0.5555555555555556,
              "#d8576b"
             ],
             [
              0.6666666666666666,
              "#ed7953"
             ],
             [
              0.7777777777777778,
              "#fb9f3a"
             ],
             [
              0.8888888888888888,
              "#fdca26"
             ],
             [
              1,
              "#f0f921"
             ]
            ],
            "type": "heatmapgl"
           }
          ],
          "histogram": [
           {
            "marker": {
             "pattern": {
              "fillmode": "overlay",
              "size": 10,
              "solidity": 0.2
             }
            },
            "type": "histogram"
           }
          ],
          "histogram2d": [
           {
            "colorbar": {
             "outlinewidth": 0,
             "ticks": ""
            },
            "colorscale": [
             [
              0,
              "#0d0887"
             ],
             [
              0.1111111111111111,
              "#46039f"
             ],
             [
              0.2222222222222222,
              "#7201a8"
             ],
             [
              0.3333333333333333,
              "#9c179e"
             ],
             [
              0.4444444444444444,
              "#bd3786"
             ],
             [
              0.5555555555555556,
              "#d8576b"
             ],
             [
              0.6666666666666666,
              "#ed7953"
             ],
             [
              0.7777777777777778,
              "#fb9f3a"
             ],
             [
              0.8888888888888888,
              "#fdca26"
             ],
             [
              1,
              "#f0f921"
             ]
            ],
            "type": "histogram2d"
           }
          ],
          "histogram2dcontour": [
           {
            "colorbar": {
             "outlinewidth": 0,
             "ticks": ""
            },
            "colorscale": [
             [
              0,
              "#0d0887"
             ],
             [
              0.1111111111111111,
              "#46039f"
             ],
             [
              0.2222222222222222,
              "#7201a8"
             ],
             [
              0.3333333333333333,
              "#9c179e"
             ],
             [
              0.4444444444444444,
              "#bd3786"
             ],
             [
              0.5555555555555556,
              "#d8576b"
             ],
             [
              0.6666666666666666,
              "#ed7953"
             ],
             [
              0.7777777777777778,
              "#fb9f3a"
             ],
             [
              0.8888888888888888,
              "#fdca26"
             ],
             [
              1,
              "#f0f921"
             ]
            ],
            "type": "histogram2dcontour"
           }
          ],
          "mesh3d": [
           {
            "colorbar": {
             "outlinewidth": 0,
             "ticks": ""
            },
            "type": "mesh3d"
           }
          ],
          "parcoords": [
           {
            "line": {
             "colorbar": {
              "outlinewidth": 0,
              "ticks": ""
             }
            },
            "type": "parcoords"
           }
          ],
          "pie": [
           {
            "automargin": true,
            "type": "pie"
           }
          ],
          "scatter": [
           {
            "fillpattern": {
             "fillmode": "overlay",
             "size": 10,
             "solidity": 0.2
            },
            "type": "scatter"
           }
          ],
          "scatter3d": [
           {
            "line": {
             "colorbar": {
              "outlinewidth": 0,
              "ticks": ""
             }
            },
            "marker": {
             "colorbar": {
              "outlinewidth": 0,
              "ticks": ""
             }
            },
            "type": "scatter3d"
           }
          ],
          "scattercarpet": [
           {
            "marker": {
             "colorbar": {
              "outlinewidth": 0,
              "ticks": ""
             }
            },
            "type": "scattercarpet"
           }
          ],
          "scattergeo": [
           {
            "marker": {
             "colorbar": {
              "outlinewidth": 0,
              "ticks": ""
             }
            },
            "type": "scattergeo"
           }
          ],
          "scattergl": [
           {
            "marker": {
             "colorbar": {
              "outlinewidth": 0,
              "ticks": ""
             }
            },
            "type": "scattergl"
           }
          ],
          "scattermapbox": [
           {
            "marker": {
             "colorbar": {
              "outlinewidth": 0,
              "ticks": ""
             }
            },
            "type": "scattermapbox"
           }
          ],
          "scatterpolar": [
           {
            "marker": {
             "colorbar": {
              "outlinewidth": 0,
              "ticks": ""
             }
            },
            "type": "scatterpolar"
           }
          ],
          "scatterpolargl": [
           {
            "marker": {
             "colorbar": {
              "outlinewidth": 0,
              "ticks": ""
             }
            },
            "type": "scatterpolargl"
           }
          ],
          "scatterternary": [
           {
            "marker": {
             "colorbar": {
              "outlinewidth": 0,
              "ticks": ""
             }
            },
            "type": "scatterternary"
           }
          ],
          "surface": [
           {
            "colorbar": {
             "outlinewidth": 0,
             "ticks": ""
            },
            "colorscale": [
             [
              0,
              "#0d0887"
             ],
             [
              0.1111111111111111,
              "#46039f"
             ],
             [
              0.2222222222222222,
              "#7201a8"
             ],
             [
              0.3333333333333333,
              "#9c179e"
             ],
             [
              0.4444444444444444,
              "#bd3786"
             ],
             [
              0.5555555555555556,
              "#d8576b"
             ],
             [
              0.6666666666666666,
              "#ed7953"
             ],
             [
              0.7777777777777778,
              "#fb9f3a"
             ],
             [
              0.8888888888888888,
              "#fdca26"
             ],
             [
              1,
              "#f0f921"
             ]
            ],
            "type": "surface"
           }
          ],
          "table": [
           {
            "cells": {
             "fill": {
              "color": "#EBF0F8"
             },
             "line": {
              "color": "white"
             }
            },
            "header": {
             "fill": {
              "color": "#C8D4E3"
             },
             "line": {
              "color": "white"
             }
            },
            "type": "table"
           }
          ]
         },
         "layout": {
          "annotationdefaults": {
           "arrowcolor": "#2a3f5f",
           "arrowhead": 0,
           "arrowwidth": 1
          },
          "autotypenumbers": "strict",
          "coloraxis": {
           "colorbar": {
            "outlinewidth": 0,
            "ticks": ""
           }
          },
          "colorscale": {
           "diverging": [
            [
             0,
             "#8e0152"
            ],
            [
             0.1,
             "#c51b7d"
            ],
            [
             0.2,
             "#de77ae"
            ],
            [
             0.3,
             "#f1b6da"
            ],
            [
             0.4,
             "#fde0ef"
            ],
            [
             0.5,
             "#f7f7f7"
            ],
            [
             0.6,
             "#e6f5d0"
            ],
            [
             0.7,
             "#b8e186"
            ],
            [
             0.8,
             "#7fbc41"
            ],
            [
             0.9,
             "#4d9221"
            ],
            [
             1,
             "#276419"
            ]
           ],
           "sequential": [
            [
             0,
             "#0d0887"
            ],
            [
             0.1111111111111111,
             "#46039f"
            ],
            [
             0.2222222222222222,
             "#7201a8"
            ],
            [
             0.3333333333333333,
             "#9c179e"
            ],
            [
             0.4444444444444444,
             "#bd3786"
            ],
            [
             0.5555555555555556,
             "#d8576b"
            ],
            [
             0.6666666666666666,
             "#ed7953"
            ],
            [
             0.7777777777777778,
             "#fb9f3a"
            ],
            [
             0.8888888888888888,
             "#fdca26"
            ],
            [
             1,
             "#f0f921"
            ]
           ],
           "sequentialminus": [
            [
             0,
             "#0d0887"
            ],
            [
             0.1111111111111111,
             "#46039f"
            ],
            [
             0.2222222222222222,
             "#7201a8"
            ],
            [
             0.3333333333333333,
             "#9c179e"
            ],
            [
             0.4444444444444444,
             "#bd3786"
            ],
            [
             0.5555555555555556,
             "#d8576b"
            ],
            [
             0.6666666666666666,
             "#ed7953"
            ],
            [
             0.7777777777777778,
             "#fb9f3a"
            ],
            [
             0.8888888888888888,
             "#fdca26"
            ],
            [
             1,
             "#f0f921"
            ]
           ]
          },
          "colorway": [
           "#636efa",
           "#EF553B",
           "#00cc96",
           "#ab63fa",
           "#FFA15A",
           "#19d3f3",
           "#FF6692",
           "#B6E880",
           "#FF97FF",
           "#FECB52"
          ],
          "font": {
           "color": "#2a3f5f"
          },
          "geo": {
           "bgcolor": "white",
           "lakecolor": "white",
           "landcolor": "#E5ECF6",
           "showlakes": true,
           "showland": true,
           "subunitcolor": "white"
          },
          "hoverlabel": {
           "align": "left"
          },
          "hovermode": "closest",
          "mapbox": {
           "style": "light"
          },
          "paper_bgcolor": "white",
          "plot_bgcolor": "#E5ECF6",
          "polar": {
           "angularaxis": {
            "gridcolor": "white",
            "linecolor": "white",
            "ticks": ""
           },
           "bgcolor": "#E5ECF6",
           "radialaxis": {
            "gridcolor": "white",
            "linecolor": "white",
            "ticks": ""
           }
          },
          "scene": {
           "xaxis": {
            "backgroundcolor": "#E5ECF6",
            "gridcolor": "white",
            "gridwidth": 2,
            "linecolor": "white",
            "showbackground": true,
            "ticks": "",
            "zerolinecolor": "white"
           },
           "yaxis": {
            "backgroundcolor": "#E5ECF6",
            "gridcolor": "white",
            "gridwidth": 2,
            "linecolor": "white",
            "showbackground": true,
            "ticks": "",
            "zerolinecolor": "white"
           },
           "zaxis": {
            "backgroundcolor": "#E5ECF6",
            "gridcolor": "white",
            "gridwidth": 2,
            "linecolor": "white",
            "showbackground": true,
            "ticks": "",
            "zerolinecolor": "white"
           }
          },
          "shapedefaults": {
           "line": {
            "color": "#2a3f5f"
           }
          },
          "ternary": {
           "aaxis": {
            "gridcolor": "white",
            "linecolor": "white",
            "ticks": ""
           },
           "baxis": {
            "gridcolor": "white",
            "linecolor": "white",
            "ticks": ""
           },
           "bgcolor": "#E5ECF6",
           "caxis": {
            "gridcolor": "white",
            "linecolor": "white",
            "ticks": ""
           }
          },
          "title": {
           "x": 0.05
          },
          "xaxis": {
           "automargin": true,
           "gridcolor": "white",
           "linecolor": "white",
           "ticks": "",
           "title": {
            "standoff": 15
           },
           "zerolinecolor": "white",
           "zerolinewidth": 2
          },
          "yaxis": {
           "automargin": true,
           "gridcolor": "white",
           "linecolor": "white",
           "ticks": "",
           "title": {
            "standoff": 15
           },
           "zerolinecolor": "white",
           "zerolinewidth": 2
          }
         }
        },
        "title": {
         "text": "Tasa de conversión para la variable \"Previous_sales\""
        },
        "xaxis": {
         "anchor": "y",
         "domain": [
          0,
          1
         ],
         "title": {
          "text": "Previous_sales"
         }
        },
        "yaxis": {
         "anchor": "x",
         "domain": [
          0,
          1
         ],
         "title": {
          "text": "conversion_rate"
         }
        }
       }
      }
     },
     "metadata": {},
     "output_type": "display_data"
    }
   ],
   "source": [
    "helper_funtions.conversion_rate_chart('Previous_sales', 'Sales', df,)"
   ]
  },
  {
   "cell_type": "code",
   "execution_count": 16,
   "metadata": {},
   "outputs": [
    {
     "data": {
      "application/vnd.plotly.v1+json": {
       "config": {
        "plotlyServerURL": "https://plot.ly"
       },
       "data": [
        {
         "alignmentgroup": "True",
         "hovertemplate": "Contact_channel=%{x}<br>conversion_rate=%{y}<extra></extra>",
         "legendgroup": "",
         "marker": {
          "color": "#636efa",
          "pattern": {
           "shape": ""
          }
         },
         "name": "",
         "offsetgroup": "",
         "orientation": "v",
         "showlegend": false,
         "textposition": "auto",
         "type": "bar",
         "x": [
          "Email",
          "Online Chat",
          "Phone"
         ],
         "xaxis": "x",
         "y": [
          7.984790874524715,
          43.26530612244898,
          44.26229508196721
         ],
         "yaxis": "y"
        }
       ],
       "layout": {
        "barmode": "relative",
        "legend": {
         "tracegroupgap": 0
        },
        "template": {
         "data": {
          "bar": [
           {
            "error_x": {
             "color": "#2a3f5f"
            },
            "error_y": {
             "color": "#2a3f5f"
            },
            "marker": {
             "line": {
              "color": "#E5ECF6",
              "width": 0.5
             },
             "pattern": {
              "fillmode": "overlay",
              "size": 10,
              "solidity": 0.2
             }
            },
            "type": "bar"
           }
          ],
          "barpolar": [
           {
            "marker": {
             "line": {
              "color": "#E5ECF6",
              "width": 0.5
             },
             "pattern": {
              "fillmode": "overlay",
              "size": 10,
              "solidity": 0.2
             }
            },
            "type": "barpolar"
           }
          ],
          "carpet": [
           {
            "aaxis": {
             "endlinecolor": "#2a3f5f",
             "gridcolor": "white",
             "linecolor": "white",
             "minorgridcolor": "white",
             "startlinecolor": "#2a3f5f"
            },
            "baxis": {
             "endlinecolor": "#2a3f5f",
             "gridcolor": "white",
             "linecolor": "white",
             "minorgridcolor": "white",
             "startlinecolor": "#2a3f5f"
            },
            "type": "carpet"
           }
          ],
          "choropleth": [
           {
            "colorbar": {
             "outlinewidth": 0,
             "ticks": ""
            },
            "type": "choropleth"
           }
          ],
          "contour": [
           {
            "colorbar": {
             "outlinewidth": 0,
             "ticks": ""
            },
            "colorscale": [
             [
              0,
              "#0d0887"
             ],
             [
              0.1111111111111111,
              "#46039f"
             ],
             [
              0.2222222222222222,
              "#7201a8"
             ],
             [
              0.3333333333333333,
              "#9c179e"
             ],
             [
              0.4444444444444444,
              "#bd3786"
             ],
             [
              0.5555555555555556,
              "#d8576b"
             ],
             [
              0.6666666666666666,
              "#ed7953"
             ],
             [
              0.7777777777777778,
              "#fb9f3a"
             ],
             [
              0.8888888888888888,
              "#fdca26"
             ],
             [
              1,
              "#f0f921"
             ]
            ],
            "type": "contour"
           }
          ],
          "contourcarpet": [
           {
            "colorbar": {
             "outlinewidth": 0,
             "ticks": ""
            },
            "type": "contourcarpet"
           }
          ],
          "heatmap": [
           {
            "colorbar": {
             "outlinewidth": 0,
             "ticks": ""
            },
            "colorscale": [
             [
              0,
              "#0d0887"
             ],
             [
              0.1111111111111111,
              "#46039f"
             ],
             [
              0.2222222222222222,
              "#7201a8"
             ],
             [
              0.3333333333333333,
              "#9c179e"
             ],
             [
              0.4444444444444444,
              "#bd3786"
             ],
             [
              0.5555555555555556,
              "#d8576b"
             ],
             [
              0.6666666666666666,
              "#ed7953"
             ],
             [
              0.7777777777777778,
              "#fb9f3a"
             ],
             [
              0.8888888888888888,
              "#fdca26"
             ],
             [
              1,
              "#f0f921"
             ]
            ],
            "type": "heatmap"
           }
          ],
          "heatmapgl": [
           {
            "colorbar": {
             "outlinewidth": 0,
             "ticks": ""
            },
            "colorscale": [
             [
              0,
              "#0d0887"
             ],
             [
              0.1111111111111111,
              "#46039f"
             ],
             [
              0.2222222222222222,
              "#7201a8"
             ],
             [
              0.3333333333333333,
              "#9c179e"
             ],
             [
              0.4444444444444444,
              "#bd3786"
             ],
             [
              0.5555555555555556,
              "#d8576b"
             ],
             [
              0.6666666666666666,
              "#ed7953"
             ],
             [
              0.7777777777777778,
              "#fb9f3a"
             ],
             [
              0.8888888888888888,
              "#fdca26"
             ],
             [
              1,
              "#f0f921"
             ]
            ],
            "type": "heatmapgl"
           }
          ],
          "histogram": [
           {
            "marker": {
             "pattern": {
              "fillmode": "overlay",
              "size": 10,
              "solidity": 0.2
             }
            },
            "type": "histogram"
           }
          ],
          "histogram2d": [
           {
            "colorbar": {
             "outlinewidth": 0,
             "ticks": ""
            },
            "colorscale": [
             [
              0,
              "#0d0887"
             ],
             [
              0.1111111111111111,
              "#46039f"
             ],
             [
              0.2222222222222222,
              "#7201a8"
             ],
             [
              0.3333333333333333,
              "#9c179e"
             ],
             [
              0.4444444444444444,
              "#bd3786"
             ],
             [
              0.5555555555555556,
              "#d8576b"
             ],
             [
              0.6666666666666666,
              "#ed7953"
             ],
             [
              0.7777777777777778,
              "#fb9f3a"
             ],
             [
              0.8888888888888888,
              "#fdca26"
             ],
             [
              1,
              "#f0f921"
             ]
            ],
            "type": "histogram2d"
           }
          ],
          "histogram2dcontour": [
           {
            "colorbar": {
             "outlinewidth": 0,
             "ticks": ""
            },
            "colorscale": [
             [
              0,
              "#0d0887"
             ],
             [
              0.1111111111111111,
              "#46039f"
             ],
             [
              0.2222222222222222,
              "#7201a8"
             ],
             [
              0.3333333333333333,
              "#9c179e"
             ],
             [
              0.4444444444444444,
              "#bd3786"
             ],
             [
              0.5555555555555556,
              "#d8576b"
             ],
             [
              0.6666666666666666,
              "#ed7953"
             ],
             [
              0.7777777777777778,
              "#fb9f3a"
             ],
             [
              0.8888888888888888,
              "#fdca26"
             ],
             [
              1,
              "#f0f921"
             ]
            ],
            "type": "histogram2dcontour"
           }
          ],
          "mesh3d": [
           {
            "colorbar": {
             "outlinewidth": 0,
             "ticks": ""
            },
            "type": "mesh3d"
           }
          ],
          "parcoords": [
           {
            "line": {
             "colorbar": {
              "outlinewidth": 0,
              "ticks": ""
             }
            },
            "type": "parcoords"
           }
          ],
          "pie": [
           {
            "automargin": true,
            "type": "pie"
           }
          ],
          "scatter": [
           {
            "fillpattern": {
             "fillmode": "overlay",
             "size": 10,
             "solidity": 0.2
            },
            "type": "scatter"
           }
          ],
          "scatter3d": [
           {
            "line": {
             "colorbar": {
              "outlinewidth": 0,
              "ticks": ""
             }
            },
            "marker": {
             "colorbar": {
              "outlinewidth": 0,
              "ticks": ""
             }
            },
            "type": "scatter3d"
           }
          ],
          "scattercarpet": [
           {
            "marker": {
             "colorbar": {
              "outlinewidth": 0,
              "ticks": ""
             }
            },
            "type": "scattercarpet"
           }
          ],
          "scattergeo": [
           {
            "marker": {
             "colorbar": {
              "outlinewidth": 0,
              "ticks": ""
             }
            },
            "type": "scattergeo"
           }
          ],
          "scattergl": [
           {
            "marker": {
             "colorbar": {
              "outlinewidth": 0,
              "ticks": ""
             }
            },
            "type": "scattergl"
           }
          ],
          "scattermapbox": [
           {
            "marker": {
             "colorbar": {
              "outlinewidth": 0,
              "ticks": ""
             }
            },
            "type": "scattermapbox"
           }
          ],
          "scatterpolar": [
           {
            "marker": {
             "colorbar": {
              "outlinewidth": 0,
              "ticks": ""
             }
            },
            "type": "scatterpolar"
           }
          ],
          "scatterpolargl": [
           {
            "marker": {
             "colorbar": {
              "outlinewidth": 0,
              "ticks": ""
             }
            },
            "type": "scatterpolargl"
           }
          ],
          "scatterternary": [
           {
            "marker": {
             "colorbar": {
              "outlinewidth": 0,
              "ticks": ""
             }
            },
            "type": "scatterternary"
           }
          ],
          "surface": [
           {
            "colorbar": {
             "outlinewidth": 0,
             "ticks": ""
            },
            "colorscale": [
             [
              0,
              "#0d0887"
             ],
             [
              0.1111111111111111,
              "#46039f"
             ],
             [
              0.2222222222222222,
              "#7201a8"
             ],
             [
              0.3333333333333333,
              "#9c179e"
             ],
             [
              0.4444444444444444,
              "#bd3786"
             ],
             [
              0.5555555555555556,
              "#d8576b"
             ],
             [
              0.6666666666666666,
              "#ed7953"
             ],
             [
              0.7777777777777778,
              "#fb9f3a"
             ],
             [
              0.8888888888888888,
              "#fdca26"
             ],
             [
              1,
              "#f0f921"
             ]
            ],
            "type": "surface"
           }
          ],
          "table": [
           {
            "cells": {
             "fill": {
              "color": "#EBF0F8"
             },
             "line": {
              "color": "white"
             }
            },
            "header": {
             "fill": {
              "color": "#C8D4E3"
             },
             "line": {
              "color": "white"
             }
            },
            "type": "table"
           }
          ]
         },
         "layout": {
          "annotationdefaults": {
           "arrowcolor": "#2a3f5f",
           "arrowhead": 0,
           "arrowwidth": 1
          },
          "autotypenumbers": "strict",
          "coloraxis": {
           "colorbar": {
            "outlinewidth": 0,
            "ticks": ""
           }
          },
          "colorscale": {
           "diverging": [
            [
             0,
             "#8e0152"
            ],
            [
             0.1,
             "#c51b7d"
            ],
            [
             0.2,
             "#de77ae"
            ],
            [
             0.3,
             "#f1b6da"
            ],
            [
             0.4,
             "#fde0ef"
            ],
            [
             0.5,
             "#f7f7f7"
            ],
            [
             0.6,
             "#e6f5d0"
            ],
            [
             0.7,
             "#b8e186"
            ],
            [
             0.8,
             "#7fbc41"
            ],
            [
             0.9,
             "#4d9221"
            ],
            [
             1,
             "#276419"
            ]
           ],
           "sequential": [
            [
             0,
             "#0d0887"
            ],
            [
             0.1111111111111111,
             "#46039f"
            ],
            [
             0.2222222222222222,
             "#7201a8"
            ],
            [
             0.3333333333333333,
             "#9c179e"
            ],
            [
             0.4444444444444444,
             "#bd3786"
            ],
            [
             0.5555555555555556,
             "#d8576b"
            ],
            [
             0.6666666666666666,
             "#ed7953"
            ],
            [
             0.7777777777777778,
             "#fb9f3a"
            ],
            [
             0.8888888888888888,
             "#fdca26"
            ],
            [
             1,
             "#f0f921"
            ]
           ],
           "sequentialminus": [
            [
             0,
             "#0d0887"
            ],
            [
             0.1111111111111111,
             "#46039f"
            ],
            [
             0.2222222222222222,
             "#7201a8"
            ],
            [
             0.3333333333333333,
             "#9c179e"
            ],
            [
             0.4444444444444444,
             "#bd3786"
            ],
            [
             0.5555555555555556,
             "#d8576b"
            ],
            [
             0.6666666666666666,
             "#ed7953"
            ],
            [
             0.7777777777777778,
             "#fb9f3a"
            ],
            [
             0.8888888888888888,
             "#fdca26"
            ],
            [
             1,
             "#f0f921"
            ]
           ]
          },
          "colorway": [
           "#636efa",
           "#EF553B",
           "#00cc96",
           "#ab63fa",
           "#FFA15A",
           "#19d3f3",
           "#FF6692",
           "#B6E880",
           "#FF97FF",
           "#FECB52"
          ],
          "font": {
           "color": "#2a3f5f"
          },
          "geo": {
           "bgcolor": "white",
           "lakecolor": "white",
           "landcolor": "#E5ECF6",
           "showlakes": true,
           "showland": true,
           "subunitcolor": "white"
          },
          "hoverlabel": {
           "align": "left"
          },
          "hovermode": "closest",
          "mapbox": {
           "style": "light"
          },
          "paper_bgcolor": "white",
          "plot_bgcolor": "#E5ECF6",
          "polar": {
           "angularaxis": {
            "gridcolor": "white",
            "linecolor": "white",
            "ticks": ""
           },
           "bgcolor": "#E5ECF6",
           "radialaxis": {
            "gridcolor": "white",
            "linecolor": "white",
            "ticks": ""
           }
          },
          "scene": {
           "xaxis": {
            "backgroundcolor": "#E5ECF6",
            "gridcolor": "white",
            "gridwidth": 2,
            "linecolor": "white",
            "showbackground": true,
            "ticks": "",
            "zerolinecolor": "white"
           },
           "yaxis": {
            "backgroundcolor": "#E5ECF6",
            "gridcolor": "white",
            "gridwidth": 2,
            "linecolor": "white",
            "showbackground": true,
            "ticks": "",
            "zerolinecolor": "white"
           },
           "zaxis": {
            "backgroundcolor": "#E5ECF6",
            "gridcolor": "white",
            "gridwidth": 2,
            "linecolor": "white",
            "showbackground": true,
            "ticks": "",
            "zerolinecolor": "white"
           }
          },
          "shapedefaults": {
           "line": {
            "color": "#2a3f5f"
           }
          },
          "ternary": {
           "aaxis": {
            "gridcolor": "white",
            "linecolor": "white",
            "ticks": ""
           },
           "baxis": {
            "gridcolor": "white",
            "linecolor": "white",
            "ticks": ""
           },
           "bgcolor": "#E5ECF6",
           "caxis": {
            "gridcolor": "white",
            "linecolor": "white",
            "ticks": ""
           }
          },
          "title": {
           "x": 0.05
          },
          "xaxis": {
           "automargin": true,
           "gridcolor": "white",
           "linecolor": "white",
           "ticks": "",
           "title": {
            "standoff": 15
           },
           "zerolinecolor": "white",
           "zerolinewidth": 2
          },
          "yaxis": {
           "automargin": true,
           "gridcolor": "white",
           "linecolor": "white",
           "ticks": "",
           "title": {
            "standoff": 15
           },
           "zerolinecolor": "white",
           "zerolinewidth": 2
          }
         }
        },
        "title": {
         "text": "Tasa de conversión para la variable \"Contact_channel\""
        },
        "xaxis": {
         "anchor": "y",
         "domain": [
          0,
          1
         ],
         "title": {
          "text": "Contact_channel"
         }
        },
        "yaxis": {
         "anchor": "x",
         "domain": [
          0,
          1
         ],
         "title": {
          "text": "conversion_rate"
         }
        }
       }
      }
     },
     "metadata": {},
     "output_type": "display_data"
    },
    {
     "data": {
      "application/vnd.plotly.v1+json": {
       "config": {
        "plotlyServerURL": "https://plot.ly"
       },
       "data": [
        {
         "alignmentgroup": "True",
         "hovertemplate": "Satisfaction_score=%{x}<br>conversion_rate=%{y}<extra></extra>",
         "legendgroup": "",
         "marker": {
          "color": "#636efa",
          "pattern": {
           "shape": ""
          }
         },
         "name": "",
         "offsetgroup": "",
         "orientation": "v",
         "showlegend": false,
         "textposition": "auto",
         "type": "bar",
         "x": [
          1,
          2,
          3,
          4,
          5
         ],
         "xaxis": "x",
         "y": [
          29.55665024630542,
          19.36936936936937,
          26.351351351351347,
          46.55172413793103,
          53.2258064516129
         ],
         "yaxis": "y"
        }
       ],
       "layout": {
        "barmode": "relative",
        "legend": {
         "tracegroupgap": 0
        },
        "template": {
         "data": {
          "bar": [
           {
            "error_x": {
             "color": "#2a3f5f"
            },
            "error_y": {
             "color": "#2a3f5f"
            },
            "marker": {
             "line": {
              "color": "#E5ECF6",
              "width": 0.5
             },
             "pattern": {
              "fillmode": "overlay",
              "size": 10,
              "solidity": 0.2
             }
            },
            "type": "bar"
           }
          ],
          "barpolar": [
           {
            "marker": {
             "line": {
              "color": "#E5ECF6",
              "width": 0.5
             },
             "pattern": {
              "fillmode": "overlay",
              "size": 10,
              "solidity": 0.2
             }
            },
            "type": "barpolar"
           }
          ],
          "carpet": [
           {
            "aaxis": {
             "endlinecolor": "#2a3f5f",
             "gridcolor": "white",
             "linecolor": "white",
             "minorgridcolor": "white",
             "startlinecolor": "#2a3f5f"
            },
            "baxis": {
             "endlinecolor": "#2a3f5f",
             "gridcolor": "white",
             "linecolor": "white",
             "minorgridcolor": "white",
             "startlinecolor": "#2a3f5f"
            },
            "type": "carpet"
           }
          ],
          "choropleth": [
           {
            "colorbar": {
             "outlinewidth": 0,
             "ticks": ""
            },
            "type": "choropleth"
           }
          ],
          "contour": [
           {
            "colorbar": {
             "outlinewidth": 0,
             "ticks": ""
            },
            "colorscale": [
             [
              0,
              "#0d0887"
             ],
             [
              0.1111111111111111,
              "#46039f"
             ],
             [
              0.2222222222222222,
              "#7201a8"
             ],
             [
              0.3333333333333333,
              "#9c179e"
             ],
             [
              0.4444444444444444,
              "#bd3786"
             ],
             [
              0.5555555555555556,
              "#d8576b"
             ],
             [
              0.6666666666666666,
              "#ed7953"
             ],
             [
              0.7777777777777778,
              "#fb9f3a"
             ],
             [
              0.8888888888888888,
              "#fdca26"
             ],
             [
              1,
              "#f0f921"
             ]
            ],
            "type": "contour"
           }
          ],
          "contourcarpet": [
           {
            "colorbar": {
             "outlinewidth": 0,
             "ticks": ""
            },
            "type": "contourcarpet"
           }
          ],
          "heatmap": [
           {
            "colorbar": {
             "outlinewidth": 0,
             "ticks": ""
            },
            "colorscale": [
             [
              0,
              "#0d0887"
             ],
             [
              0.1111111111111111,
              "#46039f"
             ],
             [
              0.2222222222222222,
              "#7201a8"
             ],
             [
              0.3333333333333333,
              "#9c179e"
             ],
             [
              0.4444444444444444,
              "#bd3786"
             ],
             [
              0.5555555555555556,
              "#d8576b"
             ],
             [
              0.6666666666666666,
              "#ed7953"
             ],
             [
              0.7777777777777778,
              "#fb9f3a"
             ],
             [
              0.8888888888888888,
              "#fdca26"
             ],
             [
              1,
              "#f0f921"
             ]
            ],
            "type": "heatmap"
           }
          ],
          "heatmapgl": [
           {
            "colorbar": {
             "outlinewidth": 0,
             "ticks": ""
            },
            "colorscale": [
             [
              0,
              "#0d0887"
             ],
             [
              0.1111111111111111,
              "#46039f"
             ],
             [
              0.2222222222222222,
              "#7201a8"
             ],
             [
              0.3333333333333333,
              "#9c179e"
             ],
             [
              0.4444444444444444,
              "#bd3786"
             ],
             [
              0.5555555555555556,
              "#d8576b"
             ],
             [
              0.6666666666666666,
              "#ed7953"
             ],
             [
              0.7777777777777778,
              "#fb9f3a"
             ],
             [
              0.8888888888888888,
              "#fdca26"
             ],
             [
              1,
              "#f0f921"
             ]
            ],
            "type": "heatmapgl"
           }
          ],
          "histogram": [
           {
            "marker": {
             "pattern": {
              "fillmode": "overlay",
              "size": 10,
              "solidity": 0.2
             }
            },
            "type": "histogram"
           }
          ],
          "histogram2d": [
           {
            "colorbar": {
             "outlinewidth": 0,
             "ticks": ""
            },
            "colorscale": [
             [
              0,
              "#0d0887"
             ],
             [
              0.1111111111111111,
              "#46039f"
             ],
             [
              0.2222222222222222,
              "#7201a8"
             ],
             [
              0.3333333333333333,
              "#9c179e"
             ],
             [
              0.4444444444444444,
              "#bd3786"
             ],
             [
              0.5555555555555556,
              "#d8576b"
             ],
             [
              0.6666666666666666,
              "#ed7953"
             ],
             [
              0.7777777777777778,
              "#fb9f3a"
             ],
             [
              0.8888888888888888,
              "#fdca26"
             ],
             [
              1,
              "#f0f921"
             ]
            ],
            "type": "histogram2d"
           }
          ],
          "histogram2dcontour": [
           {
            "colorbar": {
             "outlinewidth": 0,
             "ticks": ""
            },
            "colorscale": [
             [
              0,
              "#0d0887"
             ],
             [
              0.1111111111111111,
              "#46039f"
             ],
             [
              0.2222222222222222,
              "#7201a8"
             ],
             [
              0.3333333333333333,
              "#9c179e"
             ],
             [
              0.4444444444444444,
              "#bd3786"
             ],
             [
              0.5555555555555556,
              "#d8576b"
             ],
             [
              0.6666666666666666,
              "#ed7953"
             ],
             [
              0.7777777777777778,
              "#fb9f3a"
             ],
             [
              0.8888888888888888,
              "#fdca26"
             ],
             [
              1,
              "#f0f921"
             ]
            ],
            "type": "histogram2dcontour"
           }
          ],
          "mesh3d": [
           {
            "colorbar": {
             "outlinewidth": 0,
             "ticks": ""
            },
            "type": "mesh3d"
           }
          ],
          "parcoords": [
           {
            "line": {
             "colorbar": {
              "outlinewidth": 0,
              "ticks": ""
             }
            },
            "type": "parcoords"
           }
          ],
          "pie": [
           {
            "automargin": true,
            "type": "pie"
           }
          ],
          "scatter": [
           {
            "fillpattern": {
             "fillmode": "overlay",
             "size": 10,
             "solidity": 0.2
            },
            "type": "scatter"
           }
          ],
          "scatter3d": [
           {
            "line": {
             "colorbar": {
              "outlinewidth": 0,
              "ticks": ""
             }
            },
            "marker": {
             "colorbar": {
              "outlinewidth": 0,
              "ticks": ""
             }
            },
            "type": "scatter3d"
           }
          ],
          "scattercarpet": [
           {
            "marker": {
             "colorbar": {
              "outlinewidth": 0,
              "ticks": ""
             }
            },
            "type": "scattercarpet"
           }
          ],
          "scattergeo": [
           {
            "marker": {
             "colorbar": {
              "outlinewidth": 0,
              "ticks": ""
             }
            },
            "type": "scattergeo"
           }
          ],
          "scattergl": [
           {
            "marker": {
             "colorbar": {
              "outlinewidth": 0,
              "ticks": ""
             }
            },
            "type": "scattergl"
           }
          ],
          "scattermapbox": [
           {
            "marker": {
             "colorbar": {
              "outlinewidth": 0,
              "ticks": ""
             }
            },
            "type": "scattermapbox"
           }
          ],
          "scatterpolar": [
           {
            "marker": {
             "colorbar": {
              "outlinewidth": 0,
              "ticks": ""
             }
            },
            "type": "scatterpolar"
           }
          ],
          "scatterpolargl": [
           {
            "marker": {
             "colorbar": {
              "outlinewidth": 0,
              "ticks": ""
             }
            },
            "type": "scatterpolargl"
           }
          ],
          "scatterternary": [
           {
            "marker": {
             "colorbar": {
              "outlinewidth": 0,
              "ticks": ""
             }
            },
            "type": "scatterternary"
           }
          ],
          "surface": [
           {
            "colorbar": {
             "outlinewidth": 0,
             "ticks": ""
            },
            "colorscale": [
             [
              0,
              "#0d0887"
             ],
             [
              0.1111111111111111,
              "#46039f"
             ],
             [
              0.2222222222222222,
              "#7201a8"
             ],
             [
              0.3333333333333333,
              "#9c179e"
             ],
             [
              0.4444444444444444,
              "#bd3786"
             ],
             [
              0.5555555555555556,
              "#d8576b"
             ],
             [
              0.6666666666666666,
              "#ed7953"
             ],
             [
              0.7777777777777778,
              "#fb9f3a"
             ],
             [
              0.8888888888888888,
              "#fdca26"
             ],
             [
              1,
              "#f0f921"
             ]
            ],
            "type": "surface"
           }
          ],
          "table": [
           {
            "cells": {
             "fill": {
              "color": "#EBF0F8"
             },
             "line": {
              "color": "white"
             }
            },
            "header": {
             "fill": {
              "color": "#C8D4E3"
             },
             "line": {
              "color": "white"
             }
            },
            "type": "table"
           }
          ]
         },
         "layout": {
          "annotationdefaults": {
           "arrowcolor": "#2a3f5f",
           "arrowhead": 0,
           "arrowwidth": 1
          },
          "autotypenumbers": "strict",
          "coloraxis": {
           "colorbar": {
            "outlinewidth": 0,
            "ticks": ""
           }
          },
          "colorscale": {
           "diverging": [
            [
             0,
             "#8e0152"
            ],
            [
             0.1,
             "#c51b7d"
            ],
            [
             0.2,
             "#de77ae"
            ],
            [
             0.3,
             "#f1b6da"
            ],
            [
             0.4,
             "#fde0ef"
            ],
            [
             0.5,
             "#f7f7f7"
            ],
            [
             0.6,
             "#e6f5d0"
            ],
            [
             0.7,
             "#b8e186"
            ],
            [
             0.8,
             "#7fbc41"
            ],
            [
             0.9,
             "#4d9221"
            ],
            [
             1,
             "#276419"
            ]
           ],
           "sequential": [
            [
             0,
             "#0d0887"
            ],
            [
             0.1111111111111111,
             "#46039f"
            ],
            [
             0.2222222222222222,
             "#7201a8"
            ],
            [
             0.3333333333333333,
             "#9c179e"
            ],
            [
             0.4444444444444444,
             "#bd3786"
            ],
            [
             0.5555555555555556,
             "#d8576b"
            ],
            [
             0.6666666666666666,
             "#ed7953"
            ],
            [
             0.7777777777777778,
             "#fb9f3a"
            ],
            [
             0.8888888888888888,
             "#fdca26"
            ],
            [
             1,
             "#f0f921"
            ]
           ],
           "sequentialminus": [
            [
             0,
             "#0d0887"
            ],
            [
             0.1111111111111111,
             "#46039f"
            ],
            [
             0.2222222222222222,
             "#7201a8"
            ],
            [
             0.3333333333333333,
             "#9c179e"
            ],
            [
             0.4444444444444444,
             "#bd3786"
            ],
            [
             0.5555555555555556,
             "#d8576b"
            ],
            [
             0.6666666666666666,
             "#ed7953"
            ],
            [
             0.7777777777777778,
             "#fb9f3a"
            ],
            [
             0.8888888888888888,
             "#fdca26"
            ],
            [
             1,
             "#f0f921"
            ]
           ]
          },
          "colorway": [
           "#636efa",
           "#EF553B",
           "#00cc96",
           "#ab63fa",
           "#FFA15A",
           "#19d3f3",
           "#FF6692",
           "#B6E880",
           "#FF97FF",
           "#FECB52"
          ],
          "font": {
           "color": "#2a3f5f"
          },
          "geo": {
           "bgcolor": "white",
           "lakecolor": "white",
           "landcolor": "#E5ECF6",
           "showlakes": true,
           "showland": true,
           "subunitcolor": "white"
          },
          "hoverlabel": {
           "align": "left"
          },
          "hovermode": "closest",
          "mapbox": {
           "style": "light"
          },
          "paper_bgcolor": "white",
          "plot_bgcolor": "#E5ECF6",
          "polar": {
           "angularaxis": {
            "gridcolor": "white",
            "linecolor": "white",
            "ticks": ""
           },
           "bgcolor": "#E5ECF6",
           "radialaxis": {
            "gridcolor": "white",
            "linecolor": "white",
            "ticks": ""
           }
          },
          "scene": {
           "xaxis": {
            "backgroundcolor": "#E5ECF6",
            "gridcolor": "white",
            "gridwidth": 2,
            "linecolor": "white",
            "showbackground": true,
            "ticks": "",
            "zerolinecolor": "white"
           },
           "yaxis": {
            "backgroundcolor": "#E5ECF6",
            "gridcolor": "white",
            "gridwidth": 2,
            "linecolor": "white",
            "showbackground": true,
            "ticks": "",
            "zerolinecolor": "white"
           },
           "zaxis": {
            "backgroundcolor": "#E5ECF6",
            "gridcolor": "white",
            "gridwidth": 2,
            "linecolor": "white",
            "showbackground": true,
            "ticks": "",
            "zerolinecolor": "white"
           }
          },
          "shapedefaults": {
           "line": {
            "color": "#2a3f5f"
           }
          },
          "ternary": {
           "aaxis": {
            "gridcolor": "white",
            "linecolor": "white",
            "ticks": ""
           },
           "baxis": {
            "gridcolor": "white",
            "linecolor": "white",
            "ticks": ""
           },
           "bgcolor": "#E5ECF6",
           "caxis": {
            "gridcolor": "white",
            "linecolor": "white",
            "ticks": ""
           }
          },
          "title": {
           "x": 0.05
          },
          "xaxis": {
           "automargin": true,
           "gridcolor": "white",
           "linecolor": "white",
           "ticks": "",
           "title": {
            "standoff": 15
           },
           "zerolinecolor": "white",
           "zerolinewidth": 2
          },
          "yaxis": {
           "automargin": true,
           "gridcolor": "white",
           "linecolor": "white",
           "ticks": "",
           "title": {
            "standoff": 15
           },
           "zerolinecolor": "white",
           "zerolinewidth": 2
          }
         }
        },
        "title": {
         "text": "Tasa de conversión para la variable \"Satisfaction_score\""
        },
        "xaxis": {
         "anchor": "y",
         "domain": [
          0,
          1
         ],
         "title": {
          "text": "Satisfaction_score"
         }
        },
        "yaxis": {
         "anchor": "x",
         "domain": [
          0,
          1
         ],
         "title": {
          "text": "conversion_rate"
         }
        }
       }
      }
     },
     "metadata": {},
     "output_type": "display_data"
    },
    {
     "data": {
      "application/vnd.plotly.v1+json": {
       "config": {
        "plotlyServerURL": "https://plot.ly"
       },
       "data": [
        {
         "alignmentgroup": "True",
         "hovertemplate": "Contact_hour_round=%{x}<br>conversion_rate=%{y}<extra></extra>",
         "legendgroup": "",
         "marker": {
          "color": "#636efa",
          "pattern": {
           "shape": ""
          }
         },
         "name": "",
         "offsetgroup": "",
         "orientation": "v",
         "showlegend": false,
         "textposition": "auto",
         "type": "bar",
         "x": [
          "1900-01-01T04:00:00",
          "1900-01-01T05:00:00",
          "1900-01-01T06:00:00",
          "1900-01-01T07:00:00",
          "1900-01-01T08:00:00",
          "1900-01-01T09:00:00",
          "1900-01-01T10:00:00",
          "1900-01-01T11:00:00",
          "1900-01-01T12:00:00",
          "1900-01-01T13:00:00",
          "1900-01-01T14:00:00",
          "1900-01-01T15:00:00",
          "1900-01-01T16:00:00",
          "1900-01-01T17:00:00",
          "1900-01-01T18:00:00"
         ],
         "xaxis": "x",
         "y": [
          0,
          23.809523809523807,
          12.5,
          20,
          52.94117647058824,
          35.483870967741936,
          45.78313253012048,
          31.70731707317073,
          23.25581395348837,
          33.33333333333333,
          50.79365079365079,
          52.83018867924528,
          46.478873239436616,
          23.333333333333332,
          0
         ],
         "yaxis": "y"
        }
       ],
       "layout": {
        "barmode": "relative",
        "legend": {
         "tracegroupgap": 0
        },
        "template": {
         "data": {
          "bar": [
           {
            "error_x": {
             "color": "#2a3f5f"
            },
            "error_y": {
             "color": "#2a3f5f"
            },
            "marker": {
             "line": {
              "color": "#E5ECF6",
              "width": 0.5
             },
             "pattern": {
              "fillmode": "overlay",
              "size": 10,
              "solidity": 0.2
             }
            },
            "type": "bar"
           }
          ],
          "barpolar": [
           {
            "marker": {
             "line": {
              "color": "#E5ECF6",
              "width": 0.5
             },
             "pattern": {
              "fillmode": "overlay",
              "size": 10,
              "solidity": 0.2
             }
            },
            "type": "barpolar"
           }
          ],
          "carpet": [
           {
            "aaxis": {
             "endlinecolor": "#2a3f5f",
             "gridcolor": "white",
             "linecolor": "white",
             "minorgridcolor": "white",
             "startlinecolor": "#2a3f5f"
            },
            "baxis": {
             "endlinecolor": "#2a3f5f",
             "gridcolor": "white",
             "linecolor": "white",
             "minorgridcolor": "white",
             "startlinecolor": "#2a3f5f"
            },
            "type": "carpet"
           }
          ],
          "choropleth": [
           {
            "colorbar": {
             "outlinewidth": 0,
             "ticks": ""
            },
            "type": "choropleth"
           }
          ],
          "contour": [
           {
            "colorbar": {
             "outlinewidth": 0,
             "ticks": ""
            },
            "colorscale": [
             [
              0,
              "#0d0887"
             ],
             [
              0.1111111111111111,
              "#46039f"
             ],
             [
              0.2222222222222222,
              "#7201a8"
             ],
             [
              0.3333333333333333,
              "#9c179e"
             ],
             [
              0.4444444444444444,
              "#bd3786"
             ],
             [
              0.5555555555555556,
              "#d8576b"
             ],
             [
              0.6666666666666666,
              "#ed7953"
             ],
             [
              0.7777777777777778,
              "#fb9f3a"
             ],
             [
              0.8888888888888888,
              "#fdca26"
             ],
             [
              1,
              "#f0f921"
             ]
            ],
            "type": "contour"
           }
          ],
          "contourcarpet": [
           {
            "colorbar": {
             "outlinewidth": 0,
             "ticks": ""
            },
            "type": "contourcarpet"
           }
          ],
          "heatmap": [
           {
            "colorbar": {
             "outlinewidth": 0,
             "ticks": ""
            },
            "colorscale": [
             [
              0,
              "#0d0887"
             ],
             [
              0.1111111111111111,
              "#46039f"
             ],
             [
              0.2222222222222222,
              "#7201a8"
             ],
             [
              0.3333333333333333,
              "#9c179e"
             ],
             [
              0.4444444444444444,
              "#bd3786"
             ],
             [
              0.5555555555555556,
              "#d8576b"
             ],
             [
              0.6666666666666666,
              "#ed7953"
             ],
             [
              0.7777777777777778,
              "#fb9f3a"
             ],
             [
              0.8888888888888888,
              "#fdca26"
             ],
             [
              1,
              "#f0f921"
             ]
            ],
            "type": "heatmap"
           }
          ],
          "heatmapgl": [
           {
            "colorbar": {
             "outlinewidth": 0,
             "ticks": ""
            },
            "colorscale": [
             [
              0,
              "#0d0887"
             ],
             [
              0.1111111111111111,
              "#46039f"
             ],
             [
              0.2222222222222222,
              "#7201a8"
             ],
             [
              0.3333333333333333,
              "#9c179e"
             ],
             [
              0.4444444444444444,
              "#bd3786"
             ],
             [
              0.5555555555555556,
              "#d8576b"
             ],
             [
              0.6666666666666666,
              "#ed7953"
             ],
             [
              0.7777777777777778,
              "#fb9f3a"
             ],
             [
              0.8888888888888888,
              "#fdca26"
             ],
             [
              1,
              "#f0f921"
             ]
            ],
            "type": "heatmapgl"
           }
          ],
          "histogram": [
           {
            "marker": {
             "pattern": {
              "fillmode": "overlay",
              "size": 10,
              "solidity": 0.2
             }
            },
            "type": "histogram"
           }
          ],
          "histogram2d": [
           {
            "colorbar": {
             "outlinewidth": 0,
             "ticks": ""
            },
            "colorscale": [
             [
              0,
              "#0d0887"
             ],
             [
              0.1111111111111111,
              "#46039f"
             ],
             [
              0.2222222222222222,
              "#7201a8"
             ],
             [
              0.3333333333333333,
              "#9c179e"
             ],
             [
              0.4444444444444444,
              "#bd3786"
             ],
             [
              0.5555555555555556,
              "#d8576b"
             ],
             [
              0.6666666666666666,
              "#ed7953"
             ],
             [
              0.7777777777777778,
              "#fb9f3a"
             ],
             [
              0.8888888888888888,
              "#fdca26"
             ],
             [
              1,
              "#f0f921"
             ]
            ],
            "type": "histogram2d"
           }
          ],
          "histogram2dcontour": [
           {
            "colorbar": {
             "outlinewidth": 0,
             "ticks": ""
            },
            "colorscale": [
             [
              0,
              "#0d0887"
             ],
             [
              0.1111111111111111,
              "#46039f"
             ],
             [
              0.2222222222222222,
              "#7201a8"
             ],
             [
              0.3333333333333333,
              "#9c179e"
             ],
             [
              0.4444444444444444,
              "#bd3786"
             ],
             [
              0.5555555555555556,
              "#d8576b"
             ],
             [
              0.6666666666666666,
              "#ed7953"
             ],
             [
              0.7777777777777778,
              "#fb9f3a"
             ],
             [
              0.8888888888888888,
              "#fdca26"
             ],
             [
              1,
              "#f0f921"
             ]
            ],
            "type": "histogram2dcontour"
           }
          ],
          "mesh3d": [
           {
            "colorbar": {
             "outlinewidth": 0,
             "ticks": ""
            },
            "type": "mesh3d"
           }
          ],
          "parcoords": [
           {
            "line": {
             "colorbar": {
              "outlinewidth": 0,
              "ticks": ""
             }
            },
            "type": "parcoords"
           }
          ],
          "pie": [
           {
            "automargin": true,
            "type": "pie"
           }
          ],
          "scatter": [
           {
            "fillpattern": {
             "fillmode": "overlay",
             "size": 10,
             "solidity": 0.2
            },
            "type": "scatter"
           }
          ],
          "scatter3d": [
           {
            "line": {
             "colorbar": {
              "outlinewidth": 0,
              "ticks": ""
             }
            },
            "marker": {
             "colorbar": {
              "outlinewidth": 0,
              "ticks": ""
             }
            },
            "type": "scatter3d"
           }
          ],
          "scattercarpet": [
           {
            "marker": {
             "colorbar": {
              "outlinewidth": 0,
              "ticks": ""
             }
            },
            "type": "scattercarpet"
           }
          ],
          "scattergeo": [
           {
            "marker": {
             "colorbar": {
              "outlinewidth": 0,
              "ticks": ""
             }
            },
            "type": "scattergeo"
           }
          ],
          "scattergl": [
           {
            "marker": {
             "colorbar": {
              "outlinewidth": 0,
              "ticks": ""
             }
            },
            "type": "scattergl"
           }
          ],
          "scattermapbox": [
           {
            "marker": {
             "colorbar": {
              "outlinewidth": 0,
              "ticks": ""
             }
            },
            "type": "scattermapbox"
           }
          ],
          "scatterpolar": [
           {
            "marker": {
             "colorbar": {
              "outlinewidth": 0,
              "ticks": ""
             }
            },
            "type": "scatterpolar"
           }
          ],
          "scatterpolargl": [
           {
            "marker": {
             "colorbar": {
              "outlinewidth": 0,
              "ticks": ""
             }
            },
            "type": "scatterpolargl"
           }
          ],
          "scatterternary": [
           {
            "marker": {
             "colorbar": {
              "outlinewidth": 0,
              "ticks": ""
             }
            },
            "type": "scatterternary"
           }
          ],
          "surface": [
           {
            "colorbar": {
             "outlinewidth": 0,
             "ticks": ""
            },
            "colorscale": [
             [
              0,
              "#0d0887"
             ],
             [
              0.1111111111111111,
              "#46039f"
             ],
             [
              0.2222222222222222,
              "#7201a8"
             ],
             [
              0.3333333333333333,
              "#9c179e"
             ],
             [
              0.4444444444444444,
              "#bd3786"
             ],
             [
              0.5555555555555556,
              "#d8576b"
             ],
             [
              0.6666666666666666,
              "#ed7953"
             ],
             [
              0.7777777777777778,
              "#fb9f3a"
             ],
             [
              0.8888888888888888,
              "#fdca26"
             ],
             [
              1,
              "#f0f921"
             ]
            ],
            "type": "surface"
           }
          ],
          "table": [
           {
            "cells": {
             "fill": {
              "color": "#EBF0F8"
             },
             "line": {
              "color": "white"
             }
            },
            "header": {
             "fill": {
              "color": "#C8D4E3"
             },
             "line": {
              "color": "white"
             }
            },
            "type": "table"
           }
          ]
         },
         "layout": {
          "annotationdefaults": {
           "arrowcolor": "#2a3f5f",
           "arrowhead": 0,
           "arrowwidth": 1
          },
          "autotypenumbers": "strict",
          "coloraxis": {
           "colorbar": {
            "outlinewidth": 0,
            "ticks": ""
           }
          },
          "colorscale": {
           "diverging": [
            [
             0,
             "#8e0152"
            ],
            [
             0.1,
             "#c51b7d"
            ],
            [
             0.2,
             "#de77ae"
            ],
            [
             0.3,
             "#f1b6da"
            ],
            [
             0.4,
             "#fde0ef"
            ],
            [
             0.5,
             "#f7f7f7"
            ],
            [
             0.6,
             "#e6f5d0"
            ],
            [
             0.7,
             "#b8e186"
            ],
            [
             0.8,
             "#7fbc41"
            ],
            [
             0.9,
             "#4d9221"
            ],
            [
             1,
             "#276419"
            ]
           ],
           "sequential": [
            [
             0,
             "#0d0887"
            ],
            [
             0.1111111111111111,
             "#46039f"
            ],
            [
             0.2222222222222222,
             "#7201a8"
            ],
            [
             0.3333333333333333,
             "#9c179e"
            ],
            [
             0.4444444444444444,
             "#bd3786"
            ],
            [
             0.5555555555555556,
             "#d8576b"
            ],
            [
             0.6666666666666666,
             "#ed7953"
            ],
            [
             0.7777777777777778,
             "#fb9f3a"
            ],
            [
             0.8888888888888888,
             "#fdca26"
            ],
            [
             1,
             "#f0f921"
            ]
           ],
           "sequentialminus": [
            [
             0,
             "#0d0887"
            ],
            [
             0.1111111111111111,
             "#46039f"
            ],
            [
             0.2222222222222222,
             "#7201a8"
            ],
            [
             0.3333333333333333,
             "#9c179e"
            ],
            [
             0.4444444444444444,
             "#bd3786"
            ],
            [
             0.5555555555555556,
             "#d8576b"
            ],
            [
             0.6666666666666666,
             "#ed7953"
            ],
            [
             0.7777777777777778,
             "#fb9f3a"
            ],
            [
             0.8888888888888888,
             "#fdca26"
            ],
            [
             1,
             "#f0f921"
            ]
           ]
          },
          "colorway": [
           "#636efa",
           "#EF553B",
           "#00cc96",
           "#ab63fa",
           "#FFA15A",
           "#19d3f3",
           "#FF6692",
           "#B6E880",
           "#FF97FF",
           "#FECB52"
          ],
          "font": {
           "color": "#2a3f5f"
          },
          "geo": {
           "bgcolor": "white",
           "lakecolor": "white",
           "landcolor": "#E5ECF6",
           "showlakes": true,
           "showland": true,
           "subunitcolor": "white"
          },
          "hoverlabel": {
           "align": "left"
          },
          "hovermode": "closest",
          "mapbox": {
           "style": "light"
          },
          "paper_bgcolor": "white",
          "plot_bgcolor": "#E5ECF6",
          "polar": {
           "angularaxis": {
            "gridcolor": "white",
            "linecolor": "white",
            "ticks": ""
           },
           "bgcolor": "#E5ECF6",
           "radialaxis": {
            "gridcolor": "white",
            "linecolor": "white",
            "ticks": ""
           }
          },
          "scene": {
           "xaxis": {
            "backgroundcolor": "#E5ECF6",
            "gridcolor": "white",
            "gridwidth": 2,
            "linecolor": "white",
            "showbackground": true,
            "ticks": "",
            "zerolinecolor": "white"
           },
           "yaxis": {
            "backgroundcolor": "#E5ECF6",
            "gridcolor": "white",
            "gridwidth": 2,
            "linecolor": "white",
            "showbackground": true,
            "ticks": "",
            "zerolinecolor": "white"
           },
           "zaxis": {
            "backgroundcolor": "#E5ECF6",
            "gridcolor": "white",
            "gridwidth": 2,
            "linecolor": "white",
            "showbackground": true,
            "ticks": "",
            "zerolinecolor": "white"
           }
          },
          "shapedefaults": {
           "line": {
            "color": "#2a3f5f"
           }
          },
          "ternary": {
           "aaxis": {
            "gridcolor": "white",
            "linecolor": "white",
            "ticks": ""
           },
           "baxis": {
            "gridcolor": "white",
            "linecolor": "white",
            "ticks": ""
           },
           "bgcolor": "#E5ECF6",
           "caxis": {
            "gridcolor": "white",
            "linecolor": "white",
            "ticks": ""
           }
          },
          "title": {
           "x": 0.05
          },
          "xaxis": {
           "automargin": true,
           "gridcolor": "white",
           "linecolor": "white",
           "ticks": "",
           "title": {
            "standoff": 15
           },
           "zerolinecolor": "white",
           "zerolinewidth": 2
          },
          "yaxis": {
           "automargin": true,
           "gridcolor": "white",
           "linecolor": "white",
           "ticks": "",
           "title": {
            "standoff": 15
           },
           "zerolinecolor": "white",
           "zerolinewidth": 2
          }
         }
        },
        "title": {
         "text": "Tasa de conversión para la variable \"Contact_hour_round\""
        },
        "xaxis": {
         "anchor": "y",
         "domain": [
          0,
          1
         ],
         "title": {
          "text": "Contact_hour_round"
         }
        },
        "yaxis": {
         "anchor": "x",
         "domain": [
          0,
          1
         ],
         "title": {
          "text": "conversion_rate"
         }
        }
       }
      }
     },
     "metadata": {},
     "output_type": "display_data"
    }
   ],
   "source": [
    "helper_funtions.conversion_rate_chart('Contact_channel', 'Sales', df, type='bar')\n",
    "helper_funtions.conversion_rate_chart('Satisfaction_score', 'Sales', df, type='bar')\n",
    "helper_funtions.conversion_rate_chart('Contact_hour_round', 'Sales', df, type='bar')"
   ]
  },
  {
   "cell_type": "markdown",
   "metadata": {},
   "source": [
    "despreciables:\n",
    "\n",
    "a tener en cuenta:\n",
    "1. Type_products (40.1%)"
   ]
  },
  {
   "cell_type": "markdown",
   "metadata": {},
   "source": [
    "decir: \n",
    "1. contacten por telefono y chat (>43.2%)\n",
    "2. Los tres horarios de contacto para obtener una tasa de conversión superior a al 50% son 08:00 AM (52.9%), 03:00 PM (52.8%) y 02:00 PM (50.7%); seguido por los horarios 04:00PM (46.4%) y 10:00 AM (45.7%)\n",
    "3. mantengan contentos a los clientes ya que un cliente satisfecho (4 o 5) tiene una tasa de conversión de adquirir superior al 46% (53.2% si está muy satisfecho)\n",
    "4. Los clientes con compras previas tienen, en promedio, una tasa superior al 50%. Sin embargo, existe una oprtunidad de mejora en la Experiencia de Usuario entre la sexta y novena compra (decreciente), por lo que se sugiere la creación de planes especiales en el rango de 5-10 compras previas para enfrentar dicha tendencia a la baja\n",
    "5. Cuando los ingresos del cliente están entre 80K-100K existe una tasa de conversión superior al 40.3%\n"
   ]
  },
  {
   "cell_type": "markdown",
   "metadata": {},
   "source": [
    "# Vibariate analysis"
   ]
  },
  {
   "cell_type": "code",
   "execution_count": 17,
   "metadata": {},
   "outputs": [],
   "source": [
    "# columns_change_type_list = [\n",
    "#     'Age', 'Income', 'TAX', 'Previous_sales', 'Num_contacts',\n",
    "#     'Satisfaction_score', 'Contact_hour_round'\n",
    "#     ]\n",
    "# for column in columns_change_type_list:\n",
    "#     df[column].astype(str)"
   ]
  },
  {
   "cell_type": "markdown",
   "metadata": {},
   "source": [
    "1. de 2 a 4 es buena estrategia contactar a clientes por medio del chat online\n",
    "2. las 8 am suele ser la hora adefcuada para hacerlo por teléfono\n",
    "3. Los clientes con un nivel de satisfaccion de 5 deben ser contactados entre las 3-4 pm"
   ]
  },
  {
   "cell_type": "code",
   "execution_count": 18,
   "metadata": {},
   "outputs": [
    {
     "name": "stderr",
     "output_type": "stream",
     "text": [
      "d:\\Proyectos\\Teleperformance\\TP_Technical_test_DS\\src\\utils\\helper_funtions.py:69: UserWarning:\n",
      "\n",
      "\n",
      "\n",
      "The `join` parameter is deprecated and will be removed in v0.15.0. You can remove the line between points with `linestyle='none'`.\n",
      "\n",
      "\n"
     ]
    },
    {
     "data": {
      "image/png": "[encoded data removed]",
      "text/plain": [
       "<Figure size 1300x700 with 1 Axes>"
      ]
     },
     "metadata": {},
     "output_type": "display_data"
    }
   ],
   "source": [
    "helper_funtions.graficar_tc_bivariada(['Contact_hour_round','Contact_channel'], df)"
   ]
  },
  {
   "cell_type": "code",
   "execution_count": 19,
   "metadata": {},
   "outputs": [
    {
     "name": "stderr",
     "output_type": "stream",
     "text": [
      "d:\\Proyectos\\Teleperformance\\TP_Technical_test_DS\\src\\utils\\helper_funtions.py:69: UserWarning:\n",
      "\n",
      "\n",
      "\n",
      "The `join` parameter is deprecated and will be removed in v0.15.0. You can remove the line between points with `linestyle='none'`.\n",
      "\n",
      "\n"
     ]
    },
    {
     "data": {
      "image/png": "[encoded data removed]",
      "text/plain": [
       "<Figure size 1300x700 with 1 Axes>"
      ]
     },
     "metadata": {},
     "output_type": "display_data"
    }
   ],
   "source": [
    "helper_funtions.graficar_tc_bivariada(['Contact_hour_round','Satisfaction_score'], df)"
   ]
  }
 ],
 "metadata": {
  "kernelspec": {
   "display_name": "Python 3",
   "language": "python",
   "name": "python3"
  },
  "language_info": {
   "codemirror_mode": {
    "name": "ipython",
    "version": 3
   },
   "file_extension": ".py",
   "mimetype": "text/x-python",
   "name": "python",
   "nbconvert_exporter": "python",
   "pygments_lexer": "ipython3",
   "version": "3.9.13"
  }
 },
 "nbformat": 4,
 "nbformat_minor": 2
}
