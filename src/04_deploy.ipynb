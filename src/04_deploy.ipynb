{
 "cells": [
  {
   "cell_type": "code",
   "execution_count": 1,
   "metadata": {},
   "outputs": [],
   "source": [
    "import sqlite3 as db\n",
    "\n",
    "import pandas as pd\n",
    "from pycaret.classification import *\n",
    "\n",
    "from features import analytical_tools\n",
    "from utils import helper_funtions"
   ]
  },
  {
   "cell_type": "code",
   "execution_count": 2,
   "metadata": {},
   "outputs": [],
   "source": [
    "pd.options.display.max_columns = None  # Remove \"dots\" from display when printing dataframes"
   ]
  },
  {
   "cell_type": "code",
   "execution_count": 3,
   "metadata": {},
   "outputs": [],
   "source": [
    "PATH = helper_funtions.get_path()"
   ]
  },
  {
   "cell_type": "markdown",
   "metadata": {},
   "source": [
    "# Read data"
   ]
  },
  {
   "cell_type": "code",
   "execution_count": 4,
   "metadata": {},
   "outputs": [],
   "source": [
    "df = pd.read_csv(PATH + 'data/data_validation.csv')"
   ]
  },
  {
   "cell_type": "code",
   "execution_count": 5,
   "metadata": {},
   "outputs": [
    {
     "name": "stdout",
     "output_type": "stream",
     "text": [
      "Transformation Pipeline and Model Successfully Loaded\n"
     ]
    }
   ],
   "source": [
    "final_rf = load_model(PATH + 'models/RF_model_28-01-2024')"
   ]
  },
  {
   "cell_type": "markdown",
   "metadata": {},
   "source": [
    "# Preprocesing"
   ]
  },
  {
   "cell_type": "code",
   "execution_count": 6,
   "metadata": {},
   "outputs": [],
   "source": [
    "# Determine peak times by rounding the time in groups of one hour \n",
    "df['Contact_hour'] = pd.to_datetime(df['Contact_hour'], format='%H:%M:%S')\n",
    "df['Contact_hour_round'] = df['Contact_hour'].apply(lambda x: x.round('60 min'))\n",
    "\n",
    "df_peak_time = df['Contact_hour_round'].value_counts().head()\n",
    "df_peak_time = df_peak_time.rename_axis('Hour')\n",
    "df_peak_time = df_peak_time.reset_index(name='Count')\n",
    "peak_hours = []\n",
    "for i in range(len(df_peak_time)):\n",
    "    peak_hours.append(df_peak_time['Hour'].iloc[i])\n",
    "\n",
    "for i in range(len(df)):\n",
    "    if df.loc[i, 'Contact_hour_round'] in peak_hours:\n",
    "        df.at[i, 'Is_peak_hour'] = 1\n",
    "    else:\n",
    "        df.at[i, 'Is_peak_hour'] = 0\n",
    "\n",
    "del df_peak_time"
   ]
  },
  {
   "cell_type": "code",
   "execution_count": 7,
   "metadata": {},
   "outputs": [],
   "source": [
    "labels_to_encoders_name = {\n",
    "    'Contact_channel':'Contact_channel_ENC',\n",
    "    'Type_products':'Type_products_ENC',\n",
    "    'Contact_hour_round':'Contact_hour_round_ENC'}\n",
    "\n",
    "for var_encoder, encoder_name in labels_to_encoders_name.items():\n",
    "    analytical_tools.label_encoder(var_encoder, encoder_name, df)"
   ]
  },
  {
   "cell_type": "markdown",
   "metadata": {},
   "source": [
    "# Model implementation"
   ]
  },
  {
   "cell_type": "code",
   "execution_count": 8,
   "metadata": {},
   "outputs": [],
   "source": [
    "df_implement = predict_model(final_rf, data=df)\n",
    "df_implement = df_implement.rename({\n",
    "    'prediction_label':'Sales'\n",
    "    }, axis=1)"
   ]
  },
  {
   "cell_type": "code",
   "execution_count": 9,
   "metadata": {},
   "outputs": [
    {
     "data": {
      "text/html": [
       "<div>\n",
       "<style scoped>\n",
       "    .dataframe tbody tr th:only-of-type {\n",
       "        vertical-align: middle;\n",
       "    }\n",
       "\n",
       "    .dataframe tbody tr th {\n",
       "        vertical-align: top;\n",
       "    }\n",
       "\n",
       "    .dataframe thead th {\n",
       "        text-align: right;\n",
       "    }\n",
       "</style>\n",
       "<table border=\"1\" class=\"dataframe\">\n",
       "  <thead>\n",
       "    <tr style=\"text-align: right;\">\n",
       "      <th></th>\n",
       "      <th>UUID_client</th>\n",
       "      <th>Age</th>\n",
       "      <th>Location</th>\n",
       "      <th>Income</th>\n",
       "      <th>TAX</th>\n",
       "      <th>Previous_sales</th>\n",
       "      <th>Type_products</th>\n",
       "      <th>Contact_channel</th>\n",
       "      <th>Contact_hour</th>\n",
       "      <th>Num_contacts</th>\n",
       "      <th>Satisfaction_score</th>\n",
       "      <th>Contact_hour_round</th>\n",
       "      <th>Is_peak_hour</th>\n",
       "      <th>Contact_channel_ENC</th>\n",
       "      <th>Type_products_ENC</th>\n",
       "      <th>Contact_hour_round_ENC</th>\n",
       "      <th>Sales</th>\n",
       "      <th>prediction_score</th>\n",
       "    </tr>\n",
       "  </thead>\n",
       "  <tbody>\n",
       "    <tr>\n",
       "      <th>0</th>\n",
       "      <td>b80c8fef-a677-5340-85fb-2c162d75df03</td>\n",
       "      <td>51</td>\n",
       "      <td>FL</td>\n",
       "      <td>80000</td>\n",
       "      <td>12000.000000</td>\n",
       "      <td>1</td>\n",
       "      <td>B</td>\n",
       "      <td>Email</td>\n",
       "      <td>1900-01-01 05:30:00</td>\n",
       "      <td>1</td>\n",
       "      <td>4</td>\n",
       "      <td>1900-01-01 06:00:00</td>\n",
       "      <td>1.0</td>\n",
       "      <td>0</td>\n",
       "      <td>1</td>\n",
       "      <td>1</td>\n",
       "      <td>0</td>\n",
       "      <td>0.8712</td>\n",
       "    </tr>\n",
       "    <tr>\n",
       "      <th>1</th>\n",
       "      <td>334b6b31-12a2-5bfc-bf4f-870c0954b343</td>\n",
       "      <td>40</td>\n",
       "      <td>CA</td>\n",
       "      <td>82579</td>\n",
       "      <td>12386.849609</td>\n",
       "      <td>5</td>\n",
       "      <td>A</td>\n",
       "      <td>Phone</td>\n",
       "      <td>1900-01-01 16:45:00</td>\n",
       "      <td>2</td>\n",
       "      <td>4</td>\n",
       "      <td>1900-01-01 17:00:00</td>\n",
       "      <td>0.0</td>\n",
       "      <td>2</td>\n",
       "      <td>0</td>\n",
       "      <td>12</td>\n",
       "      <td>1</td>\n",
       "      <td>0.9576</td>\n",
       "    </tr>\n",
       "    <tr>\n",
       "      <th>2</th>\n",
       "      <td>c093c7f6-6edf-595e-9539-70de788efbaa</td>\n",
       "      <td>25</td>\n",
       "      <td>NY</td>\n",
       "      <td>58380</td>\n",
       "      <td>8757.000000</td>\n",
       "      <td>3</td>\n",
       "      <td>C</td>\n",
       "      <td>Online Chat</td>\n",
       "      <td>1900-01-01 06:30:00</td>\n",
       "      <td>4</td>\n",
       "      <td>5</td>\n",
       "      <td>1900-01-01 06:00:00</td>\n",
       "      <td>1.0</td>\n",
       "      <td>1</td>\n",
       "      <td>2</td>\n",
       "      <td>1</td>\n",
       "      <td>1</td>\n",
       "      <td>0.9248</td>\n",
       "    </tr>\n",
       "    <tr>\n",
       "      <th>3</th>\n",
       "      <td>ff6c5a08-b2fa-56b6-ac00-6830f4074b6a</td>\n",
       "      <td>57</td>\n",
       "      <td>IL</td>\n",
       "      <td>75000</td>\n",
       "      <td>11250.000000</td>\n",
       "      <td>0</td>\n",
       "      <td>A</td>\n",
       "      <td>Email</td>\n",
       "      <td>1900-01-01 05:30:00</td>\n",
       "      <td>3</td>\n",
       "      <td>2</td>\n",
       "      <td>1900-01-01 06:00:00</td>\n",
       "      <td>1.0</td>\n",
       "      <td>0</td>\n",
       "      <td>0</td>\n",
       "      <td>1</td>\n",
       "      <td>0</td>\n",
       "      <td>0.9964</td>\n",
       "    </tr>\n",
       "    <tr>\n",
       "      <th>4</th>\n",
       "      <td>afca48e9-59ea-5a28-b8a4-88e0cc6eda1c</td>\n",
       "      <td>61</td>\n",
       "      <td>CA</td>\n",
       "      <td>50049</td>\n",
       "      <td>7507.350098</td>\n",
       "      <td>0</td>\n",
       "      <td>B</td>\n",
       "      <td>Email</td>\n",
       "      <td>1900-01-01 09:00:00</td>\n",
       "      <td>1</td>\n",
       "      <td>4</td>\n",
       "      <td>1900-01-01 09:00:00</td>\n",
       "      <td>0.0</td>\n",
       "      <td>0</td>\n",
       "      <td>1</td>\n",
       "      <td>4</td>\n",
       "      <td>0</td>\n",
       "      <td>0.9737</td>\n",
       "    </tr>\n",
       "  </tbody>\n",
       "</table>\n",
       "</div>"
      ],
      "text/plain": [
       "                            UUID_client  Age Location  Income           TAX  \\\n",
       "0  b80c8fef-a677-5340-85fb-2c162d75df03   51       FL   80000  12000.000000   \n",
       "1  334b6b31-12a2-5bfc-bf4f-870c0954b343   40       CA   82579  12386.849609   \n",
       "2  c093c7f6-6edf-595e-9539-70de788efbaa   25       NY   58380   8757.000000   \n",
       "3  ff6c5a08-b2fa-56b6-ac00-6830f4074b6a   57       IL   75000  11250.000000   \n",
       "4  afca48e9-59ea-5a28-b8a4-88e0cc6eda1c   61       CA   50049   7507.350098   \n",
       "\n",
       "   Previous_sales Type_products Contact_channel        Contact_hour  \\\n",
       "0               1             B           Email 1900-01-01 05:30:00   \n",
       "1               5             A           Phone 1900-01-01 16:45:00   \n",
       "2               3             C     Online Chat 1900-01-01 06:30:00   \n",
       "3               0             A           Email 1900-01-01 05:30:00   \n",
       "4               0             B           Email 1900-01-01 09:00:00   \n",
       "\n",
       "   Num_contacts  Satisfaction_score  Contact_hour_round  Is_peak_hour  \\\n",
       "0             1                   4 1900-01-01 06:00:00           1.0   \n",
       "1             2                   4 1900-01-01 17:00:00           0.0   \n",
       "2             4                   5 1900-01-01 06:00:00           1.0   \n",
       "3             3                   2 1900-01-01 06:00:00           1.0   \n",
       "4             1                   4 1900-01-01 09:00:00           0.0   \n",
       "\n",
       "   Contact_channel_ENC  Type_products_ENC  Contact_hour_round_ENC  Sales  \\\n",
       "0                    0                  1                       1      0   \n",
       "1                    2                  0                      12      1   \n",
       "2                    1                  2                       1      1   \n",
       "3                    0                  0                       1      0   \n",
       "4                    0                  1                       4      0   \n",
       "\n",
       "   prediction_score  \n",
       "0            0.8712  \n",
       "1            0.9576  \n",
       "2            0.9248  \n",
       "3            0.9964  \n",
       "4            0.9737  "
      ]
     },
     "execution_count": 9,
     "metadata": {},
     "output_type": "execute_result"
    }
   ],
   "source": [
    "df_implement.head()"
   ]
  },
  {
   "cell_type": "markdown",
   "metadata": {},
   "source": [
    "# Load data to SQLite"
   ]
  },
  {
   "cell_type": "code",
   "execution_count": 10,
   "metadata": {},
   "outputs": [],
   "source": [
    "connection = db.connect(PATH + 'output/TELEPERFORMANCE.db')"
   ]
  },
  {
   "cell_type": "code",
   "execution_count": 11,
   "metadata": {},
   "outputs": [
    {
     "data": {
      "text/plain": [
       "99"
      ]
     },
     "execution_count": 11,
     "metadata": {},
     "output_type": "execute_result"
    }
   ],
   "source": [
    "df_implement.to_sql(\n",
    "    'TechnicalTest_DS_AMT',\n",
    "    connection,\n",
    "    if_exists='replace',\n",
    "    index=False\n",
    "    )"
   ]
  },
  {
   "cell_type": "code",
   "execution_count": 12,
   "metadata": {},
   "outputs": [],
   "source": [
    "del df, df_implement  # Delete variables to free memory"
   ]
  }
 ],
 "metadata": {
  "kernelspec": {
   "display_name": "venv",
   "language": "python",
   "name": "python3"
  },
  "language_info": {
   "codemirror_mode": {
    "name": "ipython",
    "version": 3
   },
   "file_extension": ".py",
   "mimetype": "text/x-python",
   "name": "python",
   "nbconvert_exporter": "python",
   "pygments_lexer": "ipython3",
   "version": "3.9.13"
  }
 },
 "nbformat": 4,
 "nbformat_minor": 2
}
