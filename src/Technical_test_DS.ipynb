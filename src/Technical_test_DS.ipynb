{
 "cells": [
  {
   "cell_type": "code",
   "execution_count": 1,
   "metadata": {},
   "outputs": [],
   "source": [
    "import pandas as pd\n",
    "\n",
    "from utils import helper_funtions"
   ]
  },
  {
   "cell_type": "code",
   "execution_count": 2,
   "metadata": {},
   "outputs": [],
   "source": [
    "pd.options.display.max_columns = None  # Remove \"dots\" from display when printing dataframes"
   ]
  },
  {
   "cell_type": "code",
   "execution_count": 3,
   "metadata": {},
   "outputs": [
    {
     "name": "stdout",
     "output_type": "stream",
     "text": [
      "c:\\Users\\montenegrot.7\\OneDrive - Teleperformance\\Documentos\\Proyectos\\TP_technical_test_DS/\n"
     ]
    }
   ],
   "source": [
    "PATH = helper_funtions.get_path()\n",
    "print(PATH)"
   ]
  },
  {
   "cell_type": "markdown",
   "metadata": {},
   "source": [
    "# Read data"
   ]
  },
  {
   "cell_type": "code",
   "execution_count": 29,
   "metadata": {},
   "outputs": [
    {
     "data": {
      "text/html": [
       "<div>\n",
       "<style scoped>\n",
       "    .dataframe tbody tr th:only-of-type {\n",
       "        vertical-align: middle;\n",
       "    }\n",
       "\n",
       "    .dataframe tbody tr th {\n",
       "        vertical-align: top;\n",
       "    }\n",
       "\n",
       "    .dataframe thead th {\n",
       "        text-align: right;\n",
       "    }\n",
       "</style>\n",
       "<table border=\"1\" class=\"dataframe\">\n",
       "  <thead>\n",
       "    <tr style=\"text-align: right;\">\n",
       "      <th></th>\n",
       "      <th>Client_ID</th>\n",
       "      <th>Name</th>\n",
       "      <th>Age</th>\n",
       "      <th>Location</th>\n",
       "      <th>Income</th>\n",
       "      <th>TAX</th>\n",
       "      <th>previous sales_#</th>\n",
       "      <th>Type_of_Products</th>\n",
       "      <th>Contact_Channel</th>\n",
       "      <th>Contact_hour</th>\n",
       "      <th>Num_Contacts</th>\n",
       "      <th>Satisfaction_Score</th>\n",
       "      <th>Sales</th>\n",
       "    </tr>\n",
       "  </thead>\n",
       "  <tbody>\n",
       "    <tr>\n",
       "      <th>905</th>\n",
       "      <td>906</td>\n",
       "      <td>NaN</td>\n",
       "      <td>30</td>\n",
       "      <td>CA</td>\n",
       "      <td>88067.0</td>\n",
       "      <td>13210.05</td>\n",
       "      <td>4</td>\n",
       "      <td>B</td>\n",
       "      <td>Online Chat</td>\n",
       "      <td>10:30:00</td>\n",
       "      <td>2</td>\n",
       "      <td>1</td>\n",
       "      <td>1</td>\n",
       "    </tr>\n",
       "    <tr>\n",
       "      <th>414</th>\n",
       "      <td>415</td>\n",
       "      <td>NaN</td>\n",
       "      <td>21</td>\n",
       "      <td>TX</td>\n",
       "      <td>81196.0</td>\n",
       "      <td>12179.40</td>\n",
       "      <td>0</td>\n",
       "      <td>C</td>\n",
       "      <td>Email</td>\n",
       "      <td>10:30:00</td>\n",
       "      <td>2</td>\n",
       "      <td>5</td>\n",
       "      <td>0</td>\n",
       "    </tr>\n",
       "    <tr>\n",
       "      <th>949</th>\n",
       "      <td>950</td>\n",
       "      <td>NaN</td>\n",
       "      <td>30</td>\n",
       "      <td>IL</td>\n",
       "      <td>83909.0</td>\n",
       "      <td>12586.35</td>\n",
       "      <td>2</td>\n",
       "      <td>A</td>\n",
       "      <td>Online Chat</td>\n",
       "      <td>09:00:00</td>\n",
       "      <td>2</td>\n",
       "      <td>1</td>\n",
       "      <td>0</td>\n",
       "    </tr>\n",
       "    <tr>\n",
       "      <th>924</th>\n",
       "      <td>925</td>\n",
       "      <td>NaN</td>\n",
       "      <td>28</td>\n",
       "      <td>FL</td>\n",
       "      <td>85267.0</td>\n",
       "      <td>12790.05</td>\n",
       "      <td>2</td>\n",
       "      <td>B</td>\n",
       "      <td>Phone</td>\n",
       "      <td>14:00:00</td>\n",
       "      <td>5</td>\n",
       "      <td>1</td>\n",
       "      <td>1</td>\n",
       "    </tr>\n",
       "    <tr>\n",
       "      <th>564</th>\n",
       "      <td>565</td>\n",
       "      <td>NaN</td>\n",
       "      <td>48</td>\n",
       "      <td>CA</td>\n",
       "      <td>87804.0</td>\n",
       "      <td>13170.60</td>\n",
       "      <td>5</td>\n",
       "      <td>C</td>\n",
       "      <td>Email</td>\n",
       "      <td>09:45:00</td>\n",
       "      <td>5</td>\n",
       "      <td>5</td>\n",
       "      <td>1</td>\n",
       "    </tr>\n",
       "  </tbody>\n",
       "</table>\n",
       "</div>"
      ],
      "text/plain": [
       "     Client_ID  Name  Age Location   Income       TAX  previous sales_#   \\\n",
       "905        906   NaN   30       CA  88067.0  13210.05                  4   \n",
       "414        415   NaN   21       TX  81196.0  12179.40                  0   \n",
       "949        950   NaN   30       IL  83909.0  12586.35                  2   \n",
       "924        925   NaN   28       FL  85267.0  12790.05                  2   \n",
       "564        565   NaN   48       CA  87804.0  13170.60                  5   \n",
       "\n",
       "    Type_of_Products Contact_Channel Contact_hour  Num_Contacts  \\\n",
       "905                B     Online Chat     10:30:00             2   \n",
       "414                C           Email     10:30:00             2   \n",
       "949                A     Online Chat     09:00:00             2   \n",
       "924                B           Phone     14:00:00             5   \n",
       "564                C           Email     09:45:00             5   \n",
       "\n",
       "     Satisfaction_Score  Sales  \n",
       "905                   1      1  \n",
       "414                   5      0  \n",
       "949                   1      0  \n",
       "924                   1      1  \n",
       "564                   5      1  "
      ]
     },
     "execution_count": 29,
     "metadata": {},
     "output_type": "execute_result"
    }
   ],
   "source": [
    "df = pd.read_excel(PATH + 'data\\Sales_outbound.xlsx')\n",
    "df.sample(n=5).head()"
   ]
  },
  {
   "cell_type": "markdown",
   "metadata": {},
   "source": [
    "## Describe data"
   ]
  },
  {
   "cell_type": "code",
   "execution_count": 34,
   "metadata": {},
   "outputs": [
    {
     "name": "stdout",
     "output_type": "stream",
     "text": [
      "Filas: 1000\n",
      "Columnas: 13\n"
     ]
    },
    {
     "data": {
      "text/plain": [
       "Client_ID               int64\n",
       "Name                  float64\n",
       "Age                     int64\n",
       "Location               object\n",
       "Income                float64\n",
       "TAX                   float64\n",
       "previous sales_#        int64\n",
       "Type_of_Products       object\n",
       "Contact_Channel        object\n",
       "Contact_hour           object\n",
       "Num_Contacts            int64\n",
       "Satisfaction_Score      int64\n",
       "Sales                   int64\n",
       "dtype: object"
      ]
     },
     "execution_count": 34,
     "metadata": {},
     "output_type": "execute_result"
    }
   ],
   "source": [
    "print(f'Filas: {df.shape[0]}\\nColumnas: {df.shape[1]}')\n",
    "df.dtypes"
   ]
  },
  {
   "cell_type": "code",
   "execution_count": 33,
   "metadata": {},
   "outputs": [
    {
     "data": {
      "text/html": [
       "<div>\n",
       "<style scoped>\n",
       "    .dataframe tbody tr th:only-of-type {\n",
       "        vertical-align: middle;\n",
       "    }\n",
       "\n",
       "    .dataframe tbody tr th {\n",
       "        vertical-align: top;\n",
       "    }\n",
       "\n",
       "    .dataframe thead th {\n",
       "        text-align: right;\n",
       "    }\n",
       "</style>\n",
       "<table border=\"1\" class=\"dataframe\">\n",
       "  <thead>\n",
       "    <tr style=\"text-align: right;\">\n",
       "      <th></th>\n",
       "      <th>Client_ID</th>\n",
       "      <th>Name</th>\n",
       "      <th>Age</th>\n",
       "      <th>Income</th>\n",
       "      <th>TAX</th>\n",
       "      <th>previous sales_#</th>\n",
       "      <th>Num_Contacts</th>\n",
       "      <th>Satisfaction_Score</th>\n",
       "      <th>Sales</th>\n",
       "    </tr>\n",
       "  </thead>\n",
       "  <tbody>\n",
       "    <tr>\n",
       "      <th>count</th>\n",
       "      <td>1000.000000</td>\n",
       "      <td>0.0</td>\n",
       "      <td>1000.000000</td>\n",
       "      <td>996.000000</td>\n",
       "      <td>996.000000</td>\n",
       "      <td>1000.000000</td>\n",
       "      <td>1000.000000</td>\n",
       "      <td>1000.000000</td>\n",
       "      <td>1000.000000</td>\n",
       "    </tr>\n",
       "    <tr>\n",
       "      <th>mean</th>\n",
       "      <td>500.500000</td>\n",
       "      <td>NaN</td>\n",
       "      <td>41.191000</td>\n",
       "      <td>63100.329317</td>\n",
       "      <td>9465.049398</td>\n",
       "      <td>2.052000</td>\n",
       "      <td>3.492000</td>\n",
       "      <td>2.558000</td>\n",
       "      <td>0.269000</td>\n",
       "    </tr>\n",
       "    <tr>\n",
       "      <th>std</th>\n",
       "      <td>288.819436</td>\n",
       "      <td>NaN</td>\n",
       "      <td>12.259234</td>\n",
       "      <td>21638.692537</td>\n",
       "      <td>3245.803881</td>\n",
       "      <td>2.635952</td>\n",
       "      <td>2.399102</td>\n",
       "      <td>1.331318</td>\n",
       "      <td>0.443662</td>\n",
       "    </tr>\n",
       "    <tr>\n",
       "      <th>min</th>\n",
       "      <td>1.000000</td>\n",
       "      <td>NaN</td>\n",
       "      <td>18.000000</td>\n",
       "      <td>5000.000000</td>\n",
       "      <td>750.000000</td>\n",
       "      <td>-7.000000</td>\n",
       "      <td>1.000000</td>\n",
       "      <td>1.000000</td>\n",
       "      <td>0.000000</td>\n",
       "    </tr>\n",
       "    <tr>\n",
       "      <th>25%</th>\n",
       "      <td>250.750000</td>\n",
       "      <td>NaN</td>\n",
       "      <td>31.000000</td>\n",
       "      <td>46277.750000</td>\n",
       "      <td>6941.662500</td>\n",
       "      <td>0.000000</td>\n",
       "      <td>2.000000</td>\n",
       "      <td>1.000000</td>\n",
       "      <td>0.000000</td>\n",
       "    </tr>\n",
       "    <tr>\n",
       "      <th>50%</th>\n",
       "      <td>500.500000</td>\n",
       "      <td>NaN</td>\n",
       "      <td>40.500000</td>\n",
       "      <td>62770.500000</td>\n",
       "      <td>9415.575000</td>\n",
       "      <td>1.000000</td>\n",
       "      <td>3.000000</td>\n",
       "      <td>2.000000</td>\n",
       "      <td>0.000000</td>\n",
       "    </tr>\n",
       "    <tr>\n",
       "      <th>75%</th>\n",
       "      <td>750.250000</td>\n",
       "      <td>NaN</td>\n",
       "      <td>51.000000</td>\n",
       "      <td>80618.000000</td>\n",
       "      <td>12092.700000</td>\n",
       "      <td>4.000000</td>\n",
       "      <td>5.000000</td>\n",
       "      <td>3.000000</td>\n",
       "      <td>1.000000</td>\n",
       "    </tr>\n",
       "    <tr>\n",
       "      <th>max</th>\n",
       "      <td>1000.000000</td>\n",
       "      <td>NaN</td>\n",
       "      <td>125.000000</td>\n",
       "      <td>165355.000000</td>\n",
       "      <td>24803.250000</td>\n",
       "      <td>25.000000</td>\n",
       "      <td>33.000000</td>\n",
       "      <td>5.000000</td>\n",
       "      <td>1.000000</td>\n",
       "    </tr>\n",
       "  </tbody>\n",
       "</table>\n",
       "</div>"
      ],
      "text/plain": [
       "         Client_ID  Name          Age         Income           TAX  \\\n",
       "count  1000.000000   0.0  1000.000000     996.000000    996.000000   \n",
       "mean    500.500000   NaN    41.191000   63100.329317   9465.049398   \n",
       "std     288.819436   NaN    12.259234   21638.692537   3245.803881   \n",
       "min       1.000000   NaN    18.000000    5000.000000    750.000000   \n",
       "25%     250.750000   NaN    31.000000   46277.750000   6941.662500   \n",
       "50%     500.500000   NaN    40.500000   62770.500000   9415.575000   \n",
       "75%     750.250000   NaN    51.000000   80618.000000  12092.700000   \n",
       "max    1000.000000   NaN   125.000000  165355.000000  24803.250000   \n",
       "\n",
       "       previous sales_#   Num_Contacts  Satisfaction_Score        Sales  \n",
       "count        1000.000000   1000.000000         1000.000000  1000.000000  \n",
       "mean            2.052000      3.492000            2.558000     0.269000  \n",
       "std             2.635952      2.399102            1.331318     0.443662  \n",
       "min            -7.000000      1.000000            1.000000     0.000000  \n",
       "25%             0.000000      2.000000            1.000000     0.000000  \n",
       "50%             1.000000      3.000000            2.000000     0.000000  \n",
       "75%             4.000000      5.000000            3.000000     1.000000  \n",
       "max            25.000000     33.000000            5.000000     1.000000  "
      ]
     },
     "execution_count": 33,
     "metadata": {},
     "output_type": "execute_result"
    }
   ],
   "source": [
    "df.describe()"
   ]
  },
  {
   "cell_type": "code",
   "execution_count": 28,
   "metadata": {},
   "outputs": [],
   "source": [
    "# Homogenise column names in the data set\n",
    "df = df.rename({\n",
    "    'previous sales_# ':'Previous_sales',\n",
    "    'Type_of_Products':'Type_products',\n",
    "    'Contact_Channel':'Contact_channel',\n",
    "    'Num_Contacts':'Num_contacts',\n",
    "    'Satisfaction_Score':'Satisfaction_score'\n",
    "    }, axis=1)"
   ]
  },
  {
   "cell_type": "code",
   "execution_count": 27,
   "metadata": {},
   "outputs": [
    {
     "data": {
      "text/plain": [
       "previous sales_# \n",
       " 0     425\n",
       " 1     131\n",
       " 2     104\n",
       " 4      95\n",
       " 3      76\n",
       " 6      52\n",
       " 5      49\n",
       " 7      23\n",
       " 8      21\n",
       " 9      14\n",
       " 10      6\n",
       " 20      1\n",
       " 25      1\n",
       "-5       1\n",
       "-7       1\n",
       "Name: count, dtype: int64"
      ]
     },
     "execution_count": 27,
     "metadata": {},
     "output_type": "execute_result"
    }
   ],
   "source": [
    "df['previous sales_# '].value_counts()"
   ]
  },
  {
   "cell_type": "markdown",
   "metadata": {},
   "source": [
    "# EDA"
   ]
  }
 ],
 "metadata": {
  "kernelspec": {
   "display_name": "Python 3",
   "language": "python",
   "name": "python3"
  },
  "language_info": {
   "codemirror_mode": {
    "name": "ipython",
    "version": 3
   },
   "file_extension": ".py",
   "mimetype": "text/x-python",
   "name": "python",
   "nbconvert_exporter": "python",
   "pygments_lexer": "ipython3",
   "version": "3.8.8"
  }
 },
 "nbformat": 4,
 "nbformat_minor": 2
}
