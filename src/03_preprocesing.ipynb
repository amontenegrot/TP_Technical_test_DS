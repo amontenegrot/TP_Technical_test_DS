{
 "cells": [
  {
   "cell_type": "code",
   "execution_count": 1,
   "metadata": {},
   "outputs": [],
   "source": [
    "import pandas as pd\n",
    "\n",
    "from features import analytical_tools\n",
    "from utils import helper_funtions"
   ]
  },
  {
   "cell_type": "code",
   "execution_count": 2,
   "metadata": {},
   "outputs": [],
   "source": [
    "pd.options.display.max_columns = None  # Remove \"dots\" from display when printing dataframes"
   ]
  },
  {
   "cell_type": "code",
   "execution_count": 3,
   "metadata": {},
   "outputs": [],
   "source": [
    "PATH = helper_funtions.get_path()"
   ]
  },
  {
   "cell_type": "markdown",
   "metadata": {},
   "source": [
    "# Read data"
   ]
  },
  {
   "cell_type": "code",
   "execution_count": 4,
   "metadata": {},
   "outputs": [
    {
     "data": {
      "text/html": [
       "<div>\n",
       "<style scoped>\n",
       "    .dataframe tbody tr th:only-of-type {\n",
       "        vertical-align: middle;\n",
       "    }\n",
       "\n",
       "    .dataframe tbody tr th {\n",
       "        vertical-align: top;\n",
       "    }\n",
       "\n",
       "    .dataframe thead th {\n",
       "        text-align: right;\n",
       "    }\n",
       "</style>\n",
       "<table border=\"1\" class=\"dataframe\">\n",
       "  <thead>\n",
       "    <tr style=\"text-align: right;\">\n",
       "      <th></th>\n",
       "      <th>UUID_client</th>\n",
       "      <th>Age</th>\n",
       "      <th>Location</th>\n",
       "      <th>Income</th>\n",
       "      <th>TAX</th>\n",
       "      <th>Previous_sales</th>\n",
       "      <th>Type_products</th>\n",
       "      <th>Contact_channel</th>\n",
       "      <th>Contact_hour</th>\n",
       "      <th>Num_contacts</th>\n",
       "      <th>Satisfaction_score</th>\n",
       "      <th>Sales</th>\n",
       "    </tr>\n",
       "  </thead>\n",
       "  <tbody>\n",
       "    <tr>\n",
       "      <th>140</th>\n",
       "      <td>c26dd0f0-5088-5a0c-8d7c-2cd7b0aba927</td>\n",
       "      <td>50</td>\n",
       "      <td>TX</td>\n",
       "      <td>90576.0</td>\n",
       "      <td>13586.40</td>\n",
       "      <td>1</td>\n",
       "      <td>B</td>\n",
       "      <td>Phone</td>\n",
       "      <td>15:00:00</td>\n",
       "      <td>3</td>\n",
       "      <td>4</td>\n",
       "      <td>1</td>\n",
       "    </tr>\n",
       "    <tr>\n",
       "      <th>814</th>\n",
       "      <td>761e9fe7-330a-5116-b563-a821a974e330</td>\n",
       "      <td>28</td>\n",
       "      <td>IL</td>\n",
       "      <td>56390.0</td>\n",
       "      <td>8458.50</td>\n",
       "      <td>0</td>\n",
       "      <td>C</td>\n",
       "      <td>Online Chat</td>\n",
       "      <td>12:00:00</td>\n",
       "      <td>2</td>\n",
       "      <td>5</td>\n",
       "      <td>0</td>\n",
       "    </tr>\n",
       "    <tr>\n",
       "      <th>181</th>\n",
       "      <td>2bc29c52-441e-5305-9e90-f167c773a86a</td>\n",
       "      <td>32</td>\n",
       "      <td>TX</td>\n",
       "      <td>56987.0</td>\n",
       "      <td>8548.05</td>\n",
       "      <td>2</td>\n",
       "      <td>C</td>\n",
       "      <td>Online Chat</td>\n",
       "      <td>16:00:00</td>\n",
       "      <td>4</td>\n",
       "      <td>3</td>\n",
       "      <td>1</td>\n",
       "    </tr>\n",
       "    <tr>\n",
       "      <th>793</th>\n",
       "      <td>27b23f36-43cb-5b24-a4b3-ec516e45e8f7</td>\n",
       "      <td>53</td>\n",
       "      <td>TX</td>\n",
       "      <td>40983.0</td>\n",
       "      <td>6147.45</td>\n",
       "      <td>6</td>\n",
       "      <td>B</td>\n",
       "      <td>Phone</td>\n",
       "      <td>12:00:00</td>\n",
       "      <td>7</td>\n",
       "      <td>2</td>\n",
       "      <td>0</td>\n",
       "    </tr>\n",
       "    <tr>\n",
       "      <th>571</th>\n",
       "      <td>9d5234b1-e7fe-5b55-8721-f232ffcaa30b</td>\n",
       "      <td>54</td>\n",
       "      <td>FL</td>\n",
       "      <td>48037.0</td>\n",
       "      <td>7205.55</td>\n",
       "      <td>1</td>\n",
       "      <td>C</td>\n",
       "      <td>Phone</td>\n",
       "      <td>14:00:00</td>\n",
       "      <td>4</td>\n",
       "      <td>3</td>\n",
       "      <td>1</td>\n",
       "    </tr>\n",
       "  </tbody>\n",
       "</table>\n",
       "</div>"
      ],
      "text/plain": [
       "                              UUID_client  Age Location   Income       TAX  \\\n",
       "140  c26dd0f0-5088-5a0c-8d7c-2cd7b0aba927   50       TX  90576.0  13586.40   \n",
       "814  761e9fe7-330a-5116-b563-a821a974e330   28       IL  56390.0   8458.50   \n",
       "181  2bc29c52-441e-5305-9e90-f167c773a86a   32       TX  56987.0   8548.05   \n",
       "793  27b23f36-43cb-5b24-a4b3-ec516e45e8f7   53       TX  40983.0   6147.45   \n",
       "571  9d5234b1-e7fe-5b55-8721-f232ffcaa30b   54       FL  48037.0   7205.55   \n",
       "\n",
       "     Previous_sales Type_products Contact_channel Contact_hour  Num_contacts  \\\n",
       "140               1             B           Phone     15:00:00             3   \n",
       "814               0             C     Online Chat     12:00:00             2   \n",
       "181               2             C     Online Chat     16:00:00             4   \n",
       "793               6             B           Phone     12:00:00             7   \n",
       "571               1             C           Phone     14:00:00             4   \n",
       "\n",
       "     Satisfaction_score  Sales  \n",
       "140                   4      1  \n",
       "814                   5      0  \n",
       "181                   3      1  \n",
       "793                   2      0  \n",
       "571                   3      1  "
      ]
     },
     "execution_count": 4,
     "metadata": {},
     "output_type": "execute_result"
    }
   ],
   "source": [
    "df = pd.read_csv(PATH + 'data/data_cleaning.csv')\n",
    "df.sample(n=5).head()"
   ]
  },
  {
   "cell_type": "markdown",
   "metadata": {},
   "source": [
    "# Preprocesing"
   ]
  },
  {
   "cell_type": "code",
   "execution_count": 5,
   "metadata": {},
   "outputs": [],
   "source": [
    "# Determine peak times by rounding the time in groups of one hour \n",
    "df['Contact_hour'] = pd.to_datetime(df['Contact_hour'], format='%H:%M:%S')\n",
    "df['Contact_hour_round'] = df['Contact_hour'].apply(lambda x: x.round('60 min'))\n",
    "\n",
    "df_peak_time = df['Contact_hour_round'].value_counts().head()\n",
    "df_peak_time = df_peak_time.rename_axis('Hour')\n",
    "df_peak_time = df_peak_time.reset_index(name='Count')\n",
    "peak_hours = []\n",
    "for i in range(len(df_peak_time)):\n",
    "    peak_hours.append(df_peak_time['Hour'].iloc[i])\n",
    "\n",
    "for i in range(len(df)):\n",
    "    if df.loc[i, 'Contact_hour_round'] in peak_hours:\n",
    "        df.at[i, 'Is_peak_hour'] = 1\n",
    "    else:\n",
    "        df.at[i, 'Is_peak_hour'] = 0\n",
    "\n",
    "del df_peak_time"
   ]
  },
  {
   "cell_type": "code",
   "execution_count": 6,
   "metadata": {},
   "outputs": [
    {
     "data": {
      "text/plain": [
       "15.0    996\n",
       "Name: TAX_percent, dtype: int64"
      ]
     },
     "execution_count": 6,
     "metadata": {},
     "output_type": "execute_result"
    }
   ],
   "source": [
    "# Obtener el porcentaje de impuesto\n",
    "df['TAX_percent'] = (df['TAX'].mul(100) / df['Income']).round(0)\n",
    "df['TAX_percent'].value_counts()"
   ]
  },
  {
   "cell_type": "markdown",
   "metadata": {},
   "source": [
    "# Simple imputation"
   ]
  },
  {
   "cell_type": "code",
   "execution_count": 7,
   "metadata": {},
   "outputs": [],
   "source": [
    "df_new = df.query(\"Age < 70\")\n",
    "mean_age = df_new['Age'].mean()\n",
    "\n",
    "index = df.query(\"Age > 70\").index[0]\n",
    "\n",
    "df.at[index, 'Age'] = mean_age"
   ]
  },
  {
   "cell_type": "code",
   "execution_count": 8,
   "metadata": {},
   "outputs": [],
   "source": [
    "df_new = df.query(\"Previous_sales > 0\")\n",
    "mean_previous_sales = df_new['Previous_sales'].mean()\n",
    "\n",
    "indexes = []\n",
    "for i in range(0, len(df.query(\"Previous_sales < 0\").index)):\n",
    "    indexes.append(df.query(\"Previous_sales < 0\").index[i])\n",
    "\n",
    "for index in indexes:\n",
    "    df.at[index, 'Previous_sales'] = mean_previous_sales"
   ]
  },
  {
   "cell_type": "code",
   "execution_count": 9,
   "metadata": {},
   "outputs": [
    {
     "data": {
      "text/plain": [
       "181"
      ]
     },
     "execution_count": 9,
     "metadata": {},
     "output_type": "execute_result"
    }
   ],
   "source": [
    "len(df.query(\"Num_contacts > 5\"))"
   ]
  },
  {
   "cell_type": "markdown",
   "metadata": {},
   "source": [
    "# Label encoders"
   ]
  },
  {
   "cell_type": "code",
   "execution_count": null,
   "metadata": {},
   "outputs": [],
   "source": [
    "labels_to_encoders_name = {\n",
    "    'Contact_channel':'Contact_channel_ENC',\n",
    "    'Type_products':'Type_products_ENC'}\n",
    "\n",
    "for var_encoder, encoder_name in labels_to_encoders_name.items():\n",
    "    analytical_tools.label_encoder(var_encoder, encoder_name, df)"
   ]
  },
  {
   "cell_type": "code",
   "execution_count": 13,
   "metadata": {},
   "outputs": [
    {
     "data": {
      "text/html": [
       "<div>\n",
       "<style scoped>\n",
       "    .dataframe tbody tr th:only-of-type {\n",
       "        vertical-align: middle;\n",
       "    }\n",
       "\n",
       "    .dataframe tbody tr th {\n",
       "        vertical-align: top;\n",
       "    }\n",
       "\n",
       "    .dataframe thead th {\n",
       "        text-align: right;\n",
       "    }\n",
       "</style>\n",
       "<table border=\"1\" class=\"dataframe\">\n",
       "  <thead>\n",
       "    <tr style=\"text-align: right;\">\n",
       "      <th></th>\n",
       "      <th>Contact_channel_ENC</th>\n",
       "      <th>Contact_channel</th>\n",
       "    </tr>\n",
       "  </thead>\n",
       "  <tbody>\n",
       "    <tr>\n",
       "      <th>0</th>\n",
       "      <td>0</td>\n",
       "      <td>Email</td>\n",
       "    </tr>\n",
       "    <tr>\n",
       "      <th>1</th>\n",
       "      <td>2</td>\n",
       "      <td>Phone</td>\n",
       "    </tr>\n",
       "    <tr>\n",
       "      <th>2</th>\n",
       "      <td>1</td>\n",
       "      <td>Online Chat</td>\n",
       "    </tr>\n",
       "    <tr>\n",
       "      <th>3</th>\n",
       "      <td>0</td>\n",
       "      <td>Email</td>\n",
       "    </tr>\n",
       "    <tr>\n",
       "      <th>4</th>\n",
       "      <td>0</td>\n",
       "      <td>Email</td>\n",
       "    </tr>\n",
       "  </tbody>\n",
       "</table>\n",
       "</div>"
      ],
      "text/plain": [
       "   Contact_channel_ENC Contact_channel\n",
       "0                    0           Email\n",
       "1                    2           Phone\n",
       "2                    1     Online Chat\n",
       "3                    0           Email\n",
       "4                    0           Email"
      ]
     },
     "execution_count": 13,
     "metadata": {},
     "output_type": "execute_result"
    }
   ],
   "source": [
    "df[['Contact_channel','Contact_channel_ENC',\n",
    "    'Type_products','Type_products_ENC']].head()"
   ]
  },
  {
   "cell_type": "markdown",
   "metadata": {},
   "source": [
    "# Save"
   ]
  },
  {
   "cell_type": "code",
   "execution_count": null,
   "metadata": {},
   "outputs": [],
   "source": [
    "# df.to_csv(PATH + 'data/data_preprocesing.csv', index=False, encoding='utf-8')"
   ]
  },
  {
   "cell_type": "code",
   "execution_count": null,
   "metadata": {},
   "outputs": [],
   "source": [
    "df.sample(n=5).head()"
   ]
  }
 ],
 "metadata": {
  "kernelspec": {
   "display_name": "Python 3",
   "language": "python",
   "name": "python3"
  },
  "language_info": {
   "codemirror_mode": {
    "name": "ipython",
    "version": 3
   },
   "file_extension": ".py",
   "mimetype": "text/x-python",
   "name": "python",
   "nbconvert_exporter": "python",
   "pygments_lexer": "ipython3",
   "version": "3.9.13"
  }
 },
 "nbformat": 4,
 "nbformat_minor": 2
}
